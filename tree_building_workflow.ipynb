{
 "cells": [
  {
   "cell_type": "markdown",
   "metadata": {},
   "source": [
    "# The Plan\n",
    "\n",
    "0. Make sure you have all tools installed. mafft, trimal, iqtree at the very least.\n",
    "1. Get a set of sequences to build a tree of.\n",
    "2. Align these to each other.\n",
    "4. Trim the alignment, removing gaps.\n",
    "3. Build a fast phylogentic tree.\n",
    "4. Build a thorough phylogenetic tree.\n"
   ]
  },
  {
   "cell_type": "markdown",
   "metadata": {},
   "source": [
    "# Composing your fasta"
   ]
  },
  {
   "cell_type": "markdown",
   "metadata": {},
   "source": [
    "Let's look at what we have"
   ]
  },
  {
   "cell_type": "code",
   "execution_count": 1,
   "metadata": {
    "scrolled": true
   },
   "outputs": [
    {
     "name": "stdout",
     "output_type": "stream",
     "text": [
      ".\n",
      "├── analyses\n",
      "├── data\n",
      "│   ├── 1kP_LAR_orthogroup.fasta\n",
      "│   └── Erbils_guide_v3.fasta\n",
      "└── tree_building_workflow.ipynb\n",
      "\n",
      "2 directories, 3 files\n"
     ]
    }
   ],
   "source": [
    "tree"
   ]
  },
  {
   "cell_type": "code",
   "execution_count": 91,
   "metadata": {},
   "outputs": [],
   "source": [
    "inseq=1kP_LAR_orthogroup"
   ]
  },
  {
   "cell_type": "code",
   "execution_count": 92,
   "metadata": {
    "scrolled": true
   },
   "outputs": [
    {
     "name": "stdout",
     "output_type": "stream",
     "text": [
      ">KTWL-2000328-Kaliphora_madagascariensis\n",
      "GGTGYIGKFLVEASAKAGHPTFAFAREITVSDPLKGKLVESFKNSGVTLVHGDLYDHSSLVKAIKQVDVVISTVGQGQLNDQGKIIDAIKEAGNVKKFYPSEFGVDVDRQHAVEPAKFTFTGKAQFRRAIEAAGIPHTFLVSNAFAGYVLPTLGQPGVSAPPHDKVVILGDGNAKAVVNEEHDIGTFTIKTVDDPRTLNKIVYIRPPKNTVSFNEIVAIWERTIGKTLEKEYVSEEQLLKQIKEAPPPLNYMLSIYHAYLVKGDSANFAIEPSGVEASELYPDVNYTTVEEYI\n",
      ">QSNJ-2064790-Taiwania_cryptomerioides\n",
      "KSKVLIFGATGYMGHFIAIASLDSDHPTFVFIRPSSLEDPARAQILSNLRSSGIHFITGSLEDHESLVRAIQGMDVVISVLGGGQIMEQLKIIDAIKQVGTVKRFLPSEFGHDVDRAEPVEPALGFYESKRRIRRATEEAKIGYTYICCNSIAGWPYHYHTHPSKMFPPTDKIHIYGNGNIKAYFMTGKDIGSYTMRAIEDPRTLNKKLHFRPADNFLTMNELAVMWQKQLGKKLPMAVISEEDLLKCARANVMPASIVAALTHDIFIKGCQYNFSIEGDEDEEACQLYPDIKYTKLEDYFSSF\n",
      ">URCP-2006931-Athyrium_filix_femina\n",
      "MASKSKVLVIGATGYIGQHIAQAGPAQGHPTFVLVRPSSLSSKATLIHSFKLAGITILEGSLDDYESLVAAIKQVDVVISALGSNTLDQLKIVEAIKEVGTIKRFFPSEFGNDVDRVKALEPASQVFGLKVQVRRAIEEAGIPYTYVVSNGFAGYFLRSLLQPGLQSPPRDKVSIYGSGDVKFITASEEDIGAYTIKAVDDPRTLNKTLHIRPAANIVTINSLVELWEKLIGKTLEKVTVTAEDIVKQIQETPFPNNIFPAILHDIVIQGDHCNFELGPKDVEATTLYPDHKYTTSEEYLAKFV\n",
      ">ROLB-2007609-Oenothera_elata-multiple_tissue_pool\n",
      "NKQRFLPSEFGNDVDRVNAVGPAKLAFGIKANIRRAIETEGIPYTYVVNNFFAGYFLPTLLQPGATAPPRDQVVIPGNGNPKAIFNKEEDIGTYTIKAVDDPRTLNKTYTIKAVDDPRTLNKILYLRPPKNIYSFNELVALWENKIGHTLKKIYVLEDQILKDIQEASDGRFRSLTMNAFQSINHSVFVKGDQTNFDIEPAFGVEASQ\n",
      ">RFSD-2005689-RFSD-Lactuca_graminifolia-2_samples_combined\n",
      "EEEIALTTIKTVDDRRTLNKALIFRPPGNTLSFNEIVSIWESKIGKTLVKTYVSAEQLLKNIQEAPFGLSIELSVLHSVLVNGSSTNFDIEPSFGVEASELYPEVKYTTIDEYLT\n"
     ]
    }
   ],
   "source": [
    "head data/$inseq.fasta"
   ]
  },
  {
   "cell_type": "code",
   "execution_count": 93,
   "metadata": {},
   "outputs": [
    {
     "name": "stdout",
     "output_type": "stream",
     "text": [
      "7449\n"
     ]
    }
   ],
   "source": [
    "grep '>' data/$inseq.fasta -c"
   ]
  },
  {
   "cell_type": "code",
   "execution_count": 7,
   "metadata": {},
   "outputs": [
    {
     "name": "stdout",
     "output_type": "stream",
     "text": [
      "shuf: write error: Broken pipe\n",
      "shuf: write error\n"
     ]
    }
   ],
   "source": [
    "n=700\n",
    "grep '>' data/$inseq.fasta | tr -d '>' | shuf | head -n $n > data/\"$inseq\"_random\"$n\".txt"
   ]
  },
  {
   "cell_type": "code",
   "execution_count": 94,
   "metadata": {},
   "outputs": [],
   "source": [
    "grep '>'  ../LAR_tree/alignments_raw/LAR_orthogroup_LARselectionExtraFernsAndLycophytes_guide2_aligned-mafft-linsi.fasta | tr -d '>' | tail -n +49 > data/\"$inseq\"_random\"$n\".txt"
   ]
  },
  {
   "cell_type": "code",
   "execution_count": 95,
   "metadata": {},
   "outputs": [
    {
     "name": "stdout",
     "output_type": "stream",
     "text": [
      "698 ./data/1kP_LAR_orthogroup_random700.txt\n"
     ]
    }
   ],
   "source": [
    "wc -l ./data/\"$inseq\"_random700.txt"
   ]
  },
  {
   "cell_type": "code",
   "execution_count": 96,
   "metadata": {},
   "outputs": [
    {
     "name": "stdout",
     "output_type": "stream",
     "text": [
      "Klefl_v1_0-kfl00402_0160-Klebsormidium_flaccidum\n",
      "AKXB-2007298-Phaeomegaceros_coriaceus\n",
      "AKXB-2067781-Phaeomegaceros_coriaceus\n",
      "JKKI-2057061-Lobomonas_rostrata\n",
      "Klefl_v1_0-kfl00034_0150-Klebsormidium_flaccidum\n",
      "AKXB-2064674-Phaeomegaceros_coriaceus\n",
      "RCBT-2175720-Sphagnum_palustre\n",
      "RSOF-2008002-Glaucosphaera_vacuolata\n",
      "AKXB-2001848-Phaeomegaceros_coriaceus\n",
      "BAZF-2006540-Chaetopeltis_orbicularis\n"
     ]
    }
   ],
   "source": [
    "head data/\"$inseq\"_random\"$n\".txt"
   ]
  },
  {
   "cell_type": "code",
   "execution_count": 97,
   "metadata": {},
   "outputs": [],
   "source": [
    "/opt/rnaseq/bin/extract_sequence_by_id.pl --ID=<(sort data/\"$inseq\"_random\"$n\".txt | uniq) \\\n",
    "                                          --fileformat=txt \\\n",
    "                                          --sequences=data/$inseq.fasta \\\n",
    "                                          --outfile=data/\"$inseq\"_random\"$n\".fasta"
   ]
  },
  {
   "cell_type": "code",
   "execution_count": 107,
   "metadata": {},
   "outputs": [
    {
     "name": "stdout",
     "output_type": "stream",
     "text": [
      "644\n"
     ]
    }
   ],
   "source": [
    "grep '>' -c data/\"$inseq\"_random\"$n\".fasta"
   ]
  },
  {
   "cell_type": "code",
   "execution_count": 98,
   "metadata": {},
   "outputs": [
    {
     "name": "stdout",
     "output_type": "stream",
     "text": [
      "1kP_LAR_orthogroup.fasta                    alignments_raw\n",
      "1kP_LAR_orthogroup_random700.fasta          alignments_trimmed\n",
      "1kP_LAR_orthogroup_random700_guidev3.fasta  Erbils_guide_v3.fasta\n",
      "1kP_LAR_orthogroup_random700.txt\n"
     ]
    }
   ],
   "source": [
    "ls data"
   ]
  },
  {
   "cell_type": "code",
   "execution_count": 99,
   "metadata": {},
   "outputs": [
    {
     "name": "stdout",
     "output_type": "stream",
     "text": [
      ">YSRZ-2016241-Fouqueria_macdougalli\n",
      "MQKSKVLIVGGTGYLGRRLVKASLALEHETYVLRRPEIGVDIDKAQMLLSFKKEGAHLVPGSFDDHRSLVDAVKMVDVVIRSHQILLQLKLVDAIKEAGNVKRFLPSEFGTDPAKMENAMEPGRVTFDDKMVVRKAIEDAGIPHTYVSANCFAGYFIGGLCQPGQIFPSKDHVVLLGDGNQKAIYVDEDDIATYTIKTIDDPQTINKTLYLRPPENILSQREVIQIWEKLIGKELQKSSISSEQFLATMKEQDYAEQVGLTHYYHVCYEGCLANFEIGDE\n",
      ">HJMP-2011848-Astragalus_membranaceus\n",
      "TLNKTLLLRPSANTLTFNELVSLWENKIKSTIHKIYIPEEKLLKTIQETPFPGNLISALCHSILVKGDSANFDIDPSFCVEGTGLYPEVKYTTVDNYLNAFV\n",
      ">OSIP-2125743-Garcinia_livingstonei\n",
      "SPNILEACLGRTLIIGSTGFIGGFVAEASVETGRPTYLLIRPGTSKISTIRSLQEKGATILYGSINDQDIIERVLREHKIEYVISAVGGVSTVDQVNLVKAIKSVGSVKRFLPSEFGHDIDRTEPVEPGLTMYREKRMVRRAVEEAGIPYTYICCNSIAAWPYHDNIHPADVLPPLDRFLIYGDGSVKAYFVAGTDIGRFTMKVLDDDRTLNKTVHFQPPSNLLNVNELASLWEDKIGRKLPRFTVTEADLLTAAKEMPIPKSIVAALTHDIFINGCQINYTMDKEIDVEICSLYPDTPLRTIDQCFDDFLAKVVANRKPIKNPAAKN\n",
      ">TVCU-2006094-Ochna_mossambicensis\n",
      "PNVSEAGRTLVVGSTGFIGRFVTDACIDSGIPTYVLVRSGPVSASKDSAIKSFQDKGATIIHGSMDDQELMMKILKDYKIEFVISAVGGDSILDQIKLVNAVKEVGTVKRFLPSEFGHDIDRADPVEPGLTMYNEKRKVRRCIEEAGIPYTYICCNSIAAWPYHDNTHPADVPPSDQFHIYGDGSVKAYFVAGTDIGKFTVKALTDDRTLNKIVHFQPPSNMLNINELASLWEQKLGLKLPRVTITEDDLLAAAAEMKIPESIVASFTHDIFIKGCQLFSVANPNDVEVCSLYPDTPFRTMDECFTDFAAKIVAENPKIVEK\n",
      ">PEZP-2001925-Glycyrrhiza_glabra\n",
      "NVKRFFPSEFGLDVDRHDAVEPVREVFEDKARIRRVIEAEGVPYTYLCCHAFTGYFLRNLAQLDATVPPRDKVVYVTEADVGTYTIRAANDPRTLNKAVHIRLPANYLTANEVVSLWEKKIGK\n"
     ]
    }
   ],
   "source": [
    "head data/1kP_LAR_orthogroup_random700.fasta"
   ]
  },
  {
   "cell_type": "code",
   "execution_count": 100,
   "metadata": {},
   "outputs": [
    {
     "name": "stdout",
     "output_type": "stream",
     "text": [
      ">Ocimum tenuiflorum EGS (AOC97444)\n",
      "MEENGMKSKILIFGGTGYIGNHMVKGSLKLGHPTYVFTRPNSTKTALLNEFQSMGAIIVKGEMGEHEKLV\n",
      "RLMKKVDVVISAVAIPQVLEQLKIVEAIKVAGNIKRFLPSDFGVEEDRISALPPFEACIEKKRIIRRAIE\n",
      "EANIPYTYVSANCFASYFINYLLHPSDPKDEITVYGTGEVKFAMNYEQDIGLYTIKVATDPRTLNRVVIY\n",
      "RPSTNITTQLELISKWEKKIGRNFKKIHIPEEEIVALTKELPEPENIPVAILHCVFIKGVTMSYDFKEND\n",
      "VEASTLYPELKFTTIDELLDIFLHDPPPPASAAF\n",
      "\n",
      ">Clarkia breweri IGS (ABR24112)\n",
      "MEKIIIYGGTGYIGKFMVRASLSFSHPTFIYARPLTPDSTPSSVQLREEFRSMGVTIIEGEMEEHEKMVS\n",
      "VLRQVDVVISALSVPMYPSQLLIIDAIKAAGNIKRFLPSEFGSEEDRIKPLPPFESVLEKKRIIRRAIEA\n"
     ]
    }
   ],
   "source": [
    "head data/Erbils_guide_v3.fasta "
   ]
  },
  {
   "cell_type": "code",
   "execution_count": 101,
   "metadata": {},
   "outputs": [],
   "source": [
    "cat data/Erbils_guide_v3.fasta > data/1kP_LAR_orthogroup_random700_guidev3.fasta"
   ]
  },
  {
   "cell_type": "code",
   "execution_count": 102,
   "metadata": {},
   "outputs": [],
   "source": [
    "echo \"\\n\" >> data/1kP_LAR_orthogroup_random700_guidev3.fasta"
   ]
  },
  {
   "cell_type": "code",
   "execution_count": 105,
   "metadata": {},
   "outputs": [],
   "source": [
    "cat data/1kP_LAR_orthogroup_random700.fasta >> data/1kP_LAR_orthogroup_random700_guidev3.fasta"
   ]
  },
  {
   "cell_type": "code",
   "execution_count": 106,
   "metadata": {},
   "outputs": [
    {
     "name": "stdout",
     "output_type": "stream",
     "text": [
      "680\n"
     ]
    }
   ],
   "source": [
    "grep '>' -c ./data/1kP_LAR_orthogroup_random700_guidev3.fasta"
   ]
  },
  {
   "cell_type": "code",
   "execution_count": 108,
   "metadata": {},
   "outputs": [
    {
     "name": "stdout",
     "output_type": "stream",
     "text": [
      "1kP_LAR_orthogroup_random700_guidev3\n"
     ]
    }
   ],
   "source": [
    "inseq=\"$inseq\"_random\"$n\"_guidev3\n",
    "echo $inseq"
   ]
  },
  {
   "cell_type": "code",
   "execution_count": 109,
   "metadata": {},
   "outputs": [
    {
     "name": "stdout",
     "output_type": "stream",
     "text": [
      ">Ocimum tenuiflorum EGS (AOC97444)\n",
      "MEENGMKSKILIFGGTGYIGNHMVKGSLKLGHPTYVFTRPNSTKTALLNEFQSMGAIIVKGEMGEHEKLV\n",
      "RLMKKVDVVISAVAIPQVLEQLKIVEAIKVAGNIKRFLPSDFGVEEDRISALPPFEACIEKKRIIRRAIE\n",
      "EANIPYTYVSANCFASYFINYLLHPSDPKDEITVYGTGEVKFAMNYEQDIGLYTIKVATDPRTLNRVVIY\n",
      "RPSTNITTQLELISKWEKKIGRNFKKIHIPEEEIVALTKELPEPENIPVAILHCVFIKGVTMSYDFKEND\n",
      "VEASTLYPELKFTTIDELLDIFLHDPPPPASAAF\n",
      "\n",
      ">Clarkia breweri IGS (ABR24112)\n",
      "MEKIIIYGGTGYIGKFMVRASLSFSHPTFIYARPLTPDSTPSSVQLREEFRSMGVTIIEGEMEEHEKMVS\n",
      "VLRQVDVVISALSVPMYPSQLLIIDAIKAAGNIKRFLPSEFGSEEDRIKPLPPFESVLEKKRIIRRAIEA\n"
     ]
    }
   ],
   "source": [
    "head data/$inseq.fasta"
   ]
  },
  {
   "cell_type": "markdown",
   "metadata": {},
   "source": [
    "# Aligning\n",
    "\n",
    "### Either run everything one by one..."
   ]
  },
  {
   "cell_type": "markdown",
   "metadata": {},
   "source": [
    "First with MAFFT"
   ]
  },
  {
   "cell_type": "code",
   "execution_count": 27,
   "metadata": {},
   "outputs": [
    {
     "name": "stdout",
     "output_type": "stream",
     "text": [
      "------------------------------------------------------------------------------\n",
      "  MAFFT v7.429 (2019/Jul/1)\n",
      "  https://mafft.cbrc.jp/alignment/software/\n",
      "  MBE 30:772-780 (2013), NAR 30:3059-3066 (2002)\n",
      "------------------------------------------------------------------------------\n",
      "High speed:\n",
      "  % mafft in > out\n",
      "  % mafft --retree 1 in > out (fast)\n",
      "\n",
      "High accuracy (for <~200 sequences x <~2,000 aa/nt):\n",
      "  % mafft --maxiterate 1000 --localpair  in > out (% linsi in > out is also ok)\n",
      "  % mafft --maxiterate 1000 --genafpair  in > out (% einsi in > out)\n",
      "  % mafft --maxiterate 1000 --globalpair in > out (% ginsi in > out)\n",
      "\n",
      "If unsure which option to use:\n",
      "  % mafft --auto in > out\n",
      "\n",
      "--op # :         Gap opening penalty, default: 1.53\n",
      "--ep # :         Offset (works like gap extension penalty), default: 0.0\n",
      "--maxiterate # : Maximum number of iterative refinement, default: 0\n",
      "--clustalout :   Output: clustal format, default: fasta\n",
      "--reorder :      Outorder: aligned, default: input order\n",
      "--quiet :        Do not report progress\n",
      "--thread # :     Number of threads (if unsure, --thread -1)\n",
      "--dash :         Add structural information (Rozewicki et al, submitted)\n"
     ]
    },
    {
     "ename": "",
     "evalue": "1",
     "output_type": "error",
     "traceback": []
    }
   ],
   "source": [
    "mafft --help"
   ]
  },
  {
   "cell_type": "markdown",
   "metadata": {},
   "source": [
    "This is probably the most acurate mafft setting, which is turned off by default in normal or auto mafft for alignments bigger than 200 sequences. Since We're moving to a publication quality tree, let's do is this way and see. "
   ]
  },
  {
   "cell_type": "code",
   "execution_count": 134,
   "metadata": {},
   "outputs": [
    {
     "name": "stdout",
     "output_type": "stream",
     "text": [
      "(phylogenetics) "
     ]
    },
    {
     "ename": "",
     "evalue": "1",
     "output_type": "error",
     "traceback": []
    }
   ],
   "source": [
    "conda activate phylogenetics"
   ]
  },
  {
   "cell_type": "code",
   "execution_count": 112,
   "metadata": {
    "scrolled": true
   },
   "outputs": [
    {
     "name": "stdout",
     "output_type": "stream",
     "text": [
      "(phylogenetics) (phylogenetics) outputhat23=16\n",
      "treein = 0\n",
      "compacttree = 0\n",
      "stacksize: 8192 kb\n",
      "rescale = 1\n",
      "All-to-all alignment.\n",
      "tbfast-pair (aa) Version 7.455\n",
      "alg=L, model=BLOSUM62, 2.00, -0.10, +0.10, noshift, amax=0.0\n",
      "6 thread(s)\n",
      "\n",
      "outputhat23=16\n",
      "Loading 'hat3.seed' ... \n",
      "done.\n",
      "Writing hat3 for iterative refinement\n",
      "rescale = 1\n",
      "Gap Penalty = -1.53, +0.00, +0.00\n",
      "tbutree = 1, compacttree = 0\n",
      "Constructing a UPGMA tree ... \n",
      "  670 / 680\n",
      "done.\n",
      "\n",
      "Progressive alignment ... \n",
      "STEP   615 /679 (thread    3) \n",
      "Reallocating (by thread 4) ..done. *alloclen = 1883\n",
      "STEP   679 /679 (thread    0) \n",
      "done.\n",
      "tbfast (aa) Version 7.455\n",
      "alg=A, model=BLOSUM62, 1.53, -0.00, -0.00, noshift, amax=0.0\n",
      "6 thread(s)\n",
      "\n",
      "minimumweight = 0.000010\n",
      "autosubalignment = 0.000000\n",
      "nthread = 6\n",
      "randomseed = 0\n",
      "blosum 62 / kimura 200\n",
      "poffset = 0\n",
      "niter = 16\n",
      "sueff_global = 0.100000\n",
      "nadd = 16\n",
      "Loading 'hat3' ... done.\n",
      "rescale = 1\n",
      "\n",
      "  670 / 680\n",
      "Segment   1/  1    1- 966\n",
      "005-1356-1 (thread    2) worse         \n",
      "Converged.\n",
      "\n",
      "Converged2.\n",
      "done\n",
      "dvtditr (aa) Version 7.455\n",
      "alg=A, model=BLOSUM62, 1.53, -0.00, -0.00, noshift, amax=0.0\n",
      "6 thread(s)\n",
      "\n",
      "\n",
      "Strategy:\n",
      " L-INS-i (Probably most accurate, very slow)\n",
      " Iterative refinement method (<16) with LOCAL pairwise alignment information\n",
      "\n",
      "If unsure which option to use, try 'mafft --auto input > output'.\n",
      "For more information, see 'mafft --help', 'mafft --man' and the mafft page.\n",
      "\n",
      "The default gap scoring scheme has been changed in version 7.110 (2013 Oct).\n",
      "It tends to insert more gaps into gap-rich regions than previous versions.\n",
      "To disable this change, add the --leavegappyregion option.\n",
      "\n",
      "(phylogenetics) "
     ]
    },
    {
     "ename": "",
     "evalue": "1",
     "output_type": "error",
     "traceback": []
    }
   ],
   "source": [
    "#rm \"./data/alignments_raw/$inseq\"_aligned-mafft-linsi.fasta\n",
    "if    [ ! -d ./data/alignments_raw/ ]\n",
    "then  mkdir  ./data/alignments_raw\n",
    "fi\n",
    "if    [ ! -f \"./data/alignments_raw/$inseq\"_aligned-mafft.fasta ]\n",
    "then  linsi --thread 6 data/$inseq.fasta > \"./data/alignments_raw/$inseq\"_aligned-mafft-linsi.fasta\n",
    "fi"
   ]
  },
  {
   "cell_type": "code",
   "execution_count": 113,
   "metadata": {},
   "outputs": [
    {
     "name": "stdout",
     "output_type": "stream",
     "text": [
      "1kP_LAR_orthogroup_random700_guidev3_aligned-mafft-linsi.fasta\n",
      "(phylogenetics) "
     ]
    },
    {
     "ename": "",
     "evalue": "1",
     "output_type": "error",
     "traceback": []
    }
   ],
   "source": [
    "ls ./data/alignments_raw"
   ]
  },
  {
   "cell_type": "code",
   "execution_count": 114,
   "metadata": {},
   "outputs": [
    {
     "name": "stdout",
     "output_type": "stream",
     "text": [
      ">Ocimum tenuiflorum EGS (AOC97444)\n",
      "ME---------------------------------ENGM------KSKILIFGGT-----\n",
      "---G-Y-IGNHMVKGSLKL---------------------GHPTYVFTR-P---------\n",
      "---------------------------N------S-TKTA-LLNEFQSM-G-AII-----\n",
      "-------------------------V--------------------------KG------\n",
      "------------------------EM-G-EH-----EK-LVRLMK---------------\n",
      "-----KVD-----------------VVISAV-A-------I----------PQV-LE---\n",
      "QLKIVE---------------AIKVAG-N-IK----------------------------\n",
      "-----------RFLPS---------DFGV-----EEDR--I-S---A--LPPF-----E-\n",
      "A----CI-EKKR-IIRRAIEE-----A-----NIPYTYVSANCFAS-YFINYLL--H-P-\n",
      "(phylogenetics) "
     ]
    },
    {
     "ename": "",
     "evalue": "1",
     "output_type": "error",
     "traceback": []
    }
   ],
   "source": [
    "head ./data/alignments_raw/1kP_LAR_orthogroup_random700_guidev3_aligned-mafft-linsi.fasta"
   ]
  },
  {
   "cell_type": "markdown",
   "metadata": {},
   "source": [
    "## Alignment trimming\n",
    "\n",
    "odds are, your alignment is quite gappy which may confuse tree building algorithms. Often it is better to remove gappy columns in your alignment. Let's have a look at this with `trimAl`. Short for 'trim alignment' No Artificial intelegence stuff going on here."
   ]
  },
  {
   "cell_type": "code",
   "execution_count": 135,
   "metadata": {},
   "outputs": [
    {
     "name": "stdout",
     "output_type": "stream",
     "text": [
      "\n",
      "trimAl v1.4.rev15 build[2013-12-17]. 2009-2013. Salvador Capella-Gutierrez and Toni Gabaldón.\n",
      "\n",
      "trimAl webpage: http://trimal.cgenomics.org\n",
      "\n",
      "This program is free software: you can redistribute it and/or modify \n",
      "it under the terms of the GNU General Public License as published by \n",
      "the Free Software Foundation, the last available version.\n",
      "\n",
      "Please cite:\n",
      "\t\ttrimAl: a tool for automated alignment trimming in large-scale phylogenetic analyses.\n",
      "\t\tSalvador Capella-Gutierrez; Jose M. Silla-Martinez; Toni Gabaldon.\n",
      "\t\tBioinformatics 2009, 25:1972-1973.\n",
      "\n",
      "Basic usage\n",
      "\ttrimal -in <inputfile> -out <outputfile> -(other options).\n",
      "\n",
      "Common options (for a complete list please see the User Guide or visit http://trimal.cgenomics.org):\n",
      "\n",
      "    -h                       Print this information and show some examples.\n",
      "    --version                Print the trimAl version.\n",
      "\n",
      "    -in <inputfile>          Input file in several formats (clustal, fasta, NBRF/PIR, nexus, phylip3.2, phylip).\n",
      "\n",
      "    -compareset <inputfile>  Input list of paths for the files containing the alignments to compare.\n",
      "    -forceselect <inputfile> Force selection of the given input file in the files comparison method.\n",
      "\n",
      "    -backtrans <inputfile>   Use a Coding Sequences file to get a backtranslation for a given AA alignment\n",
      "    -ignorestopcodon         Ignore stop codons in the input coding sequences\n",
      "    -splitbystopcodon        Split input coding sequences up to first stop codon appearance\n",
      "\n",
      "    -matrix <inpufile>       Input file for user-defined similarity matrix (default is Blosum62).\n",
      "\n",
      "    -out <outputfile>        Output alignment in the same input format (default stdout). (default input format)\n",
      "    -htmlout <outputfile>    Get a summary of trimal's work in an HTML file.\n",
      "\n",
      "    -keepheader              Keep original sequence header including non-alphanumeric characters.\n",
      "                             Only available for input FASTA format files. (future versions will extend this feature)\n",
      "\n",
      "    -nbrf                    Output file in NBRF/PIR format\n",
      "    -mega                    Output file in MEGA format\n",
      "    -nexus                   Output file in NEXUS format\n",
      "    -clustal                 Output file in CLUSTAL format\n",
      "\n",
      "    -fasta                   Output file in FASTA format\n",
      "    -fasta_m10               Output file in FASTA format. Sequences name length up to 10 characters.\n",
      "\n",
      "    -phylip                  Output file in PHYLIP/PHYLIP4 format\n",
      "    -phylip_m10              Output file in PHYLIP/PHYLIP4 format. Sequences name length up to 10 characters.\n",
      "    -phylip_paml             Output file in PHYLIP format compatible with PAML\n",
      "    -phylip_paml_m10         Output file in PHYLIP format compatible with PAML. Sequences name length up to 10 characters.\n",
      "    -phylip3.2               Output file in PHYLIP3.2 format\n",
      "    -phylip3.2_m10           Output file in PHYLIP3.2 format. Sequences name length up to 10 characters.\n",
      "\n",
      "    -complementary           Get the complementary alignment.\n",
      "    -colnumbering            Get the relationship between the columns in the old and new alignment.\n",
      "\n",
      "    -selectcols { n,l,m-k }  Selection of columns to be removed from the alignment. Range: [0 - (Number of Columns - 1)]. (see User Guide).\n",
      "    -selectseqs { n,l,m-k }  Selection of sequences to be removed from the alignment. Range: [0 - (Number of Sequences - 1)]. (see User Guide).\n",
      "\n",
      "    -gt -gapthreshold <n>    1 - (fraction of sequences with a gap allowed). Range: [0 - 1]\n",
      "    -st -simthreshold <n>    Minimum average similarity allowed. Range: [0 - 1]\n",
      "    -ct -conthreshold <n>    Minimum consistency value allowed.Range: [0 - 1]\n",
      "    -cons <n>                Minimum percentage of the positions in the original alignment to conserve. Range: [0 - 100]\n",
      "\n",
      "    -nogaps                  Remove all positions with gaps in the alignment.\n",
      "    -noallgaps               Remove columns composed only by gaps.\n",
      "    -keepseqs                Keep sequences even if they are composed only by gaps.\n",
      "\n",
      "    -gappyout                Use automated selection on \"gappyout\" mode. This method only uses information based on gaps' distribution. (see User Guide).\n",
      "    -strict                  Use automated selection on \"strict\" mode. (see User Guide).\n",
      "    -strictplus              Use automated selection on \"strictplus\" mode. (see User Guide).\n",
      "                             (Optimized for Neighbour Joining phylogenetic tree reconstruction).\n",
      "\n",
      "    -automated1              Use a heuristic selection of the automatic method based on similarity statistics. (see User Guide). (Optimized for Maximum Likelihood phylogenetic tree reconstruction).\n",
      "\n",
      "    -terminalonly            Only columns out of internal boundaries (first and last column without gaps) are \n",
      "                             candidated to be trimmed depending on the applied method\n",
      "    -block <n>               Minimum column block size to be kept in the trimmed alignment. Available with manual and automatic (gappyout) methods\n",
      "\n",
      "    -resoverlap              Minimum overlap of a positions with other positions in the column to be considered a \"good position\". Range: [0 - 1]. (see User Guide).\n",
      "    -seqoverlap              Minimum percentage of \"good positions\" that a sequence must have in order to be conserved. Range: [0 - 100](see User Guide).\n",
      "\n",
      "    -clusters <n>            Get the most Nth representatives sequences from a given alignment. Range: [1 - (Number of sequences)]\n",
      "    -maxidentity <n>         Get the representatives sequences for a given identity threshold. Range: [0 - 1].\n",
      "\n",
      "    -w <n>                   (half) Window size, score of position i is the average of the window (i - n) to (i + n).\n",
      "    -gw <n>                  (half) Window size only applies to statistics/methods based on Gaps.\n",
      "    -sw <n>                  (half) Window size only applies to statistics/methods based on Similarity.\n",
      "    -cw <n>                  (half) Window size only applies to statistics/methods based on Consistency.\n",
      "\n",
      "    -sgc                     Print gap scores for each column in the input alignment.\n",
      "    -sgt                     Print accumulated gap scores for the input alignment.\n",
      "    -ssc                     Print similarity scores for each column in the input alignment.\n",
      "    -sst                     Print accumulated similarity scores for the input alignment.\n",
      "    -sfc                     Print sum-of-pairs scores for each column from the selected alignment\n",
      "    -sft                     Print accumulated sum-of-pairs scores for the selected alignment\n",
      "    -sident                  Print identity scores for all sequences in the input alignment. (see User Guide).\n",
      "\n",
      "Some Examples:\n",
      "\n",
      "1) Removes all positions in the alignment with gaps in 10% or more of\n",
      "   the sequences, unless this leaves less than 60% of original alignment. \n",
      "   In such case, print the 60% best (with less gaps) positions.\n",
      "\n",
      "   trimal -in <inputfile> -out <outputfile> -gt 0.9 -cons 60\n",
      "\n",
      "2) As above but, the gap score is averaged over a window starting\n",
      "   3 positions before and ending 3 positions after each column.\n",
      "\n",
      "   trimal -in <inputfile> -out <outputfile> -gt 0.9 -cons 60 -w 3\n",
      "\n",
      "3) Use an automatic method to decide optimal thresholds, based in the gap scores\n",
      "   from input alignment. (see User Guide for details).\n",
      "\n",
      "   trimal -in <inputfile> -out <outputfile> -gappyout\n",
      "\n",
      "4) Use automatic methods to decide optimal thresholds, based on the combination \n",
      "   of gap and similarity scores. (see User Guide for details).\n",
      "\n",
      "   trimal -in <inputfile> -out <outputfile> -strictplus\n",
      "\n",
      "5) Use an heuristic to decide the optimal method for trimming the alignment. \n",
      "   (see User Guide for details).\n",
      "\n",
      "   trimal -in <inputfile> -out <outputfile> -automated1\n",
      "\n",
      "6) Use residues and sequences overlap thresholds to delete some sequences from the \n",
      "   alignemnt. (see User Guide for details).\n",
      "\n",
      "   trimal -in <inputfile> -out <outputfile> -resoverlap 0.8 -seqoverlap 75\n",
      "\n",
      "7) Selection of columns to be deleted from the alignment. The selection can \n",
      "   be a column number or a column number interval. Start from 0\n",
      "\n",
      "   trimal -in <inputfile> -out <outputfile> -selectcols { 0,2,3,10,45-60,68,70-78 }\n",
      "\n",
      "8) Get the complementary alignment from the alignment previously trimmed.\n",
      "\n",
      "   trimal -in <inputfile> -out <outputfile> -selectcols { 0,2,3,10,45-60,68,70-78 } -complementary\n"
     ]
    },
    {
     "name": "stdout",
     "output_type": "stream",
     "text": [
      "\n",
      "9) Selection of sequences to be deleted from the alignment. Start in 0\n",
      "\n",
      "   trimal -in <inputfile> -out <outputfile> -selectseqs { 2,4,8-12 } \n",
      "\n",
      "10) Select the 5 most representative sequences from the alignment\n",
      "\n",
      "   trimal -in <inputfile> -out <outputfile> -clusters 5 \n",
      "\n",
      "(phylogenetics) "
     ]
    },
    {
     "ename": "",
     "evalue": "1",
     "output_type": "error",
     "traceback": []
    }
   ],
   "source": [
    "trimal -h"
   ]
  },
  {
   "cell_type": "markdown",
   "metadata": {},
   "source": [
    "I'm trying some manual trimming as alternative"
   ]
  },
  {
   "cell_type": "code",
   "execution_count": 136,
   "metadata": {},
   "outputs": [
    {
     "name": "stdout",
     "output_type": "stream",
     "text": [
      "(phylogenetics) (phylogenetics) trimming alignment data/alignments_raw/1kP_LAR_orthogroup_random700_guidev3_aligned-mafft-linsi.fasta\n",
      "\n",
      "WARNING: Removing column '57' composed only by gaps\n",
      "WARNING: Removing column '58' composed only by gaps\n",
      "WARNING: Removing column '59' composed only by gaps\n",
      "WARNING: Removing column '60' composed only by gaps\n",
      "WARNING: Removing column '61' composed only by gaps\n",
      "WARNING: Removing column '80' composed only by gaps\n",
      "WARNING: Removing column '81' composed only by gaps\n",
      "WARNING: Removing column '82' composed only by gaps\n",
      "WARNING: Removing column '83' composed only by gaps\n",
      "WARNING: Removing column '84' composed only by gaps\n",
      "WARNING: Removing column '85' composed only by gaps\n",
      "WARNING: Removing column '86' composed only by gaps\n",
      "WARNING: Removing column '87' composed only by gaps\n",
      "WARNING: Removing column '88' composed only by gaps\n",
      "WARNING: Removing column '89' composed only by gaps\n",
      "WARNING: Removing column '90' composed only by gaps\n",
      "WARNING: Removing column '91' composed only by gaps\n",
      "WARNING: Removing column '92' composed only by gaps\n",
      "WARNING: Removing column '93' composed only by gaps\n",
      "WARNING: Removing column '94' composed only by gaps\n",
      "WARNING: Removing column '95' composed only by gaps\n",
      "WARNING: Removing column '96' composed only by gaps\n",
      "WARNING: Removing column '97' composed only by gaps\n",
      "WARNING: Removing column '98' composed only by gaps\n",
      "WARNING: Removing column '114' composed only by gaps\n",
      "WARNING: Removing column '286' composed only by gaps\n",
      "WARNING: Removing column '287' composed only by gaps\n",
      "WARNING: Removing column '288' composed only by gaps\n",
      "WARNING: Removing column '289' composed only by gaps\n",
      "WARNING: Removing column '290' composed only by gaps\n",
      "WARNING: Removing column '291' composed only by gaps\n",
      "WARNING: Removing column '292' composed only by gaps\n",
      "WARNING: Removing column '293' composed only by gaps\n",
      "WARNING: Removing column '294' composed only by gaps\n",
      "WARNING: Removing column '295' composed only by gaps\n",
      "WARNING: Removing column '296' composed only by gaps\n",
      "WARNING: Removing column '297' composed only by gaps\n",
      "WARNING: Removing column '298' composed only by gaps\n",
      "WARNING: Removing column '299' composed only by gaps\n",
      "WARNING: Removing column '300' composed only by gaps\n",
      "WARNING: Removing column '301' composed only by gaps\n",
      "WARNING: Removing column '302' composed only by gaps\n",
      "WARNING: Removing column '303' composed only by gaps\n",
      "WARNING: Removing column '310' composed only by gaps\n",
      "WARNING: Removing column '311' composed only by gaps\n",
      "WARNING: Removing column '312' composed only by gaps\n",
      "WARNING: Removing column '313' composed only by gaps\n",
      "WARNING: Removing column '314' composed only by gaps\n",
      "WARNING: Removing column '315' composed only by gaps\n",
      "WARNING: Removing column '316' composed only by gaps\n",
      "WARNING: Removing column '317' composed only by gaps\n",
      "WARNING: Removing column '318' composed only by gaps\n",
      "WARNING: Removing column '319' composed only by gaps\n",
      "WARNING: Removing column '320' composed only by gaps\n",
      "WARNING: Removing column '321' composed only by gaps\n",
      "WARNING: Removing column '322' composed only by gaps\n",
      "WARNING: Removing column '337' composed only by gaps\n",
      "WARNING: Removing column '338' composed only by gaps\n",
      "WARNING: Removing column '348' composed only by gaps\n",
      "WARNING: Removing column '502' composed only by gaps\n",
      "WARNING: Removing column '716' composed only by gaps\n",
      "WARNING: Removing column '717' composed only by gaps\n",
      "WARNING: Removing column '718' composed only by gaps\n",
      "WARNING: Removing column '719' composed only by gaps\n",
      "WARNING: Removing column '720' composed only by gaps\n",
      "WARNING: Removing column '721' composed only by gaps\n",
      "WARNING: Removing column '722' composed only by gaps\n",
      "WARNING: Removing column '723' composed only by gaps\n",
      "WARNING: Removing column '724' composed only by gaps\n",
      "WARNING: Removing column '725' composed only by gaps\n",
      "WARNING: Removing column '726' composed only by gaps\n",
      "WARNING: Removing column '727' composed only by gaps\n",
      "WARNING: Removing column '821' composed only by gaps\n",
      "WARNING: Removing column '822' composed only by gaps\n",
      "WARNING: Removing column '823' composed only by gaps\n",
      "WARNING: Removing column '824' composed only by gaps\n",
      "WARNING: Removing column '825' composed only by gaps\n",
      "WARNING: Removing column '826' composed only by gaps\n",
      "\n",
      "(phylogenetics) "
     ]
    },
    {
     "ename": "",
     "evalue": "1",
     "output_type": "error",
     "traceback": []
    }
   ],
   "source": [
    "mkdir data/alignments_trimmed 2> /dev/null\n",
    "\n",
    "for a in \"data/alignments_raw/$inseq\"_aligned*.fasta\n",
    "do  appendix=$(echo $a | cut -d '/' -f 3- | sed \"s/$inseq\\_//\" | sed \"s/.fasta//\")\n",
    "    if    [ ! -f data/alignments_trimmed/\"$inseq\"_\"$appendix\"_trim-gt6-seq80.fasta ]\n",
    "    then  echo \"trimming alignment $a\"\n",
    "          sed -i 's/ /_/g' $a\n",
    "          trimal -in $a   \\\n",
    "                 -out data/alignments_trimmed/\"$inseq\"_\"$appendix\"_trim-gt6-seq80.fasta \\\n",
    "                 -gt .6 \\\n",
    "                 -seqoverlap 80 \\\n",
    "                 -resoverlap .6 \\\n",
    "                 -htmlout data/alignments_trimmed/\"$inseq\"_\"$appendix\"_trim-gt6-seq80.html \n",
    "    fi\n",
    "done"
   ]
  },
  {
   "cell_type": "code",
   "execution_count": 137,
   "metadata": {
    "scrolled": true
   },
   "outputs": [
    {
     "name": "stdout",
     "output_type": "stream",
     "text": [
      "1kP_LAR_orthogroup_random700_guidev3_aligned-mafft-linsi_trim-gt6.html\n",
      "1kP_LAR_orthogroup_random700_guidev3_aligned-mafft-linsi_trim-gt6-seq80.fasta\n",
      "1kP_LAR_orthogroup_random700_guidev3_aligned-mafft-linsi_trim-gt6-seq80.html\n",
      "1kP_LAR_orthogroup_random700_guidev3_aligned-mafft-linsi_trim-gt6-seq90.html\n",
      "1kP_LAR_orthogroup_random700_guidev3_aligned-mafft-linsi_trim-gt7.html\n",
      "1kP_LAR_orthogroup_random700_guidev3_aligned-mafft-linsi_trim-gt8.html\n",
      "(phylogenetics) "
     ]
    },
    {
     "ename": "",
     "evalue": "1",
     "output_type": "error",
     "traceback": []
    }
   ],
   "source": [
    "ls data/alignments_trimmed"
   ]
  },
  {
   "cell_type": "code",
   "execution_count": 138,
   "metadata": {
    "scrolled": false
   },
   "outputs": [
    {
     "name": "stdout",
     "output_type": "stream",
     "text": [
      ">Ocimum_tenuiflorum_EGS_(AOC97444)\n",
      "KILIFGGTGYIGNHMVKGSLKLGHPTYVFTRP---STKTALLNEFQSMGAIIVKGEMGEH\n",
      "EKLVRLMKKVDVVISAVAIPQVLEQLKIVEAIKVAGNIKRFLPSDFGVEEDRISALPPFE\n",
      "ACIEKKRIIRRAIEEANIPYTYVSANCFASYFINYLLHPSD----KDEITVYGTGEVKFA\n",
      "MNYEQDIGLYTIKVATDPRTLNRVVIYRPSTNITTQLELISKWEKKIGRNFKKIHIPEEE\n",
      "IVALTKELPEPENIPVAILHCVFIKGVTMSYDFKENDVEASTLYPELKFTTIDELLDIF\n",
      ">Clarkia_breweri_IGS_(ABR24112)\n",
      "KIIIYGGTGYIGKFMVRASLSFSHPTFIYARPLTPPSSVQLREEFRSMGVTIIEGEMEEH\n",
      "EKMVSVLRQVDVVISALSVPMYPSQLLIIDAIKAAGNIKRFLPSEFGSEEDRIKPLPPFE\n",
      "SVLEKKRIIRRAIEAAELPYTYVSANCFGAYFVNYLLHPSP--PRDDDIVIYGTGETKFV\n",
      "(phylogenetics) "
     ]
    },
    {
     "ename": "",
     "evalue": "1",
     "output_type": "error",
     "traceback": []
    }
   ],
   "source": [
    "head data/alignments_trimmed/\"$inseq\"_aligned*.fasta"
   ]
  },
  {
   "cell_type": "code",
   "execution_count": 140,
   "metadata": {},
   "outputs": [],
   "source": [
    "conda deactivate"
   ]
  },
  {
   "cell_type": "markdown",
   "metadata": {},
   "source": [
    "# Tree building\n",
    "We'll make fast trees (not so acurate, no bootstraps, but fast) (optional) and we'll make \"propper trees\" using the amazing `iqtree`"
   ]
  },
  {
   "cell_type": "markdown",
   "metadata": {},
   "source": [
    "## fasttree"
   ]
  },
  {
   "cell_type": "code",
   "execution_count": null,
   "metadata": {},
   "outputs": [],
   "source": [
    "rm -rf ./data/LAR_orthogroup_fasttrees"
   ]
  },
  {
   "cell_type": "code",
   "execution_count": 130,
   "metadata": {},
   "outputs": [],
   "source": [
    "ls analyses/1kP_LAR_orthogroup_random700_guidev3_fasttrees"
   ]
  },
  {
   "cell_type": "code",
   "execution_count": 143,
   "metadata": {},
   "outputs": [
    {
     "name": "stdout",
     "output_type": "stream",
     "text": [
      "making a fasttree of file data/alignments_trimmed/1kP_LAR_orthogroup_random700_guidev3_aligned-mafft-linsi_trim-gt6-seq80.fasta\n",
      "aligned-mafft-linsi_trim-gt6-seq80\n",
      "[1] 18080\n"
     ]
    }
   ],
   "source": [
    "for a in data/alignments_trimmed/\"$inseq\"_aligned*.fasta\n",
    "do echo \"making a fasttree of file $a\"\n",
    "   appendix=$(echo $a | cut -d '/' -f 3- | sed \"s/$inseq\\_//\" | sed \"s/.fasta//\")\n",
    "   echo $appendix\n",
    "   if   [ ! -d analyses/\"$inseq\"_fasttrees ]\n",
    "   then mkdir  analyses/\"$inseq\"_fasttrees\n",
    "   fi\n",
    "   if   [ ! -d analyses/\"$inseq\"_fasttrees/\"$appendix\" ]\n",
    "   then mkdir  analyses/\"$inseq\"_fasttrees/\"$appendix\" \n",
    "        fasttree -log analyses/\"$inseq\"_fasttrees/\"$appendix\"/\"$inseq\"_\"$appendix\"_fasttree.log \\\n",
    "                $a \\\n",
    "                > analyses/\"$inseq\"_fasttrees/\"$appendix\"/\"$inseq\"_\"$appendix\"_fasttree.tree \\\n",
    "                2> analyses/\"$inseq\"_fasttrees/\"$appendix\"/\"$inseq\"_\"$appendix\"_fasttree.stderr &\n",
    "    fi\n",
    "done"
   ]
  },
  {
   "cell_type": "code",
   "execution_count": 144,
   "metadata": {},
   "outputs": [
    {
     "name": "stdout",
     "output_type": "stream",
     "text": [
      "Min_evolution NNIs converged at round 26 -- skipping some rounds\n",
      "ME_Lengths\t(((Lotus_japonicus_PTR_:0.126476347,(WDWX-2040226-Dunaliella_primolecta-UTEX_LB_1000:-0.003680819,(ZDIZ-2046665-Dunaliella_tertiolecta-CCMP_364:-0.005805043,UKUC-2108429-Dunaliella_salina-UTEX_LB_200:0.005805043):0.003491230):0.051346928):0.016584519,(UZWG-2005807-Castanea_pumila:0.055844140,YGCX-2029297-Geranium_maculatum:0.082180035):0.007514460):0.004628779,(Fragaria_ananassa_EGS1_:0.063302035,WBOD-2008814-Magnolia_grandiflora:0.079079368):0.006029088,((KYAD-2052004-Celtis_occidentalis:0.052647261,(Clarkia_breweri_EGS2_:0.073088087,(WWKL-2000561-Tapiscia_sinensis:0.051567633,TIUZ-2003245-Cunonia_capensis:0.076490978):0.002434587):0.004653072):0.005958544,((MVSE-2009482-Griselinia_littoralis:0.127228219,((((GSZA-2014113-Lonicera_japonica:0.113157207,(KGJF-2007963-Tragopogon_porrifolius:0.065494493,(QXWF-2011665-Flaveria_kochiana:0.042076242,MHYG-2011592-MHYG-Conzya_canadensis-2_samples_combined:0.039022113):0.011409217):0.028216410):0.014147028,(ZUHO-2011764-Anemone_hupenhensis:0.092060218,OHAE-2001817-Polygala_lutea:0.085322303):0.016615314):0.011437999,((((Manes_v4_1-cassava4_1_034037m-Manihot_esculenta:0.117317082,Ambtr_v1_0_27-AmTr_v1_0_scaffold00018_72-Amborella_trichopoda:0.161859247):0.023584239,((DZLN-2001811-Oenothera_picensis-MTJ_655:0.196466669,(EZGR-2007052-EZGR-Portulaca_oleracea-2_samples_combined:0.098466693,(JMTE-2015076-Pseudoscourfieldia_marina:0.068493600,NHUA-2068545-Castanea_crenata:0.136737920):0.030195064):0.015028595):0.016647455,((VFFP-2004565-Acer_negundo:0.169512149,((GLVK-2013941-Salix_eriocephala:0.088201916,Theca_v1_1-Thecc1EG006861t1-Theobroma_cacao:0.065726020):0.004995399,(TIUZ-2005463-Cunonia_capensis:0.053616444,(RVGH-2017013-Drypetes_deplanchei:0.043661711,VNMY-2003437-Bischofia_javanica:0.101690671):0.018225063):0.004114273):0.003566205):0.010716440,(Fragaria_ananassa_EGS2_:0.154503877,(PEZP-2015549-Glycyrrhiza_glabra:0.239331887,(BAHE-2135573-Solenostemon_scutellarioides:0.112527371,(FROP-2009571-FROP-Epifagus_virginiana-2_samples_combined:0.089210109,EJCM-2020213-EJCM-Lindenbergia_philippensis-2_samples_combined:0.036709786):0.009956431):0.099073732):0.007789187):0.005788607):0.006675574):0.012600214):0.004872137,(VGVI-2008936-Dendropemon_caribaeus:0.189626254,((UBLN-2013933-Xanthuium_strumarium:0.183752815,BAHE-2016886-Solenostemon_scutellarioides:0.289936803):0.025061775,((((YPIC-2013776-Microstegium_vimineum:0.120131824,(HPXA-2007569-Ptilidium_pulcherrimum:0.174549274,XPAF-2000155-Mapania_palustris:-0.174549274):0.853744031):0.092228351,((UZXL-2013107-Disporopsis_pernyi:0.169544145,((HDWF-2005912-Francoa_appendiculata:0.059759373,SVTS-2001075-Drimia_altissima:0.041860087):0.055638859,(BSTR-2011102-Chondropetalum_tectorum:0.140611653,((ZMGN-2010738-Neurachne_munroi:0.071675363,(IADP-2014327-Deschampsia_cespitosa:0.051463444,ENAU-2017809-Spermatozopsis_similis:0.087441721):0.088458353):0.036652728,BYPY-2079675-Brocchinia_reducta:0.098189534):0.004558488):0.015215433):0.013723736):0.025322988,(DGXS-2004806-Freycinetia_multiflora:0.147044449,(XFJG-2001226-Maianthemum_canadense:0.119227269,YBML-2018485-Yucca_brevifolia:0.172884527):0.011958177):0.025951991):0.014248152):0.029223977,((KFZY-2024659-Tragopogon_castellanus:-0.005111868,FUPX-2006739-Tragopogon_pratensis:0.017417861):0.232096991,(((PEZP-2001925-Glycyrrhiza_glabra:-0.000701682,(Cicer_arietinum_IFR_:0.065830879,(Pisum_sativum_IFR_:0.032333020,Medicago_sativa_IFR_:0.040819907):0.026665179):0.030952282):0.225840974,EYRD-2015259-EYRD-Alternanthera_tenella-2_samples_combined:0.267539312):0.019287815,(TOXE-2005667-Welwitschia_mirabilis:0.226598970,((((ROWR-2001152-Falcatifolium_taxoides:0.167568528,(IAJW-2007887-Amentotaxus_argotaenia:0.089492230,(IFLI-2000331-Callitris_gracilis-March:0.065391278,AIGO-2001003-Chamaecyparis_lawsoniana:0.049384288):0.036850426):0.043705235):0.002793380,((QFAE-2005256-Sequoiadendron_giganteum-Glaucum:0.050249104,ZQVF-2016229-ZQVF-Cunninghamia_lanceolata-2_samples_combined:0.000356348):0.082789260,(RSCE-2005313-Wollemia_nobilis:0.073078535,(NGRR-2076095-Ternstroemia_gymnanthera:0.219257567,IZGN-2003468-Dacrydium_balansae:-0.219257567):0.326208491):0.060729951):0.011952773):0.039123076,(WQML-2058582-Cryptogramma_acrostichoides:0.100862705,(((MFTM-2001687-Pinus_jeffreyi:0.108596611,Pinta_v2_0-PITA_000050506_RA-Pinus_taeda:0.284431954):0.024886834,((AIGO-2000161-Chamaecyparis_lawsoniana:0.029866685,ETCJ-2004328-Pilgerodendron_uviferum:0.036803536):0.028804850,(KLGF-2003266-Sundacarpus_amarus:0.032900183,(IZGN-2005659-Dacrydium_balansae:0.022967004,HILW-2017904-Acmopyle_pancheri:0.026551169):0.016264255):0.015235149):0.037001882):0.004304542,(Pinus_taeda_PCBER_:0.058347798,Tsuga_heterophylla_PCBER_:0.064307531):0.043960347):0.013943058):0.013207405):0.028375371,((HILW-2005133-Acmopyle_pancheri:0.076467315,(MHGD-2071842-Microcachrys_tetragona:0.038937145,OWFC-2004422-Halocarpus_bidwillii:0.067862069):0.026202913):0.246898818,(((((PNZO-2013494-Culcita_macrocarpa:0.041521865,EWXK-2121103-Thyrsopteris_elegans:0.018047909):0.238398413,(((CQPW-2021249-Anemia_tomentosa:0.174673508,(EWXK-2119988-Thyrsopteris_elegans:0.033308123,(UWOD-2137909-Plagiogyria_japonica:0.047149972,(PNZO-2007161-Culcita_macrocarpa:0.011985010,PNZO-2007160-Culcita_macrocarpa:0.015869999):0.016440685):0.034623111):0.133737265):0.013190178,(MEKP-2097268-Dipteris_conjugata:0.164697836,(MEKP-2006924-Dipteris_conjugata:-0.111729934,MEKP-2006925-Dipteris_conjugata:0.204587997):0.363125420):0.052860825):0.066467941,(VIBO-2006261-Osmunda_javanica:0.119883117,(VIBO-2007835-Osmunda_javanica:0.151222991,((MEKP-2104845-Dipteris_conjugata:0.144586047,(((UWOD-2135206-Plagiogyria_japonica:-0.126131389,XDVM-2028193-Sticherus_lobatus:0.126131389):0.185933436,(EWXK-2121424-Thyrsopteris_elegans:0.016985782,(UWOD-2130374-Plagiogyria_japonica:0.092170351,PNZO-2150800-Culcita_macrocarpa:0.003750434):0.040751369):0.066765813):0.013944483,((NOKI-2094938-Lindsaea_linearis:0.112429788,(NOKI-2009957-Lindsaea_linearis:0.005970418,NOKI-2009956-Lindsaea_linearis:-0.005970418):0.167412527):0.112797214,(MTGC-2043348-Dennstaedtia:0.182417887,((RFRB-2028039-Didymochlaena_truncatula:0.080785658,NWWI-2128381-Nephrolepis_exaltata:0.173335285):0.035322429,(NWWI-2016921-Nephrolepis_exaltata:0.114747905,(OQWW-2033116-Davallia_fejeensis:0.079259012,ZRAV-2135772-ZRAV-Polypodium_hesperium-2_samples_combined:0.094701363):0.025762120):0.035105640):0.026968157):0.032384419):0.093822338):0.055939730):0.008105138,QIAD-2058794-Hymenophyllum_bivalve:0.168876518):0.079931390):0.033841008):0.017177669):0.019832570):0.042380553,(((PIVW-2009700-Ceratopteris_thalictroides:0.257204372,(OQWW-2225010-Davallia_fejeensis:0.181295007,((OCZL-2002261-Homalosorus_pycnocarpos:0.049839995,RFRB-2030922-Didymochlaena_truncatula:0.111205396):0.010475056,(HEGQ-2078665-Gymnocarpium_dryopteris:0.086017841,((RICC-2060962-Cystopteris_reevesiana:0.029097378,YOWV-2062256-Cystopteris_protrusa:0.021462649):0.112843000,(OCZL-2055378-Homalosorus_pycnocarpos:0.048199142,AFPO-2009108-Blechnum_spicant-gametophyte:0.047593799):0.016944555):0.010283191):0.040256954):0.012805431):0.088067846):0.148781066,(MEKP-2104929-Dipteris_conjugata:0.209918041,QIAD-2057445-Hymenophyllum_bivalve:0.218009814):0.008339044):0.168142552,((QIAD-2005972-Hymenophyllum_bivalve:0.181860960,(((UWOD-2131603-Plagiogyria_japonica:-0.012678599,UWOD-2130040-Plagiogyria_japonica:0.012678599):0.038505424,(EWXK-2012289-Thyrsopteris_elegans:-0.004766422,(EWXK-2012291-Thyrsopteris_elegans:0.005555771,EWXK-2012290-Thyrsopteris_elegans:-0.005555771):0.007561159):0.035162029):0.049193374,((WQML-2006550-Cryptogramma_acrostichoides:0.104755780,(UJTT-2089056-Pityrogramma_trifoliata:0.204718538,WQML-2006551-Cryptogramma_acrostichoides:0.096004824):0.011661158):0.148199259,(((NWWI-2016936-Nephrolepis_exaltata:0.025858853,NWWI-2016937-Nephrolepis_exaltata:-0.008643945):0.107141114,(PSKY-2012413-Asplenium_nidus:0.094406279,(OQWW-2031695-Davallia_fejeensis:0.033611539,OQWW-2031694-Davallia_fejeensis:0.009531496):0.067850069):0.013869473):0.009780037,((AFPO-2066549-Blechnum_spicant-gametophyte:0.025477031,(YOWV-2008603-Cystopteris_protrusa:0.049793898,UFJN-2011504-Diplazium_wichurae:0.038854937):0.008738809):0.009428119,(VITX-2091612-Blechnum_spicant:-0.016069444,MTGC-2040667-Dennstaedtia:0.046823193):0.069083863):0.007323181):0.072272795):0.014826817):0.069437284):0.063589030,(MEKP-2014651-Dipteris_conjugata:0.183519372,(MEKP-2105811-Dipteris_conjugata:0.174047247,VIBO-2008406-Osmunda_javanica:0.100977686):0.041083324):0.019078199):0.018650351):0.064374976):0.013501997,((((KUXM-2008758-Selaginella_selaginoides:0.157163688,(ZFGK-2039682-Selaginella_kraussiana:0.143547408,(JKAA-2005030-Selaginella_wallacei:0.149074007,JKAA-2013986-Selaginella_wallacei:0.039345292):0.134572950):0.011317365):0.085828826,((((((RCBT-2015455-Sphagnum_palustre:0.0,RCBT-2015454-Sphagnum_palustre:0.0):0.023601775,(UHLI-2010235-Sphagnum_recurvatum:0.032194017,GOWD-2019693-Sphagnum_lescurii:0.015645530):0.010751912):0.009977530,(GOWD-2018219-Sphagnum_lescurii:0.125726139,UHLI-2005988-Sphagnum_recurvatum:0.092531850):0.057092394):0.170768360,(((HVBQ-2117680-Tetraphis_pellucida:0.181402733,HVBQ-2002082-Tetraphis_pellucida:0.169485666):0.084727076,((HVBQ-2022578-Tetraphis_pellucida:0.188643878,(HVBQ-2003576-Tetraphis_pellucida:0.094901270,HVBQ-2009875-Tetraphis_pellucida:0.084762654):0.050150521):0.100512989,(((CMEQ-2007026-Orthotrichum_lyellii:0.043859889,CMEQ-2007027-Orthotrichum_lyellii:0.062113399):0.139997930,(CMEQ-2016218-Orthotrichum_lyellii:0.175601350,((HVBQ-2014230-Tetraphis_pellucida:0.074769759,(HVBQ-2014231-Tetraphis_pellucida:0.016200509,HVBQ-2014232-Tetraphis_pellucida:0.067500437):0.032688394):0.016035315,(TMAJ-2181594-Neckera_douglasii:0.063548911,EEMJ-2000954-Thuidium_delicatulum:0.135547103):0.011331590):0.015041852):0.021944535):0.084668135,(BGXB-2078046-Plagiomnium_insigne:0.173395728,(VMXJ-2011019-Leucobryum_albidum:0.136939298,RGKI-2004601-Leucobryum_glaucum:0.183907380):0.021517973):0.053600685):0.078564817):0.012288240):0.043259830,(WOGB-2014576-Andreaea_rupestris:0.278715453,(((GOWD-2000241-Sphagnum_lescurii:-0.001436412,(RCBT-2015254-Sphagnum_palustre:0.046814170,(UHLI-2002577-Sphagnum_recurvatum:0.013082996,UHLI-2002578-Sphagnum_recurvatum:0.018130946):0.030418777):0.032289057):0.032046834,(GOWD-2000239-Sphagnum_lescurii:0.008072448,GOWD-2000240-Sphagnum_lescurii:0.014204044):0.014014490):0.138608499,(RCBT-2025315-Sphagnum_palustre:0.164820882,(UHLI-2018683-Sphagnum_recurvatum:-0.029224547,((RCBT-2010487-Sphagnum_palustre:0.0,RCBT-2010486-Sphagnum_palustre:0.0):0.021981913,(GOWD-2081731-Sphagnum_lescurii:0.007990197,UHLI-2084424-Sphagnum_recurvatum:0.018416614):0.053496603):0.055131788):0.024561276):0.080411008):0.040258241):0.044338855):0.015915706):0.038026528,(((((UUHD-2015092-Porella_pinnata:0.113658547,UUHD-2010718-Porella_pinnata:0.113349390):0.047393022,(BNCU-2085839-Radula_lindenbergia:0.139202667,BNCU-2008805-Radula_lindenbergia:0.142274056):0.055408042):0.022250431,((HPXA-2004013-Ptilidium_pulcherrimum:0.137432687,HPXA-2004014-Ptilidium_pulcherrimum:0.119278454):0.033310250,HPXA-2019945-Ptilidium_pulcherrimum:0.211654834):0.019877977):0.024230119,((WZYK-2003469-Bazzania_trilobata:0.266933484,WZYK-2000342-Bazzania_trilobata:0.179635138):0.046814676,(WZYK-2013726-Bazzania_trilobata:0.174733401,(WZYK-2009633-Bazzania_trilobata:0.138643400,WZYK-2014513-Bazzania_trilobata:0.340359446):0.028024455):0.019738804):0.007068915):0.116118985,((BNCU-2016550-Radula_lindenbergia:-0.033416626,BNCU-2016551-Radula_lindenbergia:0.033416626):0.404215697,((BNCU-2003090-Radula_lindenbergia:0.093320229,(BNCU-2084921-Radula_lindenbergia:0.139017149,BNCU-2018297-Radula_lindenbergia:0.139012415):0.001599585):0.074070749,(WZYK-2016729-Bazzania_trilobata:0.103880057,(HPXA-2016794-Ptilidium_pulcherrimum:0.113042530,UUHD-2146898-Porella_pinnata:0.097351388):0.012761433):0.021790254):0.070574040):0.106150698):0.016112922):0.005366063,((AKXB-2064674-Phaeomegaceros_coriaceus:0.007459208,(TCBC-2010819-Megaceros_vincentianus:0.0,TCBC-2010818-Megaceros_vincentianus:0.0):0.057294311):0.224030349,((AKXB-2006615-Phaeomegaceros_coriaceus:-0.010622447,AKXB-2006616-Phaeomegaceros_coriaceus:0.012923894):0.261466728,((AKXB-2005589-Phaeomegaceros_coriaceus:0.143511829,((TCBC-2019354-Megaceros_vincentianus:0.007904071,((AKXB-2001848-Phaeomegaceros_coriaceus:0.019974888,TCBC-2012345-Megaceros_vincentianus:0.033059036):0.075845756,(AKXB-2001849-Phaeomegaceros_coriaceus:-0.001289163,AKXB-2001847-Phaeomegaceros_coriaceus:0.001289163):0.039706527):0.015596487):0.073832442,(AKXB-2007298-Phaeomegaceros_coriaceus:0.038450196,(TCBC-2007730-Megaceros_vincentianus:0.001020986,TCBC-2007728-Megaceros_vincentianus:0.004965874):0.068099051):0.084198583):0.046037404):0.039031489,(AKXB-2067781-Phaeomegaceros_coriaceus:0.229184163,(AKXB-2063859-Phaeomegaceros_coriaceus:0.023722195,TCBC-2007729-Megaceros_vincentianus:0.043288574):0.260888329):0.005849395):0.004591304):0.017435329):0.125292593):0.009559260):0.012513361,((((((KUXM-2000066-Selaginella_selaginoides:0.407258840,((KUXM-2010445-Selaginella_selaginoides:0.336925589,(((MUNP-2003756-Piper_auritum:0.004821925,MUNP-2003757-Piper_auritum:0.004464252):0.283888181,((KUXM-2010076-Selaginella_selaginoides:0.157707221,KUXM-2041265-Selaginella_selaginoides:0.133898871):0.023399016,(ZFGK-2039190-Selaginella_kraussiana:0.220001655,(JKAA-2013288-Selaginella_wallacei:0.161731177,(ZFGK-2040270-Selaginella_kraussiana:0.164687673,(Selaginella_moellendorffii_PLR-like2_:0.105724442,LGDQ-2001233-Selaginella_apoda:0.111113232):0.084816555):0.041407991):0.013252164):0.014459541):0.045873436):0.006324894,(((IFLI-2143577-Callitris_gracilis-March:0.096570478,(EFMS-2079821-Torreya_taxifolia:0.033572152,IAJW-2149040-Amentotaxus_argotaenia:0.035079672):0.028619604):0.192777349,(((QNGJ-2069362-Cupressus_dupreziana:0.036112055,(OXGJ-2004119-Glyptostrobus_pensilis:0.067377877,(Thuja_plicata_PLR_:0.029441188,NKIN-2006656-Thujopsis_dolabrata:0.076344971):0.076620559):0.019573336):0.062328151,((QHBI-2012752-Falcatifolium_taxoides-A:0.088370695,(BUWV-2011281-Platycladus_orientalis:0.040387976,VFYZ-2009030-Thuja_plicata:0.009384003):0.078196017):0.017225939,(Tsuga_heterophylla_PLR_:0.112527498,WLIC-2017336-Dioon_edule:0.101409582):0.016152536):0.016082801):0.041971868,((HQOM-2009457-Torreya_nucifera:0.101073271,MHGD-2071798-Microcachrys_tetragona:0.096547527):0.080833453,((YZRI-2007595-Annona_muricata:0.136538238,((XRLM-2074327-Buddleja_lindleyana:0.077686587,(Forsythia_intermedia_PLR_:0.046400443,KTAR-2138832-Chionanthus_retusus:0.072552405):0.040287273):0.041204241,((AUIP-2030187-Phelline_lucida:0.079265340,((UYED-2005832-Flaveria_sonorensis:0.034222559,JYMN-2013034-JYMN-Flaveria_brownii-2_samples_combined:0.021881733):0.103309875,IZLO-2006650-Lobelia_siphilitica:0.063525530):0.011770631):0.004548736,((YSRZ-2016241-Fouqueria_macdougalli:0.061259660,((Linum_album_PLR_:0.032673927,VXOD-2000289-Linum_tenuifolium:0.043210270):0.061168985,OODC-2080627-Linum_bienne-CN_107293:0.054455004):0.031447180):0.007778118,PAWA-2010138-Aristolochia_elegans:0.160472088):0.005623373):0.023312920):0.039233906):0.013320221,(((GCFE-2053997-Verbena_hastata:0.087108369,(FROP-2083168-FROP-Epifagus_virginiana-2_samples_combined:0.090215018,UTQR-2017073-Tabebuia_umbellate:0.050846803):0.014455608):0.030583927,(((GVCB-2044846-Oenothera_affinis-MTJ_529:0.100072225,FGDU-2012898-Syzygium_paniculatum:0.090495819):0.005071674,((LWDA-2005167-Alnus_serrulata:0.083904267,WEQK-2063179-Centella_asiatica:0.093952363):0.015592787,(((((TVSH-2069542-Bituminaria_bituminosa:0.027986826,VLNB-2017257-Gompholobium_polymorphum:0.015071793):0.013501915,Phavu_v1_0-Phvul_002G132400_1-Phaseolus_vulgaris:0.052101094):0.006596434,(UGJI-2001747-Lycopersicon_cheesmanii:0.143634394,ZSSR-2095995-Xanthicercis_zambesiaca:0.057465324):0.007760777):0.034373301,AQGE-2004538-Humulus_lupulus:0.100295748):0.002678809,((JGYZ-2001442-Holarrhena_pubescens:0.070737504,HANM-2010435-Pholisma_arenarium:0.084851976):0.014831412,ZETY-2013560-Hydrangea_quercifolia:0.103582023):0.005904361):0.007303906):0.010590981):0.007288132,(IKFD-2051629-Quassia_amara:0.106829673,(BNDE-2018188-Hypericum_perforatum:0.126703107,(XNLP-2088727-Manihot_grahamii:0.103424697,IEPQ-2018836-Salix_dasyclados:0.083804464):0.008044946):0.011056287):0.006282823):0.001932160):0.007179961,((IPWB-2086101-Brassica_nigra:0.009890320,TZWR-2044053-Arabis_alpina:0.086083487):0.151564823,(JAFJ-2143866-Bougainvillea_spectabilis:0.136566576,FZQN-2013397-Silene_latifolia:0.133928093):0.015470189):0.008913967):0.027261063):0.071765498):0.032406516):0.014707834):0.031125068,((VIBO-2074059-Osmunda_javanica:0.196735968,(((QIAD-2005744-Hymenophyllum_bivalve:0.121852946,QIAD-2005745-Hymenophyllum_bivalve:0.113963600):0.038500172,(MEKP-2098010-Dipteris_conjugata:0.008736213,(NOKI-2017019-Lindsaea_linearis:0.048946714,MEKP-2100931-Dipteris_conjugata:0.220019478):0.720309086):0.033449297):0.011464377,((EWXK-2010470-Thyrsopteris_elegans:0.092760472,((PIVW-2011047-Ceratopteris_thalictroides:0.0,PIVW-2011048-Ceratopteris_thalictroides:0.0):0.192555163,(FLTD-2008493-Pteris_ensigormis:0.091535218,(UJTT-2025826-Pityrogramma_trifoliata:0.101455571,WQML-2008990-Cryptogramma_acrostichoides:0.102571034):0.007385417):0.037963449):0.060568593):0.044267863,((EWXK-2000996-Thyrsopteris_elegans:0.074384665,UWOD-2137810-Plagiogyria_japonica:0.072760819):0.040422238,(MTGC-2009039-Dennstaedtia:0.133497820,(((NWWI-2034189-Nephrolepis_exaltata:0.115504564,PSKY-2003762-Asplenium_nidus:0.187997429):0.016735562,((OQWW-2017833-Davallia_fejeensis:0.074625009,(NWWI-2008621-Nephrolepis_exaltata:0.016991278,(NWWI-2008623-Nephrolepis_exaltata:0.021735230,(NWWI-2008622-Nephrolepis_exaltata:0.002387985,NWWI-2008620-Nephrolepis_exaltata:0.000103917):0.002789449):0.010788334):0.067556335):0.026455944,(RFRB-2034180-Didymochlaena_truncatula:0.114156267,(((RICC-2001311-Cystopteris_reevesiana:-0.004578943,RICC-2001312-Cystopteris_reevesiana:0.004578943):0.109345336,MROH-2004360-Thelypteris_acuminata:0.097840482):0.005546310,(UFJN-2085627-Diplazium_wichurae:0.038009337,(VITX-2088941-Blechnum_spicant:0.009129314,AFPO-2008569-Blechnum_spicant-gametophyte:-0.009129314):0.037797158):0.017636743):0.020156227):0.004759032):0.004579924):0.025212601,VITX-2012840-Blechnum_spicant:0.027514384):0.034556852):0.070619237):0.034971386):0.027318154):0.043822969):0.046111801,((JZVE-2037546-Parasitaxus_usta:0.133389179,NKIN-2001868-Thujopsis_dolabrata:0.062142594):0.109264537,((ZFGK-2006663-Selaginella_kraussiana:0.104625649,JKAA-2009905-Selaginella_wallacei:0.146185482):0.036472708,(Selaginella_moellendorffii_PLR-like1_:0.189935364,(KUXM-2005443-Selaginella_selaginoides:0.024110164,(KUXM-2005444-Selaginella_selaginoides:0.0,KUXM-2005442-Selaginella_selaginoides:0.0):-0.024110164):0.198684815):0.015801681):0.071880395):0.012801202):0.010936688):0.008529704):0.024621203):0.010537799,(KUXM-2038331-Selaginella_selaginoides:0.165918503,ZFGK-2005295-Selaginella_kraussiana:0.447383547):0.073105220):0.037615672):0.038273654,(((WAXR-2040121-Litchi_chinensis:0.222844491,((Petunia_hybrida_IGS_:0.127726386,NHAG-2010268-Ipomoea_nil:0.172313665):0.043558519,((EHNF-2002671-Dillenia_indica:0.127000826,(Larrea_tridentata_PPS_:0.123472024,HTIP-2054678-Paeonia_lactiflora:0.114434452):0.014982509):0.004672419,(Nelnu_v1_0-NNU_018535_RA-Nelumbo_nucifera:0.153081584,(Piper_regnellii_PPS_:0.156808183,JAFJ-2015984-Bougainvillea_spectabilis:0.189751151):0.034981276):0.010580673):0.008254504):0.009013784):0.025852794,(Pimpinella_anisum_AIS_:0.265666552,(KZED-2000826-Senna_hebecarpa:0.214678986,(((HTIP-2055665-Paeonia_lactiflora:0.130261605,(ZJRC-2012653-ZJRC-Sambucus_canadensis-2_samples_combined:0.094027452,((YRHD-2052503-Antirrhinum_braun-blanquetii:0.092102077,(Ocimum_tenuiflorum_EGS_:0.117981796,FDMM-2089007-Rosmarinus_officinalis:0.097138341):0.042861227):0.039350341,AUIP-2017220-Phelline_lucida:0.214997021):0.009093710):0.033054802):0.011906938,QICX-2148636-Ailanthus_altissima:0.139889770):0.025292252,((TLCA-2022331-TLCA-Oenothera_speciosa-5_samples_combined:0.052618387,CJGZ-2003902-Oenothera_nana-MTJ_0233:0.025804881):0.065824137,((Clarkia_breweri_IGS_:0.018551841,Clarkia_breweri_EGS1_:0.021955309):0.077135527,JKNQ-2010660-Oenothera_suffulta_suffulta-MTJ_92:0.138907574):0.019694677):0.089432634):0.005107645):0.064675552):0.007127494):0.033616541,(Ambtr_v1_0_27-AmTr_v1_0_scaffold00070_105-Amborella_trichopoda:0.318993818,((VFYZ-2037120-Thuja_plicata:0.103704764,OXGJ-2007450-Glyptostrobus_pensilis:0.062487738):0.106326090,(IOVS-2002490-Pseudotsuga_menziesii:0.131137559,(GAMH-2052494-Tsuga_heterophylla:0.131023970,DZQM-2012683-Pinus_radiata:0.112318203):0.011276690):0.047334174):0.089887467):0.015794851):0.170962329):0.006333247,((ZFGK-2006315-Selaginella_kraussiana:0.159180884,JKAA-2010207-Selaginella_wallacei:0.194221938):0.248882275,((RSCE-2055540-Wollemia_nobilis:0.114663418,JRNA-2012102-Phyllocladus_hypohyllus:0.165461445):0.094350018,(((EFCZ-2221308-EFCZ-Eleusine_coracana-4_samples_combined:0.158344567,(MWYQ-2005601-Smilax_bona_nox:0.182300721,(SART-2007383-Xeronema_callistemon:0.076171593,(CMCY-2155193-Hesperaloe_parviflora:0.111026451,(RQZP-2140753-Nolina_bigelorii:0.013515181,YBML-2028429-Yucca_brevifolia:0.055657391):0.027220780):0.051865098):0.075813201):0.007066793):0.056130186,(BHYC-2049386-Linum_lewisii:0.152239427,((((Fragaria_ananassa_LAR_:0.062010119,SQCF-2006621-Dryas_octopetala:0.050376256):0.065768631,((CKDK-2093233-Ochna_serrulata:0.165962818,(TDTF-2015303-Salix_sachalinensis:0.108577212,GLVK-2006351-Salix_eriocephala:0.070774908):0.037850587):0.014617345,Theca_v1_1-Thecc1EG011870t1-Theobroma_cacao:0.098982198):0.008925657):0.004476373,((YQIJ-2005632-Phacelia_campanularia:0.136812901,(QUTB-2075585-Aextoxicon_punctatum:0.043329029,HAEU-2053751-Berberidopsis_beckleri:0.049993593):0.033967238):0.024639098,(((AYMT-2110092-Eucalyptus_leucoxylon-March:0.058582732,HAEU-2050156-Berberidopsis_beckleri:-0.058582732):0.152364159,(DHPO-2076351-Eupomatia_bennettii:0.122897732,(((WXVX-2009315-Ledum_palustre:0.126569505,SWGX-2068710-Tetrazygia_bicolor:0.149620184):0.013701956,HENI-2051959-Quercus_shumardii:0.132902875):0.003415970,(TVCU-2006094-Ochna_mossambicensis:0.152939168,OSIP-2125743-Garcinia_livingstonei:0.133562296):0.012500359):0.019975571):0.016650060):0.010520034,WFBF-2006916-Podophyllum_peltatum:0.166719582):0.009224222):0.010165198):0.008476881,(RKLL-2004322-Copaifera_officianalis:0.090303056,Desmodium_uncinatum_LAR_:0.156110032):0.038650349):0.023331156):0.025739317):0.103914658,((((NKIN-2006291-Thujopsis_dolabrata:0.080091960,XTZO-2054326-Araucaria_rulei:0.146386998):0.004429694,OXGJ-2010243-Glyptostrobus_pensilis:0.049370269):0.067822668,GGEA-2015601-Cedrus_libani:0.114539734):0.043374608,(AWQB-2002320-Picea_engelmanii:0.127814982,WLIC-2119938-Dioon_edule:0.133710148):0.040941482):0.022956546):0.014607807):0.210876812):0.019703338):0.002852077,((QYXY-2049125-Botryococcus_terribilis:0.545402096,(Coccomyxa_subellipsoidea_PLR-like_:0.078789799,GXBM-2015075-Coccomyxa_pringsheimii:0.063639374):0.409893536):0.094307906,(((RDOO-2016327-Racomitrium_varium:0.595027572,(JKHA-2119905-Cyanoptyche_gloeocystis:0.635778069,(AKCR-2022862-Parachlorella_kessleri:0.189590396,(Chlva_v1_0-IGS_gm_1_00382-Chlorella_variabilis:0.065769470,Chlva_v1_0-IGS_gm_1_00381-Chlorella_variabilis:0.160373172):0.251228854):0.204545146):0.177213271):0.064493423,(JKKI-2057061-Lobomonas_rostrata:0.425974910,((BNCU-2017030-Radula_lindenbergia:0.771004467,(JKAA-2179486-Selaginella_wallacei:0.482837569,GOWD-2081347-Sphagnum_lescurii:0.391115094):0.071593282):0.024866925,((TFYI-2003869-Marchantia_emarginata:0.389059692,(VMXJ-2121730-Leucobryum_albidum:0.189340825,HPXA-2131386-Ptilidium_pulcherrimum:0.370565490):0.397533049):0.039668836,((RSOF-2008002-Glaucosphaera_vacuolata:0.310008220,DZPJ-2051863-Cylindrocapsa_geminella:0.435750530):0.041607194,(((BAZF-2006540-Chaetopeltis_orbicularis:0.0,BAZF-2006539-Chaetopeltis_orbicularis:0.0):0.425007218,PQED-2051469-Gloeochaete_wittrockiana:0.522431210):0.068132199,((IRYH-2033960-Heterochlamydomonas_inaequalis:0.371373048,((Chlamydomonas_reinhardtii_PLR-like_:0.0,Chlre_v5_5-Cre11_g477200_t1_2-Chlamydomonas_reinhardtii:0.0):0.247269077,QRTH-2040997-Chloromonas_perforata:0.231076669):0.120429661):0.081675474,((ETGN-2001299-Botryococcus_braunii:0.085359578,ETGN-2009641-Botryococcus_braunii:0.087757720):0.299069080,(ZNUM-2002118-Leptosira_obovata:0.375882389,EATP-2034425-EATP-Microthamnion_kuetzigianum-2_samples_combined:0.163885157):0.111906611):0.054166142):0.038946597):0.005985848):0.031686786):0.040177846):0.029389691):0.080879013):0.137531737,((FPCO-2026667-Interfilum_paradoxum:0.187363080,(FQLP-2030827-Klebsormidium_subtile:-0.055014117,((Klebsormidium_nitens_PLR-like_:0.0,Klefl_v1_0-kfl00017_0610-Klebsormidium_flaccidum:0.0):0.054323415,(Klefl_v1_0-kfl00017_0600-Klebsormidium_flaccidum:0.057364942,(Klefl_v1_0-kfl00402_0160-Klebsormidium_flaccidum:0.046454730,FQLP-2007761-Klebsormidium_subtile:0.063113624):0.019770192):0.035527989):0.039267486):0.050536787):0.084369884,(Klefl_v1_0-kfl00034_0150-Klebsormidium_flaccidum:0.255529503,FPCO-2025721-Interfilum_paradoxum:0.223201388):0.053271137):0.249909761):0.020951631):0.086853117):0.015631332,((NHIX-2054175-Colchicum_autumnale:0.118976285,(((CCID-2068223-Akebia_trifoliata:0.090058293,((QIEH-2067224-Cotoneaster_transcaucasicus:0.155285444,(JOIS-2003446-Koeberlina_spinosa:0.155245423,(HANM-2009926-Pholisma_arenarium:0.114400979,(UFHF-2014594-Galax_urceolata-tetraploid:0.130689391,(NAUM-2012034-Ipomoea_lindheimeri:0.105481886,((((FWCQ-2045440-Garcinia_oblongiflolia:0.109112578,(Manes_v4_1-cassava4_1_012445m-Manihot_esculenta:0.103290949,PXYR-2008120-Euphorbia_pekinensis:0.126938106):0.039259373):0.030957473,LNER-2005206-Casuarina_glauca:0.101628563):0.002806816,((GJNX-2080742-Cypselea_humifusum:0.038086380,OMYK-2142503-OMYK-Trianthemum_portulacastrum-2_samples_combined:0.048339435):0.059821082,(OLES-2029203-Schiedea_membranacea:0.154291137,Betvu_v1_1-Bv9_223410_izwy_t2-Beta_vulgaris:0.096677654):0.017945615):0.030049259):0.007826475,CLMX-2037673-Escallonia_rubra:0.088086527):0.014325079):0.003680978):0.011600049):0.010970040):0.009342443):0.007016493,WXVX-2066954-Ledum_palustre:0.087880650):0.043401273):0.041602432,KRJP-2001485-Peumus_boldus:0.097444384):0.048698362,BCGB-2000703-Cinnamomum_camphora:0.068535309):0.146319582):0.124779566,((WZYK-2005160-Bazzania_trilobata:0.135802766,((HPXA-2003200-Ptilidium_pulcherrimum:0.0,HPXA-2003198-Ptilidium_pulcherrimum:0.0):0.108798068,UUHD-2147649-Porella_pinnata:0.137888251):0.073561887):0.087820168,((TFYI-2070783-Marchantia_emarginata:0.062953830,HMHL-2051764-Marchantia_paleacea-non_mycorrizal:0.111737988):0.123522228,TXVB-2000437-Lunularia_cruciata:0.212798818):0.065643785):0.102268165):0.028553723):0.012339649,((VIBO-2077417-Osmunda_javanica:0.132119931,((QIAD-2047672-Hymenophyllum_bivalve:0.165045387,MEKP-2015261-Dipteris_conjugata:0.078825671):0.043317970,((PSKY-2014200-Asplenium_nidus:0.093787955,YOWV-2003070-Cystopteris_protrusa:0.095640015):0.073709441,(UWOD-2006675-Plagiogyria_japonica:0.073595747,PNZO-2027638-Culcita_macrocarpa:0.093684061):0.025216789):0.024843898):0.023129288):0.190473490,(AKXB-2066296-Phaeomegaceros_coriaceus:0.511055725,(ZFGK-2007804-Selaginella_kraussiana:0.197428711,(JKAA-2002842-Selaginella_wallacei:0.220723587,KUXM-2010946-Selaginella_selaginoides:0.285896987):0.050069664):0.085444196):0.016420647):0.026888402):0.006969033):0.005895066,((((EWXK-2000842-Thyrsopteris_elegans:0.098253290,(UWOD-2023992-Plagiogyria_japonica:0.076104545,(EWXK-2000843-Thyrsopteris_elegans:-0.018917570,EWXK-2000844-Thyrsopteris_elegans:0.030175350):0.098137084):0.011659042):0.104402529,(UFJN-2010499-Diplazium_wichurae:0.160235504,NOKI-2007156-Lindsaea_linearis:0.141614559):0.030430200):0.209372561,(UGNK-2020446-Marattia_attenuata:0.196550945,(MEKP-2101772-Dipteris_conjugata:0.174146746,(MEKP-2006789-Dipteris_conjugata:0.0,MEKP-2006790-Dipteris_conjugata:0.0):0.222030496):0.074171751):0.026452955):0.047811765,((UGNK-2021731-Marattia_attenuata:0.160545167,(PNZO-2016614-Culcita_macrocarpa:-0.011449010,PNZO-2016613-Culcita_macrocarpa:0.016943230):0.187126993):0.071666681,(EEAQ-2009408-Sceptridium_dissectum:0.175706310,(EEAQ-2016820-Sceptridium_dissectum:0.279280778,UGNK-2006528-Marattia_attenuata:0.149706357):0.015692689):0.015681161):0.033439162):0.029698825):0.004942872):0.016965240,((((UGNK-2017109-Marattia_attenuata:0.198933934,UGNK-2021182-Marattia_attenuata:0.148443811):0.050131418,((VIBO-2068779-Osmunda_javanica:0.171859810,(VIBO-2006262-Osmunda_javanica:0.073788656,VIBO-2006264-Osmunda_javanica:0.042471307):0.028906838):0.048897379,((((QIAD-2001911-Hymenophyllum_bivalve:0.005231039,(QIAD-2001910-Hymenophyllum_bivalve:0.000322119,QIAD-2001912-Hymenophyllum_bivalve:0.006746135):0.001474846):0.076853003,QIAD-2005429-Hymenophyllum_bivalve:0.175494212):0.020610795,(EWXK-2024179-Thyrsopteris_elegans:0.030030784,(PNZO-2149017-Culcita_macrocarpa:0.017537678,(UWOD-2007283-Plagiogyria_japonica:0.008608877,(UWOD-2007282-Plagiogyria_japonica:0.0,UWOD-2007281-Plagiogyria_japonica:0.0):0.001199425):0.017064597):0.019885275):0.064158787):0.005630372,(((MEKP-2001943-Dipteris_conjugata:-0.013507859,(MEKP-2001942-Dipteris_conjugata:-0.034333102,PNZO-2145799-Culcita_macrocarpa:0.034333102):0.014183248):0.098147160,(EWXK-2022152-Thyrsopteris_elegans:0.073132594,((UWOD-2137824-Plagiogyria_japonica:0.031949025,PNZO-2014861-Culcita_macrocarpa:0.030444620):0.083348141,PNZO-2026447-Culcita_macrocarpa:0.035011676):0.001959609):0.038525537):0.010451934,((NWWI-2129196-Nephrolepis_exaltata:0.151007630,RFRB-2004763-Didymochlaena_truncatula:0.138430370):0.076503201,((PIVW-2091514-Ceratopteris_thalictroides:0.127225877,PIVW-2013241-Ceratopteris_thalictroides:0.256359792):0.009441209,(((((NWWI-2016034-Nephrolepis_exaltata:0.214231309,RFRB-2003549-Didymochlaena_truncatula:0.119988454):0.018393382,(PSKY-2006363-Asplenium_nidus:0.039564509,PSKY-2006364-Asplenium_nidus:0.067459199):0.038204473):0.007797983,((OQWW-2011605-Davallia_fejeensis:0.128938622,WQML-2067295-Cryptogramma_acrostichoides:0.106504261):0.032137879,(MTGC-2045309-Dennstaedtia:0.071633948,(RFRB-2001106-Didymochlaena_truncatula:0.053798988,((YJJY-2003866-Woodsia_scopulina:0.055674439,((UFJN-2011921-Diplazium_wichurae:0.000461849,UFJN-2011920-Diplazium_wichurae:-0.000461849):0.032169584,(URCP-2006930-Athyrium_filix_femina:0.003371251,AFPO-2067950-Blechnum_spicant-gametophyte:0.026882890):0.013063245):0.012842779):0.019654427,(OCZL-2057098-Homalosorus_pycnocarpos:0.042589225,(YOWV-2065628-Cystopteris_protrusa:0.012348165,RICC-2063680-Cystopteris_reevesiana:0.007184306):0.025533758):0.006961640):0.012125785):0.012039147):0.006962734):0.004613584):0.006933982,(CJNT-2000385-Polypodium_glycyrrhiza:0.105965872,(OQWW-2210001-Davallia_fejeensis:0.048099421,NWWI-2017522-Nephrolepis_exaltata:0.030207761):0.011167278):0.019582192):0.006539744,(UJTT-2021887-Pityrogramma_trifoliata:0.068349340,(FLTD-2002709-Pteris_ensigormis:0.093581109,FLTD-2000769-Pteris_ensigormis:0.047626234):0.026226297):0.031195598):0.013341729):0.018051917):0.057194976):0.010766564):0.049288611):0.030294686):0.013094981,(EEAQ-2085892-Sceptridium_dissectum:0.241281646,(MEKP-2009607-Dipteris_conjugata:0.097247611,((UGNK-2009017-Marattia_attenuata:0.026923009,UGNK-2002432-Marattia_attenuata:0.027348165):0.098088616,(VIBO-2075523-Osmunda_javanica:0.054208395,(VIBO-2066959-Osmunda_javanica:0.008592351,(VIBO-2074404-Osmunda_javanica:0.048477429,((((UWOD-2010389-Plagiogyria_japonica:0.017260951,PNZO-2022483-Culcita_macrocarpa:0.007576930):0.030496091,(UWOD-2022189-Plagiogyria_japonica:0.047916024,(UWOD-2022188-Plagiogyria_japonica:0.009085303,PNZO-2008392-Culcita_macrocarpa:0.017331849):0.004526545):0.019361599):0.005082887,(QIAD-2001310-Hymenophyllum_bivalve:0.055548906,(((NOKI-2003826-Lindsaea_linearis:-0.002132137,((NOKI-2003824-Lindsaea_linearis:0.0,NOKI-2003823-Lindsaea_linearis:0.0,NOKI-2003822-Lindsaea_linearis:0.0):0.010395909,NOKI-2003825-Lindsaea_linearis:-0.002191699):0.003958864):0.063961082,(((UJTT-2024293-Pityrogramma_trifoliata:-0.006503246,(UJTT-2024292-Pityrogramma_trifoliata:-0.008651913,UJTT-2020630-Pityrogramma_trifoliata:0.039123719):0.004625140):0.018259976,(FLTD-2003260-Pteris_ensigormis:0.118335216,(WQML-2067239-Cryptogramma_acrostichoides:0.078654434,((PIVW-2004244-Ceratopteris_thalictroides:0.0,PIVW-2004243-Ceratopteris_thalictroides:0.0):0.035182122,(PIVW-2004875-Ceratopteris_thalictroides:-0.003066481,(PIVW-2004877-Ceratopteris_thalictroides:0.011050735,PIVW-2004876-Ceratopteris_thalictroides:-0.011050735):0.010613143):0.054245691):0.037640166):0.006123007):0.003341551):0.057324415,((((RFRB-2005366-Didymochlaena_truncatula:0.064806673,(((OCZL-2010016-Homalosorus_pycnocarpos:0.002778322,UFJN-2008383-Diplazium_wichurae:0.019926164):0.006850299,((VITX-2011619-Blechnum_spicant:0.000846148,VITX-2011620-Blechnum_spicant:-0.000846148):0.022834418,(AFPO-2004049-Blechnum_spicant-gametophyte:0.008162094,(AFPO-2004050-Blechnum_spicant-gametophyte:0.008232224,((UFJN-2008385-Diplazium_wichurae:0.036064409,(VITX-2012698-Blechnum_spicant:0.057260943,(YOWV-2007410-Cystopteris_protrusa:-0.003293900,YOWV-2007411-Cystopteris_protrusa:0.003293900):0.047055075):0.005308449):0.030852552,UFJN-2008384-Diplazium_wichurae:0.011982092):0.008814637):0.023043098):0.007231724):0.002525620):0.010337493,(RICC-2001178-Cystopteris_reevesiana:0.019145226,(YOWV-2001186-Cystopteris_protrusa:0.001406896,YOWV-2001187-Cystopteris_protrusa:-0.001406896):0.009219262):0.032165930):0.003390392):0.006213875,(WGTU-2003219-Leucostegia_immersa:0.061512381,(PSKY-2011137-Asplenium_nidus:0.029736114,PSKY-2011117-Asplenium_nidus:0.032243943):0.012593804):0.000937586):0.004992483,(NWWI-2005973-Nephrolepis_exaltata:0.013367063,(WQML-2010447-Cryptogramma_acrostichoides:0.064372807,OQWW-2226199-Davallia_fejeensis:0.034627107):0.007178623):0.010231162):0.001078287,((RICC-2009776-Cystopteris_reevesiana:-0.000369180,MTGC-2006016-Dennstaedtia:0.005053196):0.060518027,(MTGC-2002179-Dennstaedtia:0.028262871,(HTFH-2008389-Onoclea_sensibilis:0.076286457,(RFRB-2004661-Didymochlaena_truncatula:0.036366468,MTGC-2002180-Dennstaedtia:0.020106048):0.016240961):0.013205907):0.028107524):0.005950203):0.005203446):0.029414007):0.012532517,((Azolla_filiculoides_LAR:0.0,AZOLLAFILICULOIDES:0.0):0.063158822,(((EWXK-2002787-Thyrsopteris_elegans:0.0,EWXK-2002785-Thyrsopteris_elegans:0.0):-0.014857525,(EWXK-2002786-Thyrsopteris_elegans:-0.100227239,MTGC-2006744-Dennstaedtia:0.100227239):0.051924384):0.042662054,PNZO-2020054-Culcita_macrocarpa:0.012085836):0.018155567):0.008216264):0.000636157):0.008843436):0.007365940,(QIAD-2007571-Hymenophyllum_bivalve:0.060111861,(MEKP-2006126-Dipteris_conjugata:0.057109750,((PNZO-2144082-Culcita_macrocarpa:-0.007215816,MTGC-2003517-Dennstaedtia:0.144762457):0.054660203,(MEKP-2104936-Dipteris_conjugata:0.008542662,PNZO-2019133-Culcita_macrocarpa:-0.008542662):0.081829898):0.030020141):0.003564667):0.006410720):0.018326273):0.005793626):0.019077764):0.031758017):0.006427254):0.105671898):0.017830770):0.005242114,(EEAQ-2015837-Sceptridium_dissectum:0.139531208,EEAQ-2086622-Sceptridium_dissectum:0.197149564):0.013631052):0.014144229):0.019970616):0.022677474):0.029732811):0.014509857):0.007265221):0.003956581):0.006049339,((Manes_v4_1-cassava4_1_028385m-Manihot_esculenta:0.199125172,(TJLC-2012256-Nothofagus_obliqua:0.127155909,((Eucgr_v1_1-Eucgr_I02421_1-Eucalyptus_grandis:0.077607715,AYMT-2006415-Eucalyptus_leucoxylon-March:0.075867117):0.073083157,(RBYC-2075468-Elaeagnus_pungens:0.143539526,UWFU-2036417-Itea_virginica:0.170824343):0.045627182):0.007502572):0.004344684):0.019441328,((((EFCZ-2036898-EFCZ-Eleusine_coracana-4_samples_combined:0.404194182,(Elagu_v2_0-p5_sc00089_V1_gene225-Elaeis_guineensis:0.298300420,Elagu_v2_0-p5_sc00089_V1_gene226-Elaeis_guineensis:0.189021760):0.040588498):0.045336607,(VTUS-2009665-Goodyera_pubescens:0.288371566,(Gymnadenia_densiflora_EGS_:0.172152461,MWYQ-2010723-Smilax_bona_nox:0.096476127):0.112460306):0.025010846):0.047128425,(DZTK-2036715-Batis_maritima:0.110062933,LVUS-2009236-LVUS-Cleome_violaceae-2_samples_combined:0.209028651):0.031094241):0.006825723,(BEFC-2001207-Manilkara_zapota:0.204456653,EMAL-2002856-Ehretia_acuminata:0.313515769):0.018931089):0.003277340):0.011338096):0.012282133):0.010160881):0.007609666):0.005455882,(Piper_regnellii_APS_:0.162174132,(NXTS-2022085-NXTS-Mollugo_verticillata-2_samples_combined:0.084550603,GJNX-2008283-Cypselea_humifusum:0.072942578):0.065689803):0.011467091):0.003266027):0.007836159,((BCAA-2071638-Kirkia_wilmsii:0.099366625,(JMTE-2015639-Pseudoscourfieldia_marina:0.120984234,EDEQ-2006436-Wrightia_natalensis:0.117449188):0.012630504):0.013166714,(((MXFG-2014601-Pinguicula_agnata:0.142704249,(JCMU-2005036-Pinguicula_caudata:0.031539360,MXFG-2000385-Pinguicula_agnata:0.041280395):0.087669872):0.023055609,(Forsythia_intermedia_PCBER_:0.066708338,(CLRW-2030804-Bacopa_caroliniana:0.105488525,VYDM-2129688-VYDM-Orobanche_fasciculata-2_samples_combined:0.048154933):0.015512044):0.006856448):0.027090122,((Petunia_hybrida_EGS_:0.048498494,(Nicotiana_tabacum_PCBER_:0.050915537,LWCK-2011690-Lycium_barbarum:0.132239317):0.011268134):0.049938846,(DIHD-2017857-Heliotropium_tenellum-juvenile_leaf:0.073655200,OLXF-2091268-Hibiscus_cannabinus:0.119751086):0.005882621):0.004540221):0.004038183):0.004533936):0.004156349):0.005136324,(Larrea_tridentata_APS_:0.104773191,(Populus_trichorpa_PCBER_:0.117076320,(ZBVT-2001229-Chrysobalanus_icaco:0.081317442,(RPPC-2001480-Erythroxylum_coca:0.115309253,(VXOD-2045741-Linum_tenuifolium:0.046629830,HNCF-2008210-Linum_hirsutum:0.044384505):0.022491596):0.008654361):0.013062564):0.019374326):0.003945221):0.004155158):0.001517473);\n"
     ]
    },
    {
     "name": "stdout",
     "output_type": "stream",
     "text": [
      "Total branch-length 92.615 after 4.10 sec\n",
      "ML_Lengths1\t(((Lotus_japonicus_PTR_:0.169163711,(WDWX-2040226-Dunaliella_primolecta-UTEX_LB_1000:0.000000005,(ZDIZ-2046665-Dunaliella_tertiolecta-CCMP_364:0.000000005,UKUC-2108429-Dunaliella_salina-UTEX_LB_200:0.000000005):0.000000005):0.066077447):0.020923877,(UZWG-2005807-Castanea_pumila:0.066936508,YGCX-2029297-Geranium_maculatum:0.090516694):0.018660631):0.016286910,(Fragaria_ananassa_EGS1_:0.074490214,WBOD-2008814-Magnolia_grandiflora:0.095532140):0.030711586,((KYAD-2052004-Celtis_occidentalis:0.075741540,(Clarkia_breweri_EGS2_:0.089870317,(WWKL-2000561-Tapiscia_sinensis:0.056163977,TIUZ-2003245-Cunonia_capensis:0.092423536):0.003264364):0.007329754):0.008843105,((MVSE-2009482-Griselinia_littoralis:0.150101600,((((GSZA-2014113-Lonicera_japonica:0.125007376,(KGJF-2007963-Tragopogon_porrifolius:0.064739926,(QXWF-2011665-Flaveria_kochiana:0.047022533,MHYG-2011592-MHYG-Conzya_canadensis-2_samples_combined:0.037021855):0.022305948):0.055199935):0.038862580,(ZUHO-2011764-Anemone_hupenhensis:0.101953029,OHAE-2001817-Polygala_lutea:0.063181629):0.031961964):0.016000494,((((Manes_v4_1-cassava4_1_034037m-Manihot_esculenta:0.156813549,Ambtr_v1_0_27-AmTr_v1_0_scaffold00018_72-Amborella_trichopoda:0.165472015):0.048569589,((DZLN-2001811-Oenothera_picensis-MTJ_655:0.245272171,(EZGR-2007052-EZGR-Portulaca_oleracea-2_samples_combined:0.135490592,(JMTE-2015076-Pseudoscourfieldia_marina:0.145534733,NHUA-2068545-Castanea_crenata:0.190436143):0.037760197):0.003769816):0.055330752,((VFFP-2004565-Acer_negundo:0.213256436,((GLVK-2013941-Salix_eriocephala:0.102097589,Theca_v1_1-Thecc1EG006861t1-Theobroma_cacao:0.066847871):0.018488075,(TIUZ-2005463-Cunonia_capensis:0.059405619,(RVGH-2017013-Drypetes_deplanchei:0.063162986,VNMY-2003437-Bischofia_javanica:0.112001944):0.010608899):0.000000006):0.002539460):0.010993139,(Fragaria_ananassa_EGS2_:0.202294506,(PEZP-2015549-Glycyrrhiza_glabra:0.297813311,(BAHE-2135573-Solenostemon_scutellarioides:0.104606248,(FROP-2009571-FROP-Epifagus_virginiana-2_samples_combined:0.093046308,EJCM-2020213-EJCM-Lindenbergia_philippensis-2_samples_combined:0.045899764):0.023679462):0.111718487):0.030811662):0.028464829):0.025219848):0.014461422):0.016512691,(VGVI-2008936-Dendropemon_caribaeus:0.277839938,((UBLN-2013933-Xanthuium_strumarium:0.183262144,BAHE-2016886-Solenostemon_scutellarioides:0.338583283):0.092129380,((((YPIC-2013776-Microstegium_vimineum:0.268430994,(HPXA-2007569-Ptilidium_pulcherrimum:0.328258258,XPAF-2000155-Mapania_palustris:0.000000005):0.075670138):0.086702838,((UZXL-2013107-Disporopsis_pernyi:0.218656525,((HDWF-2005912-Francoa_appendiculata:0.073933801,SVTS-2001075-Drimia_altissima:0.037411305):0.049817775,(BSTR-2011102-Chondropetalum_tectorum:0.154801092,((ZMGN-2010738-Neurachne_munroi:0.072806621,(IADP-2014327-Deschampsia_cespitosa:0.062331513,ENAU-2017809-Spermatozopsis_similis:0.090194317):0.081977079):0.073839951,BYPY-2079675-Brocchinia_reducta:0.106713844):0.011365269):0.061107082):0.000000005):0.053186168,(DGXS-2004806-Freycinetia_multiflora:0.169962781,(XFJG-2001226-Maianthemum_canadense:0.135110790,YBML-2018485-Yucca_brevifolia:0.208627735):0.036352360):0.085925636):0.008514461):0.059564398,((KFZY-2024659-Tragopogon_castellanus:0.000000005,FUPX-2006739-Tragopogon_pratensis:0.016704266):0.294893093,(((PEZP-2001925-Glycyrrhiza_glabra:0.000000005,(Cicer_arietinum_IFR_:0.092838674,(Pisum_sativum_IFR_:0.033440443,Medicago_sativa_IFR_:0.044299278):0.036928516):0.053910645):0.296342425,EYRD-2015259-EYRD-Alternanthera_tenella-2_samples_combined:0.266661811):0.066429914,(TOXE-2005667-Welwitschia_mirabilis:0.288976317,((((ROWR-2001152-Falcatifolium_taxoides:0.197346914,(IAJW-2007887-Amentotaxus_argotaenia:0.067396267,(IFLI-2000331-Callitris_gracilis-March:0.059041730,AIGO-2001003-Chamaecyparis_lawsoniana:0.060861035):0.084453235):0.060334630):0.021799416,((QFAE-2005256-Sequoiadendron_giganteum-Glaucum:0.029258777,ZQVF-2016229-ZQVF-Cunninghamia_lanceolata-2_samples_combined:0.032518081):0.121793585,(RSCE-2005313-Wollemia_nobilis:0.162543295,(NGRR-2076095-Ternstroemia_gymnanthera:0.489286420,IZGN-2003468-Dacrydium_balansae:0.000000005):0.200334782):0.017046841):0.010403033):0.084811294,(WQML-2058582-Cryptogramma_acrostichoides:0.128048912,(((MFTM-2001687-Pinus_jeffreyi:0.101746254,Pinta_v2_0-PITA_000050506_RA-Pinus_taeda:0.311351968):0.053144121,((AIGO-2000161-Chamaecyparis_lawsoniana:0.031840597,ETCJ-2004328-Pilgerodendron_uviferum:0.048160118):0.038623995,(KLGF-2003266-Sundacarpus_amarus:0.028959536,(IZGN-2005659-Dacrydium_balansae:0.027036317,HILW-2017904-Acmopyle_pancheri:0.028816721):0.025253455):0.039504816):0.021800968):0.028060339,(Pinus_taeda_PCBER_:0.074673171,Tsuga_heterophylla_PCBER_:0.063276063):0.059555354):0.014138151):0.010168785):0.086549359,((HILW-2005133-Acmopyle_pancheri:0.089861777,(MHGD-2071842-Microcachrys_tetragona:0.045287160,OWFC-2004422-Halocarpus_bidwillii:0.076951769):0.019235918):0.352234739,(((((PNZO-2013494-Culcita_macrocarpa:0.050476961,EWXK-2121103-Thyrsopteris_elegans:0.013481532):0.294559926,(((CQPW-2021249-Anemia_tomentosa:0.257962568,(EWXK-2119988-Thyrsopteris_elegans:0.039059781,(UWOD-2137909-Plagiogyria_japonica:0.058779710,(PNZO-2007161-Culcita_macrocarpa:0.006662270,PNZO-2007160-Culcita_macrocarpa:0.016882406):0.009593441):0.044718415):0.155789040):0.064017103,(MEKP-2097268-Dipteris_conjugata:0.178952710,(MEKP-2006924-Dipteris_conjugata:0.000000005,MEKP-2006925-Dipteris_conjugata:0.095856034):0.163278894):0.074578689):0.134006190,(VIBO-2006261-Osmunda_javanica:0.126571062,(VIBO-2007835-Osmunda_javanica:0.150661030,((MEKP-2104845-Dipteris_conjugata:0.166026840,(((UWOD-2135206-Plagiogyria_japonica:0.000000005,XDVM-2028193-Sticherus_lobatus:0.256577118):0.076390431,(EWXK-2121424-Thyrsopteris_elegans:0.022201514,(UWOD-2130374-Plagiogyria_japonica:0.076677496,PNZO-2150800-Culcita_macrocarpa:0.018111090):0.033875279):0.057968312):0.023736721,((NOKI-2094938-Lindsaea_linearis:0.098911567,(NOKI-2009957-Lindsaea_linearis:0.000000005,NOKI-2009956-Lindsaea_linearis:0.000000005):0.199058203):0.203121195,(MTGC-2043348-Dennstaedtia:0.181916832,((RFRB-2028039-Didymochlaena_truncatula:0.120513529,NWWI-2128381-Nephrolepis_exaltata:0.173196673):0.028941283,(NWWI-2016921-Nephrolepis_exaltata:0.134122031,(OQWW-2033116-Davallia_fejeensis:0.104934974,ZRAV-2135772-ZRAV-Polypodium_hesperium-2_samples_combined:0.081961630):0.066716356):0.033879342):0.096108436):0.050624412):0.111527988):0.119372367):0.036496121,QIAD-2058794-Hymenophyllum_bivalve:0.167206976):0.126844935):0.090073126):0.029351329):0.020955798):0.086808302,(((PIVW-2009700-Ceratopteris_thalictroides:0.270981025,(OQWW-2225010-Davallia_fejeensis:0.169664424,((OCZL-2002261-Homalosorus_pycnocarpos:0.106786745,RFRB-2030922-Didymochlaena_truncatula:0.093034501):0.015762330,(HEGQ-2078665-Gymnocarpium_dryopteris:0.089019034,((RICC-2060962-Cystopteris_reevesiana:0.026433687,YOWV-2062256-Cystopteris_protrusa:0.017288611):0.128135857,(OCZL-2055378-Homalosorus_pycnocarpos:0.040455157,AFPO-2009108-Blechnum_spicant-gametophyte:0.049016686):0.023169086):0.035217556):0.047785603):0.039515061):0.193862772):0.271113825,(MEKP-2104929-Dipteris_conjugata:0.258492490,QIAD-2057445-Hymenophyllum_bivalve:0.252681906):0.009463420):0.302212264,((QIAD-2005972-Hymenophyllum_bivalve:0.172601847,(((UWOD-2131603-Plagiogyria_japonica:0.000000005,UWOD-2130040-Plagiogyria_japonica:0.000000005):0.059446187,(EWXK-2012289-Thyrsopteris_elegans:0.000000005,(EWXK-2012291-Thyrsopteris_elegans:0.002389238,EWXK-2012290-Thyrsopteris_elegans:0.000000005):0.007576289):0.032155096):0.033221241,((WQML-2006550-Cryptogramma_acrostichoides:0.124028041,(UJTT-2089056-Pityrogramma_trifoliata:0.246331138,WQML-2006551-Cryptogramma_acrostichoides:0.074139420):0.014625069):0.224397694,(((NWWI-2016936-Nephrolepis_exaltata:0.008792704,NWWI-2016937-Nephrolepis_exaltata:0.005888651):0.097824150,(PSKY-2012413-Asplenium_nidus:0.083204360,(OQWW-2031695-Davallia_fejeensis:0.018532029,OQWW-2031694-Davallia_fejeensis:0.021349217):0.070228885):0.035573191):0.023077389,((AFPO-2066549-Blechnum_spicant-gametophyte:0.017567714,(YOWV-2008603-Cystopteris_protrusa:0.057643435,UFJN-2011504-Diplazium_wichurae:0.033534635):0.015127164):0.015814632,(VITX-2091612-Blechnum_spicant:0.000000005,MTGC-2040667-Dennstaedtia:0.089299421):0.061524779):0.000000005):0.073139226):0.045293080):0.131271604):0.134836850,(MEKP-2014651-Dipteris_conjugata:0.224692492,(MEKP-2105811-Dipteris_conjugata:0.194509685,VIBO-2008406-Osmunda_javanica:0.105667212):0.053202501):0.033294170):0.043482284):0.120192378):0.071320186,((((KUXM-2008758-Selaginella_selaginoides:0.154213295,(ZFGK-2039682-Selaginella_kraussiana:0.162716156,(JKAA-2005030-Selaginella_wallacei:0.134737168,JKAA-2013986-Selaginella_wallacei:0.054727146):0.168570899):0.059569124):0.124845083,((((((RCBT-2015455-Sphagnum_palustre:0.0,RCBT-2015454-Sphagnum_palustre:0.0):0.020515148,(UHLI-2010235-Sphagnum_recurvatum:0.035315720,GOWD-2019693-Sphagnum_lescurii:0.012940924):0.016089214):0.018339424,(GOWD-2018219-Sphagnum_lescurii:0.153399423,UHLI-2005988-Sphagnum_recurvatum:0.113884867):0.035646879):0.174738341,(((HVBQ-2117680-Tetraphis_pellucida:0.150541063,HVBQ-2002082-Tetraphis_pellucida:0.138092948):0.135474845,((HVBQ-2022578-Tetraphis_pellucida:0.226358032,(HVBQ-2003576-Tetraphis_pellucida:0.098285672,HVBQ-2009875-Tetraphis_pellucida:0.100775812):0.044304596):0.115431477,(((CMEQ-2007026-Orthotrichum_lyellii:0.043870582,CMEQ-2007027-Orthotrichum_lyellii:0.073656818):0.169583741,(CMEQ-2016218-Orthotrichum_lyellii:0.202692241,((HVBQ-2014230-Tetraphis_pellucida:0.076829450,(HVBQ-2014231-Tetraphis_pellucida:0.000000005,HVBQ-2014232-Tetraphis_pellucida:0.095307120):0.068711988):0.043992899,(TMAJ-2181594-Neckera_douglasii:0.056958883,EEMJ-2000954-Thuidium_delicatulum:0.145061604):0.038401568):0.027456860):0.053038883):0.137384603,(BGXB-2078046-Plagiomnium_insigne:0.195523516,(VMXJ-2011019-Leucobryum_albidum:0.133648333,RGKI-2004601-Leucobryum_glaucum:0.213479570):0.066080965):0.104613351):0.157024205):0.069100427):0.112417633,(WOGB-2014576-Andreaea_rupestris:0.379820474,(((GOWD-2000241-Sphagnum_lescurii:0.000000005,(RCBT-2015254-Sphagnum_palustre:0.061423105,(UHLI-2002577-Sphagnum_recurvatum:0.013290268,UHLI-2002578-Sphagnum_recurvatum:0.030927732):0.065382889):0.036442640):0.015165153,(GOWD-2000239-Sphagnum_lescurii:0.000000005,GOWD-2000240-Sphagnum_lescurii:0.028266865):0.020487458):0.144464231,(RCBT-2025315-Sphagnum_palustre:0.182617299,(UHLI-2018683-Sphagnum_recurvatum:0.000000005,((RCBT-2010487-Sphagnum_palustre:0.0,RCBT-2010486-Sphagnum_palustre:0.0):0.041980269,(GOWD-2081731-Sphagnum_lescurii:0.019832907,UHLI-2084424-Sphagnum_recurvatum:0.017852916):0.017912363):0.035202798):0.058517240):0.171334880):0.105668947):0.058619046):0.035840487):0.089682102,(((((UUHD-2015092-Porella_pinnata:0.097249297,UUHD-2010718-Porella_pinnata:0.129533806):0.076340426,(BNCU-2085839-Radula_lindenbergia:0.158561993,BNCU-2008805-Radula_lindenbergia:0.182346415):0.105416781):0.009188607,((HPXA-2004013-Ptilidium_pulcherrimum:0.181493690,HPXA-2004014-Ptilidium_pulcherrimum:0.106674430):0.088416744,HPXA-2019945-Ptilidium_pulcherrimum:0.250950993):0.051271288):0.055406019,((WZYK-2003469-Bazzania_trilobata:0.261969683,WZYK-2000342-Bazzania_trilobata:0.210811844):0.076732326,(WZYK-2013726-Bazzania_trilobata:0.204464471,(WZYK-2009633-Bazzania_trilobata:0.166874400,WZYK-2014513-Bazzania_trilobata:0.360959565):0.028192658):0.054924050):0.033158405):0.211227024,((BNCU-2016550-Radula_lindenbergia:0.000000005,BNCU-2016551-Radula_lindenbergia:0.000000005):0.478973987,((BNCU-2003090-Radula_lindenbergia:0.072615523,(BNCU-2084921-Radula_lindenbergia:0.133957433,BNCU-2018297-Radula_lindenbergia:0.161998022):0.035539952):0.108868126,(WZYK-2016729-Bazzania_trilobata:0.107210865,(HPXA-2016794-Ptilidium_pulcherrimum:0.141104454,UUHD-2146898-Porella_pinnata:0.105667217):0.031247117):0.031840882):0.119537860):0.201217709):0.092634205):0.036325164,((AKXB-2064674-Phaeomegaceros_coriaceus:0.032828165,(TCBC-2010819-Megaceros_vincentianus:0.0,TCBC-2010818-Megaceros_vincentianus:0.0):0.028263791):0.262226801,((AKXB-2006615-Phaeomegaceros_coriaceus:0.000000005,AKXB-2006616-Phaeomegaceros_coriaceus:0.004047667):0.312028688,((AKXB-2005589-Phaeomegaceros_coriaceus:0.178478398,((TCBC-2019354-Megaceros_vincentianus:0.042309064,((AKXB-2001848-Phaeomegaceros_coriaceus:0.008977286,TCBC-2012345-Megaceros_vincentianus:0.039299216):0.048750084,(AKXB-2001849-Phaeomegaceros_coriaceus:0.000000005,AKXB-2001847-Phaeomegaceros_coriaceus:0.000000005):0.052585867):0.017764082):0.111152177,(AKXB-2007298-Phaeomegaceros_coriaceus:0.044123485,(TCBC-2007730-Megaceros_vincentianus:0.000000005,TCBC-2007728-Megaceros_vincentianus:0.010029845):0.079235202):0.118830952):0.065493114):0.063654458,(AKXB-2067781-Phaeomegaceros_coriaceus:0.259820629,(AKXB-2063859-Phaeomegaceros_coriaceus:0.029848376,TCBC-2007729-Megaceros_vincentianus:0.052147252):0.362088675):0.069774446):0.003184366):0.021403404):0.216565029):0.044833048):0.028718995,((((((KUXM-2000066-Selaginella_selaginoides:0.503728623,((KUXM-2010445-Selaginella_selaginoides:0.527957041,(((MUNP-2003756-Piper_auritum:0.000000006,MUNP-2003757-Piper_auritum:0.013533300):0.396988607,((KUXM-2010076-Selaginella_selaginoides:0.173925910,KUXM-2041265-Selaginella_selaginoides:0.236874656):0.045519805,(ZFGK-2039190-Selaginella_kraussiana:0.289218512,(JKAA-2013288-Selaginella_wallacei:0.221839810,(ZFGK-2040270-Selaginella_kraussiana:0.207787256,(Selaginella_moellendorffii_PLR-like2_:0.108327954,LGDQ-2001233-Selaginella_apoda:0.146086653):0.116716142):0.057382507):0.040646534):0.056043562):0.104304322):0.056491898,(((IFLI-2143577-Callitris_gracilis-March:0.111001526,(EFMS-2079821-Torreya_taxifolia:0.027597715,IAJW-2149040-Amentotaxus_argotaenia:0.041700483):0.034911782):0.271978153,(((QNGJ-2069362-Cupressus_dupreziana:0.094212793,(OXGJ-2004119-Glyptostrobus_pensilis:0.073086928,(Thuja_plicata_PLR_:0.038536041,NKIN-2006656-Thujopsis_dolabrata:0.073022081):0.092762938):0.000000005):0.151435493,((QHBI-2012752-Falcatifolium_taxoides-A:0.095981909,(BUWV-2011281-Platycladus_orientalis:0.046726046,VFYZ-2009030-Thuja_plicata:0.012472319):0.093381688):0.057515782,(Tsuga_heterophylla_PLR_:0.132036519,WLIC-2017336-Dioon_edule:0.112757476):0.016556507):0.019116558):0.045914200,((HQOM-2009457-Torreya_nucifera:0.105312667,MHGD-2071798-Microcachrys_tetragona:0.113797391):0.092949003,((YZRI-2007595-Annona_muricata:0.167833909,((XRLM-2074327-Buddleja_lindleyana:0.110031554,(Forsythia_intermedia_PLR_:0.051063232,KTAR-2138832-Chionanthus_retusus:0.101725357):0.047213065):0.069447082,((AUIP-2030187-Phelline_lucida:0.090555278,((UYED-2005832-Flaveria_sonorensis:0.037327679,JYMN-2013034-JYMN-Flaveria_brownii-2_samples_combined:0.028958153):0.147002912,IZLO-2006650-Lobelia_siphilitica:0.067843517):0.032235325):0.016570896,((YSRZ-2016241-Fouqueria_macdougalli:0.090613384,((Linum_album_PLR_:0.043206334,VXOD-2000289-Linum_tenuifolium:0.054457150):0.069181705,OODC-2080627-Linum_bienne-CN_107293:0.074774808):0.063691707):0.008442462,PAWA-2010138-Aristolochia_elegans:0.232544635):0.009202207):0.030169472):0.100004041):0.039366258,(((GCFE-2053997-Verbena_hastata:0.110246198,(FROP-2083168-FROP-Epifagus_virginiana-2_samples_combined:0.118131987,UTQR-2017073-Tabebuia_umbellate:0.056576967):0.018507777):0.075943645,(((GVCB-2044846-Oenothera_affinis-MTJ_529:0.138359580,FGDU-2012898-Syzygium_paniculatum:0.101368133):0.017731762,((LWDA-2005167-Alnus_serrulata:0.091223048,WEQK-2063179-Centella_asiatica:0.121912631):0.029985277,(((((TVSH-2069542-Bituminaria_bituminosa:0.041311819,VLNB-2017257-Gompholobium_polymorphum:0.033460411):0.028840174,Phavu_v1_0-Phvul_002G132400_1-Phaseolus_vulgaris:0.049345003):0.008874591,(UGJI-2001747-Lycopersicon_cheesmanii:0.186953641,ZSSR-2095995-Xanthicercis_zambesiaca:0.062964459):0.038292993):0.049787921,AQGE-2004538-Humulus_lupulus:0.136787145):0.009214575,((JGYZ-2001442-Holarrhena_pubescens:0.108283645,HANM-2010435-Pholisma_arenarium:0.083463650):0.021521080,ZETY-2013560-Hydrangea_quercifolia:0.122230350):0.031138942):0.033725246):0.038617945):0.000000005,(IKFD-2051629-Quassia_amara:0.151103586,(BNDE-2018188-Hypericum_perforatum:0.175274485,(XNLP-2088727-Manihot_grahamii:0.113451515,IEPQ-2018836-Salix_dasyclados:0.109236151):0.027113829):0.008656481):0.020406298):0.032103805):0.013652343,((IPWB-2086101-Brassica_nigra:0.040133705,TZWR-2044053-Arabis_alpina:0.067480558):0.214299523,(JAFJ-2143866-Bougainvillea_spectabilis:0.170033579,FZQN-2013397-Silene_latifolia:0.138942961):0.044075837):0.036228955):0.054312645):0.132753752):0.088652329):0.061566064):0.083676319,((VIBO-2074059-Osmunda_javanica:0.188000009,(((QIAD-2005744-Hymenophyllum_bivalve:0.127738831,QIAD-2005745-Hymenophyllum_bivalve:0.119265272):0.061975713,(MEKP-2098010-Dipteris_conjugata:0.070347186,(NOKI-2017019-Lindsaea_linearis:0.076594151,MEKP-2100931-Dipteris_conjugata:0.134876255):0.022075268):0.054231728):0.011466723,((EWXK-2010470-Thyrsopteris_elegans:0.080348337,((PIVW-2011047-Ceratopteris_thalictroides:0.0,PIVW-2011048-Ceratopteris_thalictroides:0.0):0.242509104,(FLTD-2008493-Pteris_ensigormis:0.093778969,(UJTT-2025826-Pityrogramma_trifoliata:0.117528840,WQML-2008990-Cryptogramma_acrostichoides:0.115835231):0.026199552):0.059126618):0.164419824):0.093521202,((EWXK-2000996-Thyrsopteris_elegans:0.087192571,UWOD-2137810-Plagiogyria_japonica:0.087769157):0.039418081,(MTGC-2009039-Dennstaedtia:0.115208647,(((NWWI-2034189-Nephrolepis_exaltata:0.143077648,PSKY-2003762-Asplenium_nidus:0.210887862):0.031117286,((OQWW-2017833-Davallia_fejeensis:0.118540778,(NWWI-2008621-Nephrolepis_exaltata:0.008982634,(NWWI-2008623-Nephrolepis_exaltata:0.032298530,(NWWI-2008622-Nephrolepis_exaltata:0.003437582,NWWI-2008620-Nephrolepis_exaltata:0.000000005):0.000000005):0.015628479):0.068347855):0.055244380,(RFRB-2034180-Didymochlaena_truncatula:0.136309322,(((RICC-2001311-Cystopteris_reevesiana:0.000000005,RICC-2001312-Cystopteris_reevesiana:0.000000005):0.085142200,MROH-2004360-Thelypteris_acuminata:0.116964360):0.006308910,(UFJN-2085627-Diplazium_wichurae:0.046146915,(VITX-2088941-Blechnum_spicant:0.000000005,AFPO-2008569-Blechnum_spicant-gametophyte:0.011677220):0.029349422):0.043957673):0.031638852):0.003659470):0.036409720):0.000000005,VITX-2012840-Blechnum_spicant:0.082803706):0.097171172):0.163273894):0.057271527):0.082226786):0.150631423):0.102247335,((JZVE-2037546-Parasitaxus_usta:0.112964764,NKIN-2001868-Thujopsis_dolabrata:0.129244689):0.198263030,((ZFGK-2006663-Selaginella_kraussiana:0.116901671,JKAA-2009905-Selaginella_wallacei:0.206477992):0.058041301,(Selaginella_moellendorffii_PLR-like1_:0.221795471,(KUXM-2005443-Selaginella_selaginoides:0.000000005,(KUXM-2005444-Selaginella_selaginoides:0.0,KUXM-2005442-Selaginella_selaginoides:0.0):0.000000005):0.232043162):0.041501842):0.151336364):0.062305988):0.031911562):0.053696685):0.077070017):0.044644481,(KUXM-2038331-Selaginella_selaginoides:0.098144991,ZFGK-2005295-Selaginella_kraussiana:0.585891592):0.158080194):0.090620154):0.098299274,(((WAXR-2040121-Litchi_chinensis:0.279022572,((Petunia_hybrida_IGS_:0.135416010,NHAG-2010268-Ipomoea_nil:0.213701869):0.088798468,((EHNF-2002671-Dillenia_indica:0.163913836,(Larrea_tridentata_PPS_:0.133316913,HTIP-2054678-Paeonia_lactiflora:0.145969797):0.004667555):0.046889668,(Nelnu_v1_0-NNU_018535_RA-Nelumbo_nucifera:0.181495959,(Piper_regnellii_PPS_:0.195033497,JAFJ-2015984-Bougainvillea_spectabilis:0.244358567):0.034029266):0.028276362):0.039795181):0.022087742):0.059332343,(Pimpinella_anisum_AIS_:0.368862915,(KZED-2000826-Senna_hebecarpa:0.327597349,(((HTIP-2055665-Paeonia_lactiflora:0.140248861,(ZJRC-2012653-ZJRC-Sambucus_canadensis-2_samples_combined:0.115774409,((YRHD-2052503-Antirrhinum_braun-blanquetii:0.096016038,(Ocimum_tenuiflorum_EGS_:0.143793695,FDMM-2089007-Rosmarinus_officinalis:0.118263459):0.073640058):0.073734966,AUIP-2017220-Phelline_lucida:0.286849861):0.020612278):0.086042991):0.023090996,QICX-2148636-Ailanthus_altissima:0.164330538):0.000000005,((TLCA-2022331-TLCA-Oenothera_speciosa-5_samples_combined:0.044156862,CJGZ-2003902-Oenothera_nana-MTJ_0233:0.036199035):0.074030329,((Clarkia_breweri_IGS_:0.023739800,Clarkia_breweri_EGS1_:0.020568613):0.116501311,JKNQ-2010660-Oenothera_suffulta_suffulta-MTJ_92:0.173981549):0.034661903):0.187174999):0.044247710):0.084218560):0.009921559):0.089095719,(Ambtr_v1_0_27-AmTr_v1_0_scaffold00070_105-Amborella_trichopoda:0.369759642,((VFYZ-2037120-Thuja_plicata:0.088953977,OXGJ-2007450-Glyptostrobus_pensilis:0.077697981):0.116943065,(IOVS-2002490-Pseudotsuga_menziesii:0.132108751,(GAMH-2052494-Tsuga_heterophylla:0.157841779,DZQM-2012683-Pinus_radiata:0.124371152):0.025883385):0.083071480):0.136469027):0.030316037):0.322222809):0.036309100,((ZFGK-2006315-Selaginella_kraussiana:0.178107186,JKAA-2010207-Selaginella_wallacei:0.216924708):0.380808243,((RSCE-2055540-Wollemia_nobilis:0.133437449,JRNA-2012102-Phyllocladus_hypohyllus:0.181263669):0.154857607,(((EFCZ-2221308-EFCZ-Eleusine_coracana-4_samples_combined:0.232884699,(MWYQ-2005601-Smilax_bona_nox:0.164000403,(SART-2007383-Xeronema_callistemon:0.076975003,(CMCY-2155193-Hesperaloe_parviflora:0.125224538,(RQZP-2140753-Nolina_bigelorii:0.025877348,YBML-2028429-Yucca_brevifolia:0.047660696):0.041949610):0.054945060):0.098942299):0.022734171):0.073019454,(BHYC-2049386-Linum_lewisii:0.186315252,((((Fragaria_ananassa_LAR_:0.073152547,SQCF-2006621-Dryas_octopetala:0.051553887):0.086334381,((CKDK-2093233-Ochna_serrulata:0.184617643,(TDTF-2015303-Salix_sachalinensis:0.113394274,GLVK-2006351-Salix_eriocephala:0.070520181):0.062715281):0.038228964,Theca_v1_1-Thecc1EG011870t1-Theobroma_cacao:0.141991615):0.021176001):0.002918891,((YQIJ-2005632-Phacelia_campanularia:0.170116359,(QUTB-2075585-Aextoxicon_punctatum:0.053729125,HAEU-2053751-Berberidopsis_beckleri:0.058253542):0.025348731):0.035253982,(((AYMT-2110092-Eucalyptus_leucoxylon-March:0.122765903,HAEU-2050156-Berberidopsis_beckleri:0.000000005):0.079734299,(DHPO-2076351-Eupomatia_bennettii:0.195544296,(((WXVX-2009315-Ledum_palustre:0.135534805,SWGX-2068710-Tetrazygia_bicolor:0.187462225):0.035483450,HENI-2051959-Quercus_shumardii:0.142818828):0.013584835,(TVCU-2006094-Ochna_mossambicensis:0.155733620,OSIP-2125743-Garcinia_livingstonei:0.185714692):0.040533656):0.042959693):0.046979480):0.039815648,WFBF-2006916-Podophyllum_peltatum:0.224769601):0.039067364):0.040164193):0.020401813,(RKLL-2004322-Copaifera_officianalis:0.146012565,Desmodium_uncinatum_LAR_:0.176300256):0.089766346):0.066217908):0.069856133):0.217316900,((((NKIN-2006291-Thujopsis_dolabrata:0.074033811,XTZO-2054326-Araucaria_rulei:0.121022293):0.020888071,OXGJ-2010243-Glyptostrobus_pensilis:0.049289446):0.094520450,GGEA-2015601-Cedrus_libani:0.118185256):0.109879709,(AWQB-2002320-Picea_engelmanii:0.164465066,WLIC-2119938-Dioon_edule:0.156317551):0.069518958):0.040740423):0.032133365):0.336464962):0.088669467):0.009694699,((QYXY-2049125-Botryococcus_terribilis:0.699361894,(Coccomyxa_subellipsoidea_PLR-like_:0.066924005,GXBM-2015075-Coccomyxa_pringsheimii:0.093971854):0.534886945):0.201612744,(((RDOO-2016327-Racomitrium_varium:0.768017548,(JKHA-2119905-Cyanoptyche_gloeocystis:0.829639745,(AKCR-2022862-Parachlorella_kessleri:0.241457537,(Chlva_v1_0-IGS_gm_1_00382-Chlorella_variabilis:0.057984953,Chlva_v1_0-IGS_gm_1_00381-Chlorella_variabilis:0.165687715):0.350160296):0.444343322):0.240180909):0.245004214,(JKKI-2057061-Lobomonas_rostrata:0.603109543,((BNCU-2017030-Radula_lindenbergia:0.941278894,(JKAA-2179486-Selaginella_wallacei:0.574288673,GOWD-2081347-Sphagnum_lescurii:0.472468835):0.282290235):0.067259081,((TFYI-2003869-Marchantia_emarginata:0.530623181,(VMXJ-2121730-Leucobryum_albidum:0.204691780,HPXA-2131386-Ptilidium_pulcherrimum:0.475816262):0.707866814):0.068384410,((RSOF-2008002-Glaucosphaera_vacuolata:0.393663954,DZPJ-2051863-Cylindrocapsa_geminella:0.629756879):0.130712373,(((BAZF-2006540-Chaetopeltis_orbicularis:0.0,BAZF-2006539-Chaetopeltis_orbicularis:0.0):0.531746909,PQED-2051469-Gloeochaete_wittrockiana:0.643251296):0.149894964,((IRYH-2033960-Heterochlamydomonas_inaequalis:0.391561340,((Chlamydomonas_reinhardtii_PLR-like_:0.0,Chlre_v5_5-Cre11_g477200_t1_2-Chlamydomonas_reinhardtii:0.0):0.337847894,QRTH-2040997-Chloromonas_perforata:0.296880342):0.272383099):0.142850401,((ETGN-2001299-Botryococcus_braunii:0.091832535,ETGN-2009641-Botryococcus_braunii:0.084852982):0.358178040,(ZNUM-2002118-Leptosira_obovata:0.469516290,EATP-2034425-EATP-Microthamnion_kuetzigianum-2_samples_combined:0.164529803):0.246375104):0.175509487):0.143838654):0.043161616):0.177447248):0.157478615):0.097439752):0.188030707):0.338424813,((FPCO-2026667-Interfilum_paradoxum:0.191793861,(FQLP-2030827-Klebsormidium_subtile:0.017463326,((Klebsormidium_nitens_PLR-like_:0.0,Klefl_v1_0-kfl00017_0610-Klebsormidium_flaccidum:0.0):0.085753676,(Klefl_v1_0-kfl00017_0600-Klebsormidium_flaccidum:0.080051134,(Klefl_v1_0-kfl00402_0160-Klebsormidium_flaccidum:0.061787932,FQLP-2007761-Klebsormidium_subtile:0.054713452):0.013062166):0.019494920):0.011363484):0.105853724):0.134325654,(Klefl_v1_0-kfl00034_0150-Klebsormidium_flaccidum:0.314067724,FPCO-2025721-Interfilum_paradoxum:0.245718013):0.102077560):0.393683013):0.101407404):0.216363740):0.048011890,((NHIX-2054175-Colchicum_autumnale:0.187957863,(((CCID-2068223-Akebia_trifoliata:0.105312806,((QIEH-2067224-Cotoneaster_transcaucasicus:0.173655990,(JOIS-2003446-Koeberlina_spinosa:0.174725414,(HANM-2009926-Pholisma_arenarium:0.153548833,(UFHF-2014594-Galax_urceolata-tetraploid:0.145636195,(NAUM-2012034-Ipomoea_lindheimeri:0.169588842,((((FWCQ-2045440-Garcinia_oblongiflolia:0.178199209,(Manes_v4_1-cassava4_1_012445m-Manihot_esculenta:0.115172254,PXYR-2008120-Euphorbia_pekinensis:0.152150145):0.064205593):0.048569268,LNER-2005206-Casuarina_glauca:0.191268872):0.011801785,((GJNX-2080742-Cypselea_humifusum:0.048511929,OMYK-2142503-OMYK-Trianthemum_portulacastrum-2_samples_combined:0.044736696):0.074450800,(OLES-2029203-Schiedea_membranacea:0.163038079,Betvu_v1_1-Bv9_223410_izwy_t2-Beta_vulgaris:0.126570341):0.005597578):0.057086489):0.014388503,CLMX-2037673-Escallonia_rubra:0.129149518):0.025565829):0.008458685):0.008319714):0.027791123):0.000000005):0.014740220,WXVX-2066954-Ledum_palustre:0.143160056):0.074759904):0.087367712,KRJP-2001485-Peumus_boldus:0.075240659):0.023029090,BCGB-2000703-Cinnamomum_camphora:0.092587312):0.159290398):0.309328474,((WZYK-2005160-Bazzania_trilobata:0.208576544,((HPXA-2003200-Ptilidium_pulcherrimum:0.0,HPXA-2003198-Ptilidium_pulcherrimum:0.0):0.118811100,UUHD-2147649-Porella_pinnata:0.156914443):0.079857418):0.140034621,((TFYI-2070783-Marchantia_emarginata:0.056766348,HMHL-2051764-Marchantia_paleacea-non_mycorrizal:0.135351844):0.146697630,TXVB-2000437-Lunularia_cruciata:0.295094133):0.130800205):0.246511260):0.060126286):0.003220617,((VIBO-2077417-Osmunda_javanica:0.138935842,((QIAD-2047672-Hymenophyllum_bivalve:0.193835678,MEKP-2015261-Dipteris_conjugata:0.093853165):0.039716049,((PSKY-2014200-Asplenium_nidus:0.119637988,YOWV-2003070-Cystopteris_protrusa:0.104008585):0.100643291,(UWOD-2006675-Plagiogyria_japonica:0.078075812,PNZO-2027638-Culcita_macrocarpa:0.104981052):0.038074534):0.074271987):0.055849543):0.279026861,(AKXB-2066296-Phaeomegaceros_coriaceus:0.711799348,(ZFGK-2007804-Selaginella_kraussiana:0.225615724,(JKAA-2002842-Selaginella_wallacei:0.255144280,KUXM-2010946-Selaginella_selaginoides:0.343280579):0.086266870):0.165028530):0.062642149):0.082096822):0.035277313):0.038700671,((((EWXK-2000842-Thyrsopteris_elegans:0.082122842,(UWOD-2023992-Plagiogyria_japonica:0.087585151,(EWXK-2000843-Thyrsopteris_elegans:0.000000005,EWXK-2000844-Thyrsopteris_elegans:0.009784051):0.075412675):0.040736713):0.139047338,(UFJN-2010499-Diplazium_wichurae:0.173937840,NOKI-2007156-Lindsaea_linearis:0.183109465):0.066862428):0.268746098,(UGNK-2020446-Marattia_attenuata:0.211055413,(MEKP-2101772-Dipteris_conjugata:0.177234675,(MEKP-2006789-Dipteris_conjugata:0.0,MEKP-2006790-Dipteris_conjugata:0.0):0.276874951):0.163542987):0.067760634):0.120653146,((UGNK-2021731-Marattia_attenuata:0.201107501,(PNZO-2016614-Culcita_macrocarpa:0.000000005,PNZO-2016613-Culcita_macrocarpa:0.004691473):0.239916027):0.129517153,(EEAQ-2009408-Sceptridium_dissectum:0.187627652,(EEAQ-2016820-Sceptridium_dissectum:0.305879388,UGNK-2006528-Marattia_attenuata:0.167148920):0.069837152):0.038680089):0.044235562):0.073453261):0.016946505):0.027062663,((((UGNK-2017109-Marattia_attenuata:0.218790609,UGNK-2021182-Marattia_attenuata:0.163459478):0.079202948,((VIBO-2068779-Osmunda_javanica:0.212072522,(VIBO-2006262-Osmunda_javanica:0.076319926,VIBO-2006264-Osmunda_javanica:0.036983451):0.004484690):0.095720718,((((QIAD-2001911-Hymenophyllum_bivalve:0.010004724,(QIAD-2001910-Hymenophyllum_bivalve:0.000000005,QIAD-2001912-Hymenophyllum_bivalve:0.006666522):0.000000005):0.088578909,QIAD-2005429-Hymenophyllum_bivalve:0.181054732):0.034358572,(EWXK-2024179-Thyrsopteris_elegans:0.033627299,(PNZO-2149017-Culcita_macrocarpa:0.014241708,(UWOD-2007283-Plagiogyria_japonica:0.004684516,(UWOD-2007282-Plagiogyria_japonica:0.0,UWOD-2007281-Plagiogyria_japonica:0.0):0.000000005):0.027056071):0.024031607):0.074326290):0.014913030,(((MEKP-2001943-Dipteris_conjugata:0.000000005,(MEKP-2001942-Dipteris_conjugata:0.000000005,PNZO-2145799-Culcita_macrocarpa:0.000000005):0.000000005):0.112187511,(EWXK-2022152-Thyrsopteris_elegans:0.081248491,((UWOD-2137824-Plagiogyria_japonica:0.032485305,PNZO-2014861-Culcita_macrocarpa:0.035633852):0.080397018,PNZO-2026447-Culcita_macrocarpa:0.035809534):0.015149075):0.052675930):0.026246840,((NWWI-2129196-Nephrolepis_exaltata:0.170644303,RFRB-2004763-Didymochlaena_truncatula:0.116400042):0.121389379,((PIVW-2091514-Ceratopteris_thalictroides:0.128358197,PIVW-2013241-Ceratopteris_thalictroides:0.285872616):0.026250327,(((((NWWI-2016034-Nephrolepis_exaltata:0.208865934,RFRB-2003549-Didymochlaena_truncatula:0.116215624):0.034166384,(PSKY-2006363-Asplenium_nidus:0.043717752,PSKY-2006364-Asplenium_nidus:0.082380294):0.059190294):0.019850673,((OQWW-2011605-Davallia_fejeensis:0.134296026,WQML-2067295-Cryptogramma_acrostichoides:0.122048441):0.050294741,(MTGC-2045309-Dennstaedtia:0.071781674,(RFRB-2001106-Didymochlaena_truncatula:0.045069936,((YJJY-2003866-Woodsia_scopulina:0.050210159,((UFJN-2011921-Diplazium_wichurae:0.000000005,UFJN-2011920-Diplazium_wichurae:0.000000005):0.033923984,(URCP-2006930-Athyrium_filix_femina:0.008826957,AFPO-2067950-Blechnum_spicant-gametophyte:0.027110062):0.013108257):0.011813130):0.024703897,(OCZL-2057098-Homalosorus_pycnocarpos:0.045263481,(YOWV-2065628-Cystopteris_protrusa:0.009974365,RICC-2063680-Cystopteris_reevesiana:0.013081350):0.023342189):0.025600782):0.019885757):0.019159744):0.010786393):0.009392041):0.006902033,(CJNT-2000385-Polypodium_glycyrrhiza:0.092596516,(OQWW-2210001-Davallia_fejeensis:0.074437836,NWWI-2017522-Nephrolepis_exaltata:0.034113792):0.009755900):0.037569689):0.030575025,(UJTT-2021887-Pityrogramma_trifoliata:0.080806578,(FLTD-2002709-Pteris_ensigormis:0.096367925,FLTD-2000769-Pteris_ensigormis:0.036285198):0.045619861):0.038831274):0.025771481):0.039824428):0.101099775):0.030350724):0.082300517):0.075035159):0.028181477,(EEAQ-2085892-Sceptridium_dissectum:0.308626851,(MEKP-2009607-Dipteris_conjugata:0.128193849,((UGNK-2009017-Marattia_attenuata:0.022778776,UGNK-2002432-Marattia_attenuata:0.019329461):0.134200261,(VIBO-2075523-Osmunda_javanica:0.044785682,(VIBO-2066959-Osmunda_javanica:0.012626579,(VIBO-2074404-Osmunda_javanica:0.041248096,((((UWOD-2010389-Plagiogyria_japonica:0.006771243,PNZO-2022483-Culcita_macrocarpa:0.011520355):0.028852437,(UWOD-2022189-Plagiogyria_japonica:0.044289947,(UWOD-2022188-Plagiogyria_japonica:0.000000005,PNZO-2008392-Culcita_macrocarpa:0.023206229):0.013726246):0.027506772):0.016263739,(QIAD-2001310-Hymenophyllum_bivalve:0.062037668,(((NOKI-2003826-Lindsaea_linearis:0.004301561,((NOKI-2003824-Lindsaea_linearis:0.0,NOKI-2003823-Lindsaea_linearis:0.0,NOKI-2003822-Lindsaea_linearis:0.0):0.006597428,NOKI-2003825-Lindsaea_linearis:0.010343180):0.000000005):0.087367008,(((UJTT-2024293-Pityrogramma_trifoliata:0.000000005,(UJTT-2024292-Pityrogramma_trifoliata:0.008121077,UJTT-2020630-Pityrogramma_trifoliata:0.036497244):0.000000005):0.020356016,(FLTD-2003260-Pteris_ensigormis:0.119597545,(WQML-2067239-Cryptogramma_acrostichoides:0.099591110,((PIVW-2004244-Ceratopteris_thalictroides:0.0,PIVW-2004243-Ceratopteris_thalictroides:0.0):0.051255355,(PIVW-2004875-Ceratopteris_thalictroides:0.000000005,(PIVW-2004877-Ceratopteris_thalictroides:0.004047653,PIVW-2004876-Ceratopteris_thalictroides:0.000000005):0.000000005):0.051476984):0.058471233):0.014620012):0.018173509):0.082700035,((((RFRB-2005366-Didymochlaena_truncatula:0.089389981,(((OCZL-2010016-Homalosorus_pycnocarpos:0.014321538,UFJN-2008383-Diplazium_wichurae:0.017839475):0.006623169,((VITX-2011619-Blechnum_spicant:0.000000005,VITX-2011620-Blechnum_spicant:0.000000005):0.031231024,(AFPO-2004049-Blechnum_spicant-gametophyte:0.008321177,(AFPO-2004050-Blechnum_spicant-gametophyte:0.005750832,((UFJN-2008385-Diplazium_wichurae:0.041840507,(VITX-2012698-Blechnum_spicant:0.053113921,(YOWV-2007410-Cystopteris_protrusa:0.000000005,YOWV-2007411-Cystopteris_protrusa:0.000000005):0.038699289):0.022340659):0.035111158,UFJN-2008384-Diplazium_wichurae:0.010970488):0.016744603):0.027016903):0.008280585):0.009312200):0.021419746,(RICC-2001178-Cystopteris_reevesiana:0.019601727,(YOWV-2001186-Cystopteris_protrusa:0.000000005,YOWV-2001187-Cystopteris_protrusa:0.000000005):0.009909129):0.049902439):0.007503398):0.023798749,(WGTU-2003219-Leucostegia_immersa:0.068333670,(PSKY-2011137-Asplenium_nidus:0.027835660,PSKY-2011117-Asplenium_nidus:0.044076451):0.014987529):0.003375238):0.011166363,(NWWI-2005973-Nephrolepis_exaltata:0.028052706,(WQML-2010447-Cryptogramma_acrostichoides:0.077010399,OQWW-2226199-Davallia_fejeensis:0.031180680):0.000000005):0.026073972):0.018148845,((RICC-2009776-Cystopteris_reevesiana:0.003938186,MTGC-2006016-Dennstaedtia:0.000000005):0.091328263,(MTGC-2002179-Dennstaedtia:0.033103350,(HTFH-2008389-Onoclea_sensibilis:0.064854078,(RFRB-2004661-Didymochlaena_truncatula:0.055123316,MTGC-2002180-Dennstaedtia:0.031737185):0.006674910):0.020286470):0.016900687):0.031510870):0.015769799):0.035022972):0.036468414,((Azolla_filiculoides_LAR:0.0,AZOLLAFILICULOIDES:0.0):0.051783575,(((EWXK-2002787-Thyrsopteris_elegans:0.0,EWXK-2002785-Thyrsopteris_elegans:0.0):0.016044500,(EWXK-2002786-Thyrsopteris_elegans:0.000000005,MTGC-2006744-Dennstaedtia:0.207946776):0.017912232):0.005432621,PNZO-2020054-Culcita_macrocarpa:0.043572056):0.036783060):0.021093995):0.014947593):0.020320664):0.014384209,(QIAD-2007571-Hymenophyllum_bivalve:0.066419658,(MEKP-2006126-Dipteris_conjugata:0.060593050,((PNZO-2144082-Culcita_macrocarpa:0.031420426,MTGC-2003517-Dennstaedtia:0.189752243):0.028715139,(MEKP-2104936-Dipteris_conjugata:0.000000005,PNZO-2019133-Culcita_macrocarpa:0.000000005):0.088782341):0.032018647):0.020557879):0.012138788):0.042788655):0.012191679):0.059159500):0.030167823):0.030937661):0.146802552):0.044024128):0.014802191,(EEAQ-2015837-Sceptridium_dissectum:0.114371837,EEAQ-2086622-Sceptridium_dissectum:0.286273450):0.043686815):0.043492903):0.070806807):0.002860730):0.065764593):0.072553612):0.031910336):0.012344344):0.013067651,((Manes_v4_1-cassava4_1_028385m-Manihot_esculenta:0.266566740,(TJLC-2012256-Nothofagus_obliqua:0.138502153,((Eucgr_v1_1-Eucgr_I02421_1-Eucalyptus_grandis:0.095630161,AYMT-2006415-Eucalyptus_leucoxylon-March:0.091083942):0.100553234,(RBYC-2075468-Elaeagnus_pungens:0.145069642,UWFU-2036417-Itea_virginica:0.210621811):0.065770160):0.024025499):0.024550270):0.039851172,((((EFCZ-2036898-EFCZ-Eleusine_coracana-4_samples_combined:0.500643630,(Elagu_v2_0-p5_sc00089_V1_gene225-Elaeis_guineensis:0.276035785,Elagu_v2_0-p5_sc00089_V1_gene226-Elaeis_guineensis:0.103235164):0.146467560):0.072536675,(VTUS-2009665-Goodyera_pubescens:0.365834358,(Gymnadenia_densiflora_EGS_:0.286145963,MWYQ-2010723-Smilax_bona_nox:0.109737418):0.086698455):0.042369309):0.125735586,(DZTK-2036715-Batis_maritima:0.155089069,LVUS-2009236-LVUS-Cleome_violaceae-2_samples_combined:0.275310476):0.093554786):0.032946386,(BEFC-2001207-Manilkara_zapota:0.206264196,EMAL-2002856-Ehretia_acuminata:0.377894891):0.059170662):0.036684075):0.062539054):0.022477145):0.000000005):0.041888880):0.012137626,(Piper_regnellii_APS_:0.186380070,(NXTS-2022085-NXTS-Mollugo_verticillata-2_samples_combined:0.071001853,GJNX-2008283-Cypselea_humifusum:0.105494194):0.075816765):0.041176951):0.003701895):0.055793672,((BCAA-2071638-Kirkia_wilmsii:0.119946815,(JMTE-2015639-Pseudoscourfieldia_marina:0.130153352,EDEQ-2006436-Wrightia_natalensis:0.127218488):0.023686562):0.026882948,(((MXFG-2014601-Pinguicula_agnata:0.164164885,(JCMU-2005036-Pinguicula_caudata:0.030147216,MXFG-2000385-Pinguicula_agnata:0.057841085):0.115567447):0.024878010,(Forsythia_intermedia_PCBER_:0.085920370,(CLRW-2030804-Bacopa_caroliniana:0.102596997,VYDM-2129688-VYDM-Orobanche_fasciculata-2_samples_combined:0.069163014):0.010228667):0.006969848):0.050634233,((Petunia_hybrida_EGS_:0.047837126,(Nicotiana_tabacum_PCBER_:0.060979849,LWCK-2011690-Lycium_barbarum:0.161660313):0.023996148):0.059355765,(DIHD-2017857-Heliotropium_tenellum-juvenile_leaf:0.088462552,OLXF-2091268-Hibiscus_cannabinus:0.128027799):0.046900723):0.014286033):0.024531552):0.014904855):0.009966239):0.013937438,(Larrea_tridentata_APS_:0.116163259,(Populus_trichorpa_PCBER_:0.131199847,(ZBVT-2001229-Chrysobalanus_icaco:0.098240251,(RPPC-2001480-Erythroxylum_coca:0.140299676,(VXOD-2045741-Linum_tenuifolium:0.049104346,HNCF-2008210-Linum_hirsutum:0.054990612):0.042506255):0.022871619):0.020394593):0.039125639):0.023602530):0.005305317):0.005309210);\n"
     ]
    },
    {
     "name": "stdout",
     "output_type": "stream",
     "text": [
      "ML_NNI1\t((KYAD-2052004-Celtis_occidentalis:0.073480818,(WWKL-2000561-Tapiscia_sinensis:0.061958381,(Clarkia_breweri_EGS2_:0.083085505,TIUZ-2003245-Cunonia_capensis:0.082858034):0.009686057):0.007051018):0.004104629,(Fragaria_ananassa_EGS1_:0.075508210,WBOD-2008814-Magnolia_grandiflora:0.097317826):0.020978800,((YGCX-2029297-Geranium_maculatum:0.088995822,(UZWG-2005807-Castanea_pumila:0.061148070,(Lotus_japonicus_PTR_:0.171392584,(WDWX-2040226-Dunaliella_primolecta-UTEX_LB_1000:0.000000005,(ZDIZ-2046665-Dunaliella_tertiolecta-CCMP_364:0.000000005,UKUC-2108429-Dunaliella_salina-UTEX_LB_200:0.000000005):0.000000005):0.067770959):0.023841341):0.018046624):0.011869195,((((((((UBLN-2013933-Xanthuium_strumarium:0.184609107,BAHE-2016886-Solenostemon_scutellarioides:0.333247922):0.090102960,((Manes_v4_1-cassava4_1_034037m-Manihot_esculenta:0.163007895,Ambtr_v1_0_27-AmTr_v1_0_scaffold00018_72-Amborella_trichopoda:0.165801924):0.039826646,(VGVI-2008936-Dendropemon_caribaeus:0.272365586,(((((PEZP-2001925-Glycyrrhiza_glabra:0.000000005,(Cicer_arietinum_IFR_:0.092821613,(Pisum_sativum_IFR_:0.032666097,Medicago_sativa_IFR_:0.044875472):0.037201867):0.050803446):0.283986893,EYRD-2015259-EYRD-Alternanthera_tenella-2_samples_combined:0.267754872):0.045007898,(KFZY-2024659-Tragopogon_castellanus:0.000000005,FUPX-2006739-Tragopogon_pratensis:0.016704266):0.278411273):0.013021565,((Manes_v4_1-cassava4_1_028385m-Manihot_esculenta:0.257887994,((RBYC-2075468-Elaeagnus_pungens:0.159058522,UWFU-2036417-Itea_virginica:0.197615053):0.071067909,((Eucgr_v1_1-Eucgr_I02421_1-Eucalyptus_grandis:0.101861262,AYMT-2006415-Eucalyptus_leucoxylon-March:0.085047345):0.099607327,TJLC-2012256-Nothofagus_obliqua:0.128539283):0.015278758):0.023909227):0.033878620,(((VTUS-2009665-Goodyera_pubescens:0.367774539,((EFCZ-2036898-EFCZ-Eleusine_coracana-4_samples_combined:0.516735988,(Elagu_v2_0-p5_sc00089_V1_gene225-Elaeis_guineensis:0.262300870,Elagu_v2_0-p5_sc00089_V1_gene226-Elaeis_guineensis:0.088735911):0.145324318):0.052932986,(Gymnadenia_densiflora_EGS_:0.286938577,MWYQ-2010723-Smilax_bona_nox:0.107045880):0.076158703):0.071413576):0.122395086,(DZTK-2036715-Batis_maritima:0.141321088,LVUS-2009236-LVUS-Cleome_violaceae-2_samples_combined:0.272576393):0.076960673):0.043774069,(BEFC-2001207-Manilkara_zapota:0.193910182,EMAL-2002856-Ehretia_acuminata:0.378621144):0.054112630):0.034231991):0.044901157):0.042154921,((TOXE-2005667-Welwitschia_mirabilis:0.298169394,((HILW-2005133-Acmopyle_pancheri:0.088384011,(MHGD-2071842-Microcachrys_tetragona:0.042476154,OWFC-2004422-Halocarpus_bidwillii:0.080382606):0.020999114):0.347373686,((((MFTM-2001687-Pinus_jeffreyi:0.095222810,Pinta_v2_0-PITA_000050506_RA-Pinus_taeda:0.314539682):0.054942705,((AIGO-2000161-Chamaecyparis_lawsoniana:0.036580626,ETCJ-2004328-Pilgerodendron_uviferum:0.042229210):0.037915930,(KLGF-2003266-Sundacarpus_amarus:0.029398125,(IZGN-2005659-Dacrydium_balansae:0.027134131,HILW-2017904-Acmopyle_pancheri:0.028783012):0.025217890):0.039707740):0.020139259):0.020078290,((RSCE-2005313-Wollemia_nobilis:0.174891642,((ROWR-2001152-Falcatifolium_taxoides:0.195206956,(IAJW-2007887-Amentotaxus_argotaenia:0.071004219,(IFLI-2000331-Callitris_gracilis-March:0.068552181,AIGO-2001003-Chamaecyparis_lawsoniana:0.050208194):0.080714485):0.058511888):0.025109549,((QFAE-2005256-Sequoiadendron_giganteum-Glaucum:0.023503845,ZQVF-2016229-ZQVF-Cunninghamia_lanceolata-2_samples_combined:0.036112920):0.105470458,(NGRR-2076095-Ternstroemia_gymnanthera:0.579479529,IZGN-2003468-Dacrydium_balansae:0.000000005):0.191614649):0.012571745):0.024569246):0.082882322,(WQML-2058582-Cryptogramma_acrostichoides:0.116238691,(Pinus_taeda_PCBER_:0.074227476,Tsuga_heterophylla_PCBER_:0.063660583):0.058494813):0.007867362):0.015436538):0.087535989,((((((((VIBO-2077417-Osmunda_javanica:0.135898460,((QIAD-2047672-Hymenophyllum_bivalve:0.196200160,MEKP-2015261-Dipteris_conjugata:0.094189760):0.050547272,((PSKY-2014200-Asplenium_nidus:0.123486534,YOWV-2003070-Cystopteris_protrusa:0.097885607):0.107018213,(UWOD-2006675-Plagiogyria_japonica:0.075384561,PNZO-2027638-Culcita_macrocarpa:0.107361900):0.035454605):0.069767711):0.053712243):0.284505678,(AKXB-2066296-Phaeomegaceros_coriaceus:0.687802098,(ZFGK-2007804-Selaginella_kraussiana:0.222676530,(JKAA-2002842-Selaginella_wallacei:0.244549502,KUXM-2010946-Selaginella_selaginoides:0.352253172):0.088665067):0.153315875):0.056937294):0.070926903,((NHIX-2054175-Colchicum_autumnale:0.197430565,((BCGB-2000703-Cinnamomum_camphora:0.110523082,KRJP-2001485-Peumus_boldus:0.057561681):0.041172643,(CCID-2068223-Akebia_trifoliata:0.104052868,(((HANM-2009926-Pholisma_arenarium:0.156184348,(((((FWCQ-2045440-Garcinia_oblongiflolia:0.170885759,LNER-2005206-Casuarina_glauca:0.160400262):0.042211864,(Betvu_v1_1-Bv9_223410_izwy_t2-Beta_vulgaris:0.125012700,(OLES-2029203-Schiedea_membranacea:0.164947010,(GJNX-2080742-Cypselea_humifusum:0.047457638,OMYK-2142503-OMYK-Trianthemum_portulacastrum-2_samples_combined:0.046543053):0.070727886):0.007964327):0.038982625):0.018289987,CLMX-2037673-Escallonia_rubra:0.129746843):0.012344168,(Manes_v4_1-cassava4_1_012445m-Manihot_esculenta:0.112601417,PXYR-2008120-Euphorbia_pekinensis:0.154894398):0.097351731):0.040143825,(NAUM-2012034-Ipomoea_lindheimeri:0.162079766,UFHF-2014594-Galax_urceolata-tetraploid:0.129802330):0.014863728):0.012533536):0.000000006,WXVX-2066954-Ledum_palustre:0.138578598):0.017403666,(JOIS-2003446-Koeberlina_spinosa:0.148342573,QIEH-2067224-Cotoneaster_transcaucasicus:0.151089135):0.038730380):0.081873556):0.067545335):0.138523132):0.333538701,((WZYK-2005160-Bazzania_trilobata:0.222452075,((HPXA-2003200-Ptilidium_pulcherrimum:0.0,HPXA-2003198-Ptilidium_pulcherrimum:0.0):0.109375819,UUHD-2147649-Porella_pinnata:0.165413041):0.071580792):0.149366445,((TFYI-2070783-Marchantia_emarginata:0.060541865,HMHL-2051764-Marchantia_paleacea-non_mycorrizal:0.130880366):0.151555893,TXVB-2000437-Lunularia_cruciata:0.291471132):0.127109939):0.224951855):0.038793098):0.036302500,((((QYXY-2049125-Botryococcus_terribilis:0.682751788,(Coccomyxa_subellipsoidea_PLR-like_:0.065466315,GXBM-2015075-Coccomyxa_pringsheimii:0.093647086):0.541098481):0.200635136,(((RDOO-2016327-Racomitrium_varium:0.747429424,(JKHA-2119905-Cyanoptyche_gloeocystis:0.874938055,(AKCR-2022862-Parachlorella_kessleri:0.252479228,(Chlva_v1_0-IGS_gm_1_00382-Chlorella_variabilis:0.058927904,Chlva_v1_0-IGS_gm_1_00381-Chlorella_variabilis:0.164396913):0.326067247):0.363360025):0.211678591):0.261889784,(((((((IRYH-2033960-Heterochlamydomonas_inaequalis:0.387820442,((Chlamydomonas_reinhardtii_PLR-like_:0.0,Chlre_v5_5-Cre11_g477200_t1_2-Chlamydomonas_reinhardtii:0.0):0.313281452,QRTH-2040997-Chloromonas_perforata:0.302506017):0.249095986):0.157760256,((ETGN-2001299-Botryococcus_braunii:0.097192372,ETGN-2009641-Botryococcus_braunii:0.080994636):0.362852801,(ZNUM-2002118-Leptosira_obovata:0.472847129,EATP-2034425-EATP-Microthamnion_kuetzigianum-2_samples_combined:0.164332808):0.218950206):0.164657376):0.148269231,(((BAZF-2006540-Chaetopeltis_orbicularis:0.0,BAZF-2006539-Chaetopeltis_orbicularis:0.0):0.522325544,PQED-2051469-Gloeochaete_wittrockiana:0.610175540):0.138543287,(RSOF-2008002-Glaucosphaera_vacuolata:0.396676610,DZPJ-2051863-Cylindrocapsa_geminella:0.625406160):0.099038836):0.059901743):0.137071336,(VMXJ-2121730-Leucobryum_albidum:0.219963593,HPXA-2131386-Ptilidium_pulcherrimum:0.463578945):0.724123305):0.047624742,TFYI-2003869-Marchantia_emarginata:0.529648046):0.112666650,(JKAA-2179486-Selaginella_wallacei:0.581309227,GOWD-2081347-Sphagnum_lescurii:0.441048834):0.270780080):0.114287346,(JKKI-2057061-Lobomonas_rostrata:0.555487816,BNCU-2017030-Radula_lindenbergia:0.948837691):0.092387167):0.208469290):0.283998682,((FPCO-2026667-Interfilum_paradoxum:0.198797662,((Klefl_v1_0-kfl00017_0600-Klebsormidium_flaccidum:0.078612450,(Klefl_v1_0-kfl00402_0160-Klebsormidium_flaccidum:0.059736015,FQLP-2007761-Klebsormidium_subtile:0.057108003):0.015301284):0.008044048,((Klebsormidium_nitens_PLR-like_:0.0,Klefl_v1_0-kfl00017_0610-Klebsormidium_flaccidum:0.0):0.065622707,FQLP-2030827-Klebsormidium_subtile:0.020479333):0.035461573):0.116298532):0.123590183,(Klefl_v1_0-kfl00034_0150-Klebsormidium_flaccidum:0.305710852,FPCO-2025721-Interfilum_paradoxum:0.259435203):0.103131351):0.393670849):0.087150391):0.200073621,(KUXM-2000066-Selaginella_selaginoides:0.556067105,((KUXM-2010445-Selaginella_selaginoides:0.518541513,(((MUNP-2003756-Piper_auritum:0.000000005,MUNP-2003757-Piper_auritum:0.013533300):0.399521373,((VIBO-2074059-Osmunda_javanica:0.215749614,((((EWXK-2010470-Thyrsopteris_elegans:0.078811458,((PIVW-2011047-Ceratopteris_thalictroides:0.0,PIVW-2011048-Ceratopteris_thalictroides:0.0):0.255752643,(FLTD-2008493-Pteris_ensigormis:0.092533374,(UJTT-2025826-Pityrogramma_trifoliata:0.115897201,WQML-2008990-Cryptogramma_acrostichoides:0.119632120):0.025271064):0.052748863):0.165295319):0.103848740,((EWXK-2000996-Thyrsopteris_elegans:0.072798444,(MTGC-2009039-Dennstaedtia:0.119651605,((VITX-2012840-Blechnum_spicant:0.079513418,(RFRB-2034180-Didymochlaena_truncatula:0.128554595,((OQWW-2017833-Davallia_fejeensis:0.118297604,(NWWI-2008621-Nephrolepis_exaltata:0.006333425,(NWWI-2008623-Nephrolepis_exaltata:0.032298530,(NWWI-2008622-Nephrolepis_exaltata:0.003437582,NWWI-2008620-Nephrolepis_exaltata:0.000000005):0.000000005):0.018397801):0.068070559):0.053989502,(((AFPO-2008569-Blechnum_spicant-gametophyte:0.041494451,(VITX-2088941-Blechnum_spicant:0.028835877,UFJN-2085627-Diplazium_wichurae:0.039197684):0.016933942):0.027807345,MROH-2004360-Thelypteris_acuminata:0.106128280):0.020981543,(RICC-2001311-Cystopteris_reevesiana:0.000000005,RICC-2001312-Cystopteris_reevesiana:0.000000005):0.083944290):0.018949770):0.017139626):0.019694356):0.018965275,(NWWI-2034189-Nephrolepis_exaltata:0.137760499,PSKY-2003762-Asplenium_nidus:0.228716647):0.024869846):0.091025632):0.179106404):0.025181672,UWOD-2137810-Plagiogyria_japonica:0.091486421):0.060369795):0.086289539,(NOKI-2017019-Lindsaea_linearis:0.091504562,(MEKP-2098010-Dipteris_conjugata:0.069209817,MEKP-2100931-Dipteris_conjugata:0.128706780):0.007531760):0.030560837):0.053430984,(QIAD-2005744-Hymenophyllum_bivalve:0.139328841,QIAD-2005745-Hymenophyllum_bivalve:0.106099830):0.050814290):0.114532232):0.091831060,(((IFLI-2143577-Callitris_gracilis-March:0.112429476,(EFMS-2079821-Torreya_taxifolia:0.027912129,IAJW-2149040-Amentotaxus_argotaenia:0.041268076):0.033364883):0.267031518,((WLIC-2017336-Dioon_edule:0.097251444,(((Thuja_plicata_PLR_:0.037797260,NKIN-2006656-Thujopsis_dolabrata:0.073914371):0.089809529,(OXGJ-2004119-Glyptostrobus_pensilis:0.055351265,QNGJ-2069362-Cupressus_dupreziana:0.091862925):0.020438481):0.144960151,(Tsuga_heterophylla_PLR_:0.124220403,(QHBI-2012752-Falcatifolium_taxoides-A:0.096467493,(BUWV-2011281-Platycladus_orientalis:0.047678826,VFYZ-2009030-Thuja_plicata:0.011079475):0.097100960):0.041399928):0.028440313):0.030106373):0.040357740,((HQOM-2009457-Torreya_nucifera:0.102672736,MHGD-2071798-Microcachrys_tetragona:0.109674129):0.097565144,((YZRI-2007595-Annona_muricata:0.142798582,((XRLM-2074327-Buddleja_lindleyana:0.103624893,(Forsythia_intermedia_PLR_:0.050823137,KTAR-2138832-Chionanthus_retusus:0.101725357):0.055177819):0.065481858,((AUIP-2030187-Phelline_lucida:0.093319111,((PAWA-2010138-Aristolochia_elegans:0.213643722,((Linum_album_PLR_:0.041527315,VXOD-2000289-Linum_tenuifolium:0.055000678):0.070802530,OODC-2080627-Linum_bienne-CN_107293:0.073561330):0.042281512):0.034646051,YSRZ-2016241-Fouqueria_macdougalli:0.085076166):0.019811612):0.004771619,((UYED-2005832-Flaveria_sonorensis:0.037871153,JYMN-2013034-JYMN-Flaveria_brownii-2_samples_combined:0.028194347):0.151083753,IZLO-2006650-Lobelia_siphilitica:0.063372686):0.031107403):0.031761879):0.114199644):0.044842484,(((GCFE-2053997-Verbena_hastata:0.107213721,(FROP-2083168-FROP-Epifagus_virginiana-2_samples_combined:0.120901931,UTQR-2017073-Tabebuia_umbellate:0.052665915):0.024782311):0.068972484,((IPWB-2086101-Brassica_nigra:0.041599766,TZWR-2044053-Arabis_alpina:0.066840768):0.214796678,(JAFJ-2143866-Bougainvillea_spectabilis:0.169814051,FZQN-2013397-Silene_latifolia:0.134831471):0.045274371):0.039889973):0.024378746,((((XNLP-2088727-Manihot_grahamii:0.114810190,IEPQ-2018836-Salix_dasyclados:0.108027914):0.034480707,(BNDE-2018188-Hypericum_perforatum:0.153532700,IKFD-2051629-Quassia_amara:0.133801047):0.028266208):0.013086957,((LWDA-2005167-Alnus_serrulata:0.094675149,WEQK-2063179-Centella_asiatica:0.118922953):0.030745231,(((((TVSH-2069542-Bituminaria_bituminosa:0.040545887,VLNB-2017257-Gompholobium_polymorphum:0.033376282):0.021372444,Phavu_v1_0-Phvul_002G132400_1-Phaseolus_vulgaris:0.055252105):0.007633621,(UGJI-2001747-Lycopersicon_cheesmanii:0.195867659,ZSSR-2095995-Xanthicercis_zambesiaca:0.054866351):0.041424141):0.042331481,((ZETY-2013560-Hydrangea_quercifolia:0.130530054,HANM-2010435-Pholisma_arenarium:0.089479582):0.011945631,JGYZ-2001442-Holarrhena_pubescens:0.104636839):0.020660603):0.031406968,AQGE-2004538-Humulus_lupulus:0.123744514):0.018167146):0.027564733):0.011895973,(GVCB-2044846-Oenothera_affinis-MTJ_529:0.147897183,FGDU-2012898-Syzygium_paniculatum:0.091283816):0.005160568):0.020297985):0.056219468):0.124705551):0.102870476):0.051544356):0.081449691,((JZVE-2037546-Parasitaxus_usta:0.110377001,NKIN-2001868-Thujopsis_dolabrata:0.126876573):0.195138713,((ZFGK-2006663-Selaginella_kraussiana:0.106743346,JKAA-2009905-Selaginella_wallacei:0.214371579):0.055331129,(Selaginella_moellendorffii_PLR-like1_:0.223788238,(KUXM-2005443-Selaginella_selaginoides:0.000000005,(KUXM-2005444-Selaginella_selaginoides:0.0,KUXM-2005442-Selaginella_selaginoides:0.0):0.000000005):0.232663494):0.043126938):0.150942979):0.043348479):0.034443735):0.044538555):0.042810901,((KUXM-2010076-Selaginella_selaginoides:0.161347069,KUXM-2041265-Selaginella_selaginoides:0.235244311):0.044980879,(ZFGK-2039190-Selaginella_kraussiana:0.289366325,((Selaginella_moellendorffii_PLR-like2_:0.105622190,LGDQ-2001233-Selaginella_apoda:0.146499064):0.114635587,(ZFGK-2040270-Selaginella_kraussiana:0.178508568,JKAA-2013288-Selaginella_wallacei:0.222146500):0.057063083):0.049896468):0.052856990):0.131293257):0.049937092):0.040136924,(KUXM-2038331-Selaginella_selaginoides:0.090909838,ZFGK-2005295-Selaginella_kraussiana:0.578267049):0.167158137):0.044217523):0.080320238):0.051262219,(((ZFGK-2006315-Selaginella_kraussiana:0.169491968,JKAA-2010207-Selaginella_wallacei:0.227350748):0.396388252,(((VFYZ-2037120-Thuja_plicata:0.094282603,OXGJ-2007450-Glyptostrobus_pensilis:0.071952669):0.133259723,(GAMH-2052494-Tsuga_heterophylla:0.152966284,(IOVS-2002490-Pseudotsuga_menziesii:0.137522031,DZQM-2012683-Pinus_radiata:0.115705836):0.029680434):0.079143247):0.117083417,(Ambtr_v1_0_27-AmTr_v1_0_scaffold00070_105-Amborella_trichopoda:0.356850481,((KZED-2000826-Senna_hebecarpa:0.333091133,(((QICX-2148636-Ailanthus_altissima:0.159666251,((YRHD-2052503-Antirrhinum_braun-blanquetii:0.092386528,(Ocimum_tenuiflorum_EGS_:0.142640913,FDMM-2089007-Rosmarinus_officinalis:0.118944517):0.075926587):0.079037536,(ZJRC-2012653-ZJRC-Sambucus_canadensis-2_samples_combined:0.106373475,AUIP-2017220-Phelline_lucida:0.280423901):0.027588992):0.066828797):0.021658942,((TLCA-2022331-TLCA-Oenothera_speciosa-5_samples_combined:0.042356467,CJGZ-2003902-Oenothera_nana-MTJ_0233:0.035756485):0.075609296,((Clarkia_breweri_IGS_:0.024076745,Clarkia_breweri_EGS1_:0.020346156):0.116167197,JKNQ-2010660-Oenothera_suffulta_suffulta-MTJ_92:0.175208535):0.032642958):0.197962822):0.003649345,HTIP-2055665-Paeonia_lactiflora:0.144932879):0.035559205):0.089075910,(Pimpinella_anisum_AIS_:0.335392691,((Petunia_hybrida_IGS_:0.136239996,NHAG-2010268-Ipomoea_nil:0.216792733):0.093282425,(WAXR-2040121-Litchi_chinensis:0.288934392,((Larrea_tridentata_PPS_:0.132958077,(EHNF-2002671-Dillenia_indica:0.179966410,HTIP-2054678-Paeonia_lactiflora:0.131769139):0.015513968):0.045199804,(Nelnu_v1_0-NNU_018535_RA-Nelumbo_nucifera:0.176206948,(Piper_regnellii_PPS_:0.191543960,JAFJ-2015984-Bougainvillea_spectabilis:0.245367774):0.037960031):0.028958083):0.025405455):0.017840243):0.039135472):0.044901083):0.080785095):0.052974537):0.267044933):0.037640630,((RSCE-2055540-Wollemia_nobilis:0.125479398,JRNA-2012102-Phyllocladus_hypohyllus:0.193745618):0.155797097,((((SART-2007383-Xeronema_callistemon:0.075358771,(CMCY-2155193-Hesperaloe_parviflora:0.121778360,(RQZP-2140753-Nolina_bigelorii:0.022466528,YBML-2028429-Yucca_brevifolia:0.047070648):0.043708102):0.058202193):0.105063136,(MWYQ-2005601-Smilax_bona_nox:0.164151896,EFCZ-2221308-EFCZ-Eleusine_coracana-4_samples_combined:0.218297444):0.021863415):0.069033857,(BHYC-2049386-Linum_lewisii:0.204948085,((((Fragaria_ananassa_LAR_:0.078832650,SQCF-2006621-Dryas_octopetala:0.046402127):0.085353196,((CKDK-2093233-Ochna_serrulata:0.185574436,(TDTF-2015303-Salix_sachalinensis:0.112389431,GLVK-2006351-Salix_eriocephala:0.071921930):0.062974008):0.037536703,Theca_v1_1-Thecc1EG011870t1-Theobroma_cacao:0.141848353):0.018875037):0.007365881,((YQIJ-2005632-Phacelia_campanularia:0.170262974,(QUTB-2075585-Aextoxicon_punctatum:0.054447418,HAEU-2053751-Berberidopsis_beckleri:0.057276543):0.027798224):0.031784820,((WFBF-2006916-Podophyllum_peltatum:0.206446599,AYMT-2110092-Eucalyptus_leucoxylon-March:0.211944125):0.024011555,((HENI-2051959-Quercus_shumardii:0.136017176,(((WXVX-2009315-Ledum_palustre:0.131514066,SWGX-2068710-Tetrazygia_bicolor:0.192912325):0.039998755,(TVCU-2006094-Ochna_mossambicensis:0.170063525,OSIP-2125743-Garcinia_livingstonei:0.174482343):0.037292454):0.007582963,DHPO-2076351-Eupomatia_bennettii:0.220795140):0.016477322):0.059517101,HAEU-2050156-Berberidopsis_beckleri:0.059477610):0.059735495):0.045059493):0.032681765):0.017639588,(RKLL-2004322-Copaifera_officianalis:0.152304119,Desmodium_uncinatum_LAR_:0.166442466):0.093293513):0.058157997):0.078506009):0.224468263,((((NKIN-2006291-Thujopsis_dolabrata:0.073866244,XTZO-2054326-Araucaria_rulei:0.119425711):0.020711242,OXGJ-2010243-Glyptostrobus_pensilis:0.049921081):0.099845862,GGEA-2015601-Cedrus_libani:0.113123689):0.113748991,(AWQB-2002320-Picea_engelmanii:0.160036020,WLIC-2119938-Dioon_edule:0.160087836):0.065647146):0.038265628):0.030853394):0.358048964):0.058323391):0.037983777):0.029323567,((((((GOWD-2018219-Sphagnum_lescurii:0.147778829,UHLI-2005988-Sphagnum_recurvatum:0.111433025):0.057648298,(UHLI-2010235-Sphagnum_recurvatum:0.035544706,GOWD-2019693-Sphagnum_lescurii:0.012818546):0.011150211):0.006984940,(RCBT-2015455-Sphagnum_palustre:0.0,RCBT-2015454-Sphagnum_palustre:0.0):0.018261993):0.211346680,((((GOWD-2000241-Sphagnum_lescurii:0.000000005,(RCBT-2015254-Sphagnum_palustre:0.061064647,(UHLI-2002577-Sphagnum_recurvatum:0.013052846,UHLI-2002578-Sphagnum_recurvatum:0.031177999):0.065382824):0.036546078):0.010973847,(GOWD-2000239-Sphagnum_lescurii:0.000000005,GOWD-2000240-Sphagnum_lescurii:0.028266865):0.025079749):0.144169988,(RCBT-2025315-Sphagnum_palustre:0.182018862,(UHLI-2018683-Sphagnum_recurvatum:0.000000005,((RCBT-2010487-Sphagnum_palustre:0.0,RCBT-2010486-Sphagnum_palustre:0.0):0.042175159,(GOWD-2081731-Sphagnum_lescurii:0.024472944,UHLI-2084424-Sphagnum_recurvatum:0.016184660):0.015952301):0.031854291):0.061515825):0.173212917):0.135745994,(WOGB-2014576-Andreaea_rupestris:0.356694955,((HVBQ-2022578-Tetraphis_pellucida:0.220007879,(HVBQ-2003576-Tetraphis_pellucida:0.105393769,HVBQ-2009875-Tetraphis_pellucida:0.091999337):0.053139990):0.135569154,((HVBQ-2117680-Tetraphis_pellucida:0.153564419,HVBQ-2002082-Tetraphis_pellucida:0.113821345):0.137678765,(((CMEQ-2007026-Orthotrichum_lyellii:0.045644764,CMEQ-2007027-Orthotrichum_lyellii:0.072396702):0.168499906,((HVBQ-2014230-Tetraphis_pellucida:0.075396286,(HVBQ-2014231-Tetraphis_pellucida:0.000000005,HVBQ-2014232-Tetraphis_pellucida:0.095211813):0.069957500):0.036002911,(CMEQ-2016218-Orthotrichum_lyellii:0.219917347,(TMAJ-2181594-Neckera_douglasii:0.057050010,EEMJ-2000954-Thuidium_delicatulum:0.145421289):0.036619671):0.018493819):0.062875597):0.130630533,(BGXB-2078046-Plagiomnium_insigne:0.201098005,(VMXJ-2011019-Leucobryum_albidum:0.139661950,RGKI-2004601-Leucobryum_glaucum:0.210947150):0.056271167):0.110138825):0.116098626):0.058152327):0.063727741):0.090237245):0.039473783):0.057483802,((AKXB-2064674-Phaeomegaceros_coriaceus:0.029089168,(TCBC-2010819-Megaceros_vincentianus:0.0,TCBC-2010818-Megaceros_vincentianus:0.0):0.033628770):0.259661671,((AKXB-2005589-Phaeomegaceros_coriaceus:0.194872632,(((AKXB-2001849-Phaeomegaceros_coriaceus:0.000000005,AKXB-2001847-Phaeomegaceros_coriaceus:0.000000005):0.044184310,((AKXB-2001848-Phaeomegaceros_coriaceus:0.005764470,TCBC-2012345-Megaceros_vincentianus:0.048906196):0.037354631,TCBC-2019354-Megaceros_vincentianus:0.049456496):0.015812328):0.119910817,(AKXB-2007298-Phaeomegaceros_coriaceus:0.042542418,(TCBC-2007730-Megaceros_vincentianus:0.000000005,TCBC-2007728-Megaceros_vincentianus:0.010029845):0.081164950):0.118001963):0.044255114):0.063013722,((AKXB-2006615-Phaeomegaceros_coriaceus:0.000000005,AKXB-2006616-Phaeomegaceros_coriaceus:0.004047667):0.296467715,(AKXB-2067781-Phaeomegaceros_coriaceus:0.253894852,(AKXB-2063859-Phaeomegaceros_coriaceus:0.027423971,TCBC-2007729-Megaceros_vincentianus:0.054708316):0.362538463):0.052829433):0.030353544):0.026235612):0.199144160):0.048029031,((((HPXA-2019945-Ptilidium_pulcherrimum:0.268365149,((HPXA-2004013-Ptilidium_pulcherrimum:0.179622623,HPXA-2004014-Ptilidium_pulcherrimum:0.102714969):0.094905407,(UUHD-2015092-Porella_pinnata:0.104601953,UUHD-2010718-Porella_pinnata:0.132696575):0.055011459):0.032532671):0.021357891,(BNCU-2085839-Radula_lindenbergia:0.163081062,BNCU-2008805-Radula_lindenbergia:0.175900586):0.104952530):0.051411661,((WZYK-2009633-Bazzania_trilobata:0.171938661,WZYK-2013726-Bazzania_trilobata:0.194264212):0.059826038,(WZYK-2014513-Bazzania_trilobata:0.362020858,(WZYK-2003469-Bazzania_trilobata:0.275063245,WZYK-2000342-Bazzania_trilobata:0.204389792):0.060921361):0.025743305):0.033439870):0.208047893,((BNCU-2016550-Radula_lindenbergia:0.000000005,BNCU-2016551-Radula_lindenbergia:0.000000005):0.494574170,((HPXA-2016794-Ptilidium_pulcherrimum:0.141104454,UUHD-2146898-Porella_pinnata:0.105455577):0.017350472,(WZYK-2016729-Bazzania_trilobata:0.103505675,(BNCU-2003090-Radula_lindenbergia:0.071877482,(BNCU-2084921-Radula_lindenbergia:0.133439953,BNCU-2018297-Radula_lindenbergia:0.163413217):0.034591585):0.123558447):0.034585474):0.095709355):0.208073777):0.096456359):0.042290760):0.011625487,(KUXM-2008758-Selaginella_selaginoides:0.155840083,(ZFGK-2039682-Selaginella_kraussiana:0.160779514,(JKAA-2005030-Selaginella_wallacei:0.140288437,JKAA-2013986-Selaginella_wallacei:0.048682738):0.174598607):0.055715226):0.126831454):0.044407458,((((VIBO-2007835-Osmunda_javanica:0.148983795,((MEKP-2104845-Dipteris_conjugata:0.169207920,(((EWXK-2121424-Thyrsopteris_elegans:0.015753350,(UWOD-2135206-Plagiogyria_japonica:0.069622592,(UWOD-2130374-Plagiogyria_japonica:0.076789353,PNZO-2150800-Culcita_macrocarpa:0.018092979):0.015248562):0.023745226):0.054517496,((NOKI-2094938-Lindsaea_linearis:0.103660146,(NOKI-2009957-Lindsaea_linearis:0.000000005,NOKI-2009956-Lindsaea_linearis:0.000000005):0.195739337):0.212176102,(MTGC-2043348-Dennstaedtia:0.191884853,((RFRB-2028039-Didymochlaena_truncatula:0.127116405,NWWI-2128381-Nephrolepis_exaltata:0.166573581):0.028211228,(NWWI-2016921-Nephrolepis_exaltata:0.140297144,(OQWW-2033116-Davallia_fejeensis:0.103099265,ZRAV-2135772-ZRAV-Polypodium_hesperium-2_samples_combined:0.080479665):0.063500235):0.035310832):0.092291349):0.039379215):0.109787559):0.095647164,XDVM-2028193-Sticherus_lobatus:0.339407719):0.038717696):0.029948515,QIAD-2058794-Hymenophyllum_bivalve:0.172181592):0.135474586):0.091001254,((PNZO-2013494-Culcita_macrocarpa:0.048504702,EWXK-2121103-Thyrsopteris_elegans:0.018187556):0.288900078,(VIBO-2006261-Osmunda_javanica:0.110601750,((CQPW-2021249-Anemia_tomentosa:0.224811956,(EWXK-2119988-Thyrsopteris_elegans:0.047246960,(PNZO-2007161-Culcita_macrocarpa:0.005768347,(UWOD-2137909-Plagiogyria_japonica:0.062206791,PNZO-2007160-Culcita_macrocarpa:0.013701550):0.008270340):0.035674664):0.173196469):0.067165214,(MEKP-2097268-Dipteris_conjugata:0.182006989,(MEKP-2006924-Dipteris_conjugata:0.000000005,MEKP-2006925-Dipteris_conjugata:0.095856034):0.160551018):0.065649507):0.128923236):0.025595646):0.026218749):0.091302618,((QIAD-2057445-Hymenophyllum_bivalve:0.224788399,(MEKP-2104929-Dipteris_conjugata:0.230582914,(PIVW-2009700-Ceratopteris_thalictroides:0.290401505,((OCZL-2002261-Homalosorus_pycnocarpos:0.082588331,(HEGQ-2078665-Gymnocarpium_dryopteris:0.089467797,((RICC-2060962-Cystopteris_reevesiana:0.027451417,YOWV-2062256-Cystopteris_protrusa:0.015852123):0.130906297,(OCZL-2055378-Homalosorus_pycnocarpos:0.041855724,AFPO-2009108-Blechnum_spicant-gametophyte:0.043404169):0.022253322):0.031736272):0.042436346):0.014511473,(OQWW-2225010-Davallia_fejeensis:0.194547833,RFRB-2030922-Didymochlaena_truncatula:0.101970955):0.027585280):0.185463457):0.254262487):0.071257292):0.288194588,((QIAD-2005972-Hymenophyllum_bivalve:0.181508076,(((UWOD-2131603-Plagiogyria_japonica:0.000000005,UWOD-2130040-Plagiogyria_japonica:0.000000005):0.054819005,(EWXK-2012290-Thyrsopteris_elegans:0.000000005,(EWXK-2012291-Thyrsopteris_elegans:0.009964895,EWXK-2012289-Thyrsopteris_elegans:0.000000005):0.000000005):0.037872625):0.032890166,((UJTT-2089056-Pityrogramma_trifoliata:0.216126367,(WQML-2006550-Cryptogramma_acrostichoides:0.127622739,WQML-2006551-Cryptogramma_acrostichoides:0.073354839):0.043671503):0.191932455,((VITX-2091612-Blechnum_spicant:0.000000005,MTGC-2040667-Dennstaedtia:0.090964293):0.048902043,((AFPO-2066549-Blechnum_spicant-gametophyte:0.017438747,(YOWV-2008603-Cystopteris_protrusa:0.058839420,UFJN-2011504-Diplazium_wichurae:0.032295549):0.013214768):0.008163396,((NWWI-2016936-Nephrolepis_exaltata:0.008561389,NWWI-2016937-Nephrolepis_exaltata:0.006105105):0.102849313,(PSKY-2012413-Asplenium_nidus:0.083451061,(OQWW-2031695-Davallia_fejeensis:0.019800590,OQWW-2031694-Davallia_fejeensis:0.020185230):0.070381498):0.032131280):0.021949669):0.022514051):0.056934377):0.046592633):0.131780706):0.130721034,(MEKP-2014651-Dipteris_conjugata:0.232607129,(MEKP-2105811-Dipteris_conjugata:0.192353074,VIBO-2008406-Osmunda_javanica:0.109794265):0.043382719):0.033559216):0.043424029):0.125905285):0.066768421,((((EWXK-2000842-Thyrsopteris_elegans:0.077782378,(UWOD-2023992-Plagiogyria_japonica:0.085109458,(EWXK-2000843-Thyrsopteris_elegans:0.000000005,EWXK-2000844-Thyrsopteris_elegans:0.009784051):0.078483455):0.044105981):0.137950121,(UFJN-2010499-Diplazium_wichurae:0.181572920,NOKI-2007156-Lindsaea_linearis:0.181078738):0.065657615):0.265895588,(UGNK-2020446-Marattia_attenuata:0.207850038,(MEKP-2101772-Dipteris_conjugata:0.169259751,(MEKP-2006789-Dipteris_conjugata:0.0,MEKP-2006790-Dipteris_conjugata:0.0):0.283709957):0.163834081):0.070673652):0.116683803,(EEAQ-2009408-Sceptridium_dissectum:0.192126526,((UGNK-2021731-Marattia_attenuata:0.195484980,(PNZO-2016614-Culcita_macrocarpa:0.000000005,PNZO-2016613-Culcita_macrocarpa:0.004678996):0.242791060):0.122324250,(EEAQ-2016820-Sceptridium_dissectum:0.305573508,UGNK-2006528-Marattia_attenuata:0.168263223):0.050508659):0.047332801):0.049448682):0.073515449):0.020768100):0.016401590,((((UGNK-2017109-Marattia_attenuata:0.226206233,UGNK-2021182-Marattia_attenuata:0.157612075):0.086745561,((VIBO-2006264-Osmunda_javanica:0.033401079,(VIBO-2006262-Osmunda_javanica:0.054525472,VIBO-2068779-Osmunda_javanica:0.190938487):0.027164639):0.090637291,((((QIAD-2001912-Hymenophyllum_bivalve:0.003498479,(QIAD-2001910-Hymenophyllum_bivalve:0.000000005,QIAD-2001911-Hymenophyllum_bivalve:0.010004724):0.003163650):0.104011527,(EWXK-2024179-Thyrsopteris_elegans:0.032079749,(PNZO-2149017-Culcita_macrocarpa:0.014313000,(UWOD-2007283-Plagiogyria_japonica:0.004684516,(UWOD-2007282-Plagiogyria_japonica:0.0,UWOD-2007281-Plagiogyria_japonica:0.0):0.000000005):0.026902194):0.025906031):0.068110664):0.019517773,QIAD-2005429-Hymenophyllum_bivalve:0.192803575):0.000000005,((((NWWI-2129196-Nephrolepis_exaltata:0.161192727,RFRB-2004763-Didymochlaena_truncatula:0.122928610):0.124362189,(((((NWWI-2016034-Nephrolepis_exaltata:0.205207864,RFRB-2003549-Didymochlaena_truncatula:0.117555656):0.027158299,(PSKY-2006363-Asplenium_nidus:0.043275086,PSKY-2006364-Asplenium_nidus:0.082523779):0.066285599):0.013368937,((RFRB-2001106-Didymochlaena_truncatula:0.042794937,((YJJY-2003866-Woodsia_scopulina:0.050950606,((UFJN-2011921-Diplazium_wichurae:0.000000005,UFJN-2011920-Diplazium_wichurae:0.000000005):0.033594642,(URCP-2006930-Athyrium_filix_femina:0.008903980,AFPO-2067950-Blechnum_spicant-gametophyte:0.026976614):0.013265964):0.011262810):0.029053912,(OCZL-2057098-Homalosorus_pycnocarpos:0.045766298,(YOWV-2065628-Cystopteris_protrusa:0.009996902,RICC-2063680-Cystopteris_reevesiana:0.013062562):0.023033827):0.021756340):0.018329250):0.010983407,(MTGC-2045309-Dennstaedtia:0.074334005,(OQWW-2011605-Davallia_fejeensis:0.143243820,WQML-2067295-Cryptogramma_acrostichoides:0.112843278):0.048444373):0.014150644):0.015749719):0.010603101,(CJNT-2000385-Polypodium_glycyrrhiza:0.088190643,(OQWW-2210001-Davallia_fejeensis:0.073909959,NWWI-2017522-Nephrolepis_exaltata:0.032428723):0.011135038):0.036093774):0.027159215,((PIVW-2091514-Ceratopteris_thalictroides:0.133917575,PIVW-2013241-Ceratopteris_thalictroides:0.278710903):0.036191892,(UJTT-2021887-Pityrogramma_trifoliata:0.081091474,(FLTD-2002709-Pteris_ensigormis:0.095650153,FLTD-2000769-Pteris_ensigormis:0.036572373):0.044369022):0.033980508):0.015608983):0.044218864):0.106204871,(EWXK-2022152-Thyrsopteris_elegans:0.087134501,((UWOD-2137824-Plagiogyria_japonica:0.032006717,PNZO-2014861-Culcita_macrocarpa:0.035551870):0.082592948,PNZO-2026447-Culcita_macrocarpa:0.034219423):0.011177709):0.028499236):0.042183802,(PNZO-2145799-Culcita_macrocarpa:0.000000005,(MEKP-2001942-Dipteris_conjugata:0.000000005,MEKP-2001943-Dipteris_conjugata:0.000000005):0.000000005):0.112226414):0.027924753):0.098067164):0.066103133):0.022061930,(EEAQ-2085892-Sceptridium_dissectum:0.307541300,((UGNK-2009017-Marattia_attenuata:0.023220242,UGNK-2002432-Marattia_attenuata:0.018244470):0.114246262,(MEKP-2009607-Dipteris_conjugata:0.141132385,(VIBO-2075523-Osmunda_javanica:0.046152681,(((MEKP-2006126-Dipteris_conjugata:0.060482550,QIAD-2007571-Hymenophyllum_bivalve:0.055692477):0.026654461,(((PNZO-2144082-Culcita_macrocarpa:0.033249601,MTGC-2003517-Dennstaedtia:0.198864931):0.023028270,(MEKP-2104936-Dipteris_conjugata:0.000000005,PNZO-2019133-Culcita_macrocarpa:0.000000005):0.088909526):0.038834281,(((UWOD-2010389-Plagiogyria_japonica:0.006771243,PNZO-2022483-Culcita_macrocarpa:0.011537687):0.025846115,(PNZO-2008392-Culcita_macrocarpa:0.016590549,(UWOD-2022188-Plagiogyria_japonica:0.003060855,UWOD-2022189-Plagiogyria_japonica:0.055742147):0.007135438):0.027513829):0.017716613,((((NOKI-2003824-Lindsaea_linearis:0.0,NOKI-2003823-Lindsaea_linearis:0.0,NOKI-2003822-Lindsaea_linearis:0.0):0.000000006,(NOKI-2003826-Lindsaea_linearis:0.004387379,NOKI-2003825-Lindsaea_linearis:0.010343180):0.000000005):0.091058537,(((UJTT-2020630-Pityrogramma_trifoliata:0.034446947,(UJTT-2024292-Pityrogramma_trifoliata:0.000000005,UJTT-2024293-Pityrogramma_trifoliata:0.000000005):0.011576711):0.019105291,(FLTD-2003260-Pteris_ensigormis:0.118845947,(WQML-2067239-Cryptogramma_acrostichoides:0.102103561,((PIVW-2004244-Ceratopteris_thalictroides:0.0,PIVW-2004243-Ceratopteris_thalictroides:0.0):0.049267075,(PIVW-2004877-Ceratopteris_thalictroides:0.007799446,(PIVW-2004875-Ceratopteris_thalictroides:0.000000005,PIVW-2004876-Ceratopteris_thalictroides:0.000000005):0.000000005):0.053545777):0.057185973):0.014765545):0.020059655):0.083625720,(((WGTU-2003219-Leucostegia_immersa:0.057785969,((RFRB-2005366-Didymochlaena_truncatula:0.086400689,(((OCZL-2010016-Homalosorus_pycnocarpos:0.014227777,UFJN-2008383-Diplazium_wichurae:0.019989680):0.007067489,((AFPO-2004050-Blechnum_spicant-gametophyte:0.005056493,((UFJN-2008385-Diplazium_wichurae:0.040807168,(VITX-2012698-Blechnum_spicant:0.053472043,(YOWV-2007410-Cystopteris_protrusa:0.000000005,YOWV-2007411-Cystopteris_protrusa:0.000000005):0.038645585):0.023229348):0.035149432,UFJN-2008384-Diplazium_wichurae:0.010692764):0.017622912):0.025652769,(AFPO-2004049-Blechnum_spicant-gametophyte:0.009853048,(VITX-2011619-Blechnum_spicant:0.000000005,VITX-2011620-Blechnum_spicant:0.000000005):0.033164663):0.004920922):0.007409320):0.021378624,(RICC-2001178-Cystopteris_reevesiana:0.019739496,(YOWV-2001186-Cystopteris_protrusa:0.000000005,YOWV-2001187-Cystopteris_protrusa:0.000000005):0.009771592):0.049328112):0.007945096):0.016803332,(PSKY-2011137-Asplenium_nidus:0.030034772,PSKY-2011117-Asplenium_nidus:0.041142715):0.028540984):0.004364148):0.010415672,(WQML-2010447-Cryptogramma_acrostichoides:0.077654248,(NWWI-2005973-Nephrolepis_exaltata:0.026401918,OQWW-2226199-Davallia_fejeensis:0.026168528):0.007438583):0.016545475):0.017965976,((RICC-2009776-Cystopteris_reevesiana:0.003938186,MTGC-2006016-Dennstaedtia:0.000000005):0.093570213,(MTGC-2002179-Dennstaedtia:0.031712566,(HTFH-2008389-Onoclea_sensibilis:0.064789224,(RFRB-2004661-Didymochlaena_truncatula:0.055633103,MTGC-2002180-Dennstaedtia:0.031565215):0.007164436):0.019201716):0.015702274):0.030942948):0.011874370):0.033901679):0.035944109,(QIAD-2001310-Hymenophyllum_bivalve:0.067851061,((Azolla_filiculoides_LAR:0.0,AZOLLAFILICULOIDES:0.0):0.048344519,(((EWXK-2002787-Thyrsopteris_elegans:0.0,EWXK-2002785-Thyrsopteris_elegans:0.0):0.015962253,(EWXK-2002786-Thyrsopteris_elegans:0.000000005,MTGC-2006744-Dennstaedtia:0.252308944):0.016374985):0.000000005,PNZO-2020054-Culcita_macrocarpa:0.044996281):0.037861770):0.019403211):0.011038764):0.021597938):0.008606557):0.005814606):0.039942262,(VIBO-2074404-Osmunda_javanica:0.042234669,VIBO-2066959-Osmunda_javanica:0.007312331):0.004240497):0.068029165):0.040380219):0.024391728):0.136752391):0.041610813):0.015175300,(EEAQ-2015837-Sceptridium_dissectum:0.115712301,EEAQ-2086622-Sceptridium_dissectum:0.283480745):0.045798760):0.048549447):0.073156405):0.016915306):0.042364303):0.085513557,(((BYPY-2079675-Brocchinia_reducta:0.104690220,((ZMGN-2010738-Neurachne_munroi:0.070631715,(IADP-2014327-Deschampsia_cespitosa:0.063835500,ENAU-2017809-Spermatozopsis_similis:0.088962625):0.081404362):0.060660696,BSTR-2011102-Chondropetalum_tectorum:0.143465588):0.028756713):0.039052193,((HDWF-2005912-Francoa_appendiculata:0.083681119,SVTS-2001075-Drimia_altissima:0.036739718):0.046007589,UZXL-2013107-Disporopsis_pernyi:0.203413191):0.013963384):0.045795078,((YPIC-2013776-Microstegium_vimineum:0.258030205,(HPXA-2007569-Ptilidium_pulcherrimum:0.476779214,XPAF-2000155-Mapania_palustris:0.000000005):0.085101444):0.044361480,(DGXS-2004806-Freycinetia_multiflora:0.172523477,(XFJG-2001226-Maianthemum_canadense:0.133338260,YBML-2018485-Yucca_brevifolia:0.209986377):0.029214462):0.082226743):0.029536575):0.065937963):0.020704518):0.012647021):0.014579874):0.025226021):0.010533886,(Piper_regnellii_APS_:0.196941329,(NXTS-2022085-NXTS-Mollugo_verticillata-2_samples_combined:0.074633188,GJNX-2008283-Cypselea_humifusum:0.098929661):0.076359067):0.033536495):0.014124933,((GSZA-2014113-Lonicera_japonica:0.125893881,(KGJF-2007963-Tragopogon_porrifolius:0.060033554,(QXWF-2011665-Flaveria_kochiana:0.046122919,MHYG-2011592-MHYG-Conzya_canadensis-2_samples_combined:0.037808313):0.027447222):0.046244357):0.018720646,(((JMTE-2015076-Pseudoscourfieldia_marina:0.141127890,NHUA-2068545-Castanea_crenata:0.199257937):0.034327908,(EZGR-2007052-EZGR-Portulaca_oleracea-2_samples_combined:0.122990123,DZLN-2001811-Oenothera_picensis-MTJ_655:0.223573602):0.014433068):0.046985046,((((GLVK-2013941-Salix_eriocephala:0.107635778,Theca_v1_1-Thecc1EG006861t1-Theobroma_cacao:0.064602530):0.016464987,(RVGH-2017013-Drypetes_deplanchei:0.064741421,VNMY-2003437-Bischofia_javanica:0.113320510):0.004549144):0.008120886,(TIUZ-2005463-Cunonia_capensis:0.045146520,VFFP-2004565-Acer_negundo:0.205366324):0.010706196):0.017775877,(Fragaria_ananassa_EGS2_:0.205507769,(PEZP-2015549-Glycyrrhiza_glabra:0.293481242,(BAHE-2135573-Solenostemon_scutellarioides:0.107990831,(FROP-2009571-FROP-Epifagus_virginiana-2_samples_combined:0.091822326,EJCM-2020213-EJCM-Lindenbergia_philippensis-2_samples_combined:0.047287182):0.020585842):0.114815955):0.024569762):0.022724025):0.026265940):0.029918306):0.010178823):0.030837331,(ZUHO-2011764-Anemone_hupenhensis:0.099375003,OHAE-2001817-Polygala_lutea:0.079877874):0.035471103):0.027963323,JMTE-2015639-Pseudoscourfieldia_marina:0.148948247):0.008876210,((((Petunia_hybrida_EGS_:0.041379424,(Nicotiana_tabacum_PCBER_:0.066193509,LWCK-2011690-Lycium_barbarum:0.161290989):0.024112338):0.062564901,(((Forsythia_intermedia_PCBER_:0.080850027,VYDM-2129688-VYDM-Orobanche_fasciculata-2_samples_combined:0.065351834):0.013689952,(CLRW-2030804-Bacopa_caroliniana:0.099612475,(MXFG-2014601-Pinguicula_agnata:0.172649726,(JCMU-2005036-Pinguicula_caudata:0.028698123,MXFG-2000385-Pinguicula_agnata:0.058626099):0.115528529):0.021484133):0.006945642):0.043155765,(DIHD-2017857-Heliotropium_tenellum-juvenile_leaf:0.085629708,OLXF-2091268-Hibiscus_cannabinus:0.130291250):0.044433416):0.017030372):0.018655510,(BCAA-2071638-Kirkia_wilmsii:0.107890843,EDEQ-2006436-Wrightia_natalensis:0.128610183):0.030799908):0.012328023,MVSE-2009482-Griselinia_littoralis:0.147592517):0.015293256):0.013992624,(Larrea_tridentata_APS_:0.124371096,(Populus_trichorpa_PCBER_:0.128585522,(ZBVT-2001229-Chrysobalanus_icaco:0.097857860,(RPPC-2001480-Erythroxylum_coca:0.141985561,(VXOD-2045741-Linum_tenuifolium:0.048229799,HNCF-2008210-Linum_hirsutum:0.055501251):0.042000239):0.023521828):0.018913573):0.032304051):0.023923365):0.010138654):0.014861402);\n"
     ]
    },
    {
     "name": "stdout",
     "output_type": "stream",
     "text": [
      "TreeLogLk\tML_NNI1\t-132822.0210\tMaxChange\t12.6045\n",
      "NCategories\t20\n",
      "Rates 0.047081 0.064535 0.088459 0.121253 0.166205 0.227821 0.312280 0.428051 0.586740 0.804260 1.102419 1.511114 2.071323 2.839215 3.891785 5.334570 7.312231 10.023063 13.738869 18.832219\n",
      "SiteCategories 11 8 5 10 9 1 10 5 2 12 9 1 12 12 10 9 12 6 7 12 12 13 10 7 10 3 12 11 6 10 2 11 12 11 13 11 12 8 12 13 12 12 13 11 10 11 13 12 4 9 12 11 12 13 8 8 12 12 8 11 13 9 8 9 12 7 11 9 11 7 7 8 3 5 6 10 10 10 12 14 12 12 13 11 3 12 11 8 9 13 3 6 9 10 8 5 9 10 8 5 6 12 3 3 6 8 7 12 7 10 10 11 12 13 12 11 11 11 12 11 13 13 12 13 14 3 12 13 10 6 10 9 11 9 12 10 12 7 7 12 3 12 9 11 10 7 12 9 9 11 12 11 11 12 11 10 12 8 13 12 13 13 12 8 8 12 10 12 10 12 8 11 6 9 4 10 12 7 10 10 12 9 12 7 12 3 10 10 11 11 8 10 10 10 10 10 4 10 8 8 11 2 7 12 10 10 11 9 6 12 13 4 11 12 8 11 8 9 11 8 11 11 8 1 12 9 10 9 11 12 9 11 9 12 12 12 11 11 12 12 12 12 12 13 10 12 11 12 12 13 10 14 9 13 14 12 11 10 12 8 10 11 10 10 12 5 11 11 12 11 10 12 11 12 12 13 11 11 8 8 10 13 6 6 7 11 11 12 9 9 10 11 11 12 11 8 12 12 11\n",
      "ML_NNI2\t(((Fragaria_ananassa_EGS1_:0.083280898,WBOD-2008814-Magnolia_grandiflora:0.095942921):0.021481633,(WWKL-2000561-Tapiscia_sinensis:0.059453695,(Clarkia_breweri_EGS2_:0.083528465,TIUZ-2003245-Cunonia_capensis:0.089671443):0.008810137):0.003087397):0.009616689,KYAD-2052004-Celtis_occidentalis:0.073954668,((YGCX-2029297-Geranium_maculatum:0.092349273,(UZWG-2005807-Castanea_pumila:0.063222096,(Lotus_japonicus_PTR_:0.181460053,(WDWX-2040226-Dunaliella_primolecta-UTEX_LB_1000:0.000000005,(ZDIZ-2046665-Dunaliella_tertiolecta-CCMP_364:0.000000005,UKUC-2108429-Dunaliella_salina-UTEX_LB_200:0.000000005):0.000000005):0.067092047):0.024747566):0.016870706):0.008949210,((((((((UBLN-2013933-Xanthuium_strumarium:0.199859283,BAHE-2016886-Solenostemon_scutellarioides:0.381237347):0.052629219,(KGJF-2007963-Tragopogon_porrifolius:0.060033554,(QXWF-2011665-Flaveria_kochiana:0.046122919,MHYG-2011592-MHYG-Conzya_canadensis-2_samples_combined:0.037808313):0.025351415):0.016654050):0.045133086,(GSZA-2014113-Lonicera_japonica:0.137707134,((DZLN-2001811-Oenothera_picensis-MTJ_655:0.258932351,(EZGR-2007052-EZGR-Portulaca_oleracea-2_samples_combined:0.136425945,(JMTE-2015076-Pseudoscourfieldia_marina:0.126780380,NHUA-2068545-Castanea_crenata:0.249321699):0.043294210):0.008995858):0.048934600,((((BAHE-2135573-Solenostemon_scutellarioides:0.107990831,(FROP-2009571-FROP-Epifagus_virginiana-2_samples_combined:0.091822326,EJCM-2020213-EJCM-Lindenbergia_philippensis-2_samples_combined:0.047287182):0.021222110):0.146029719,(PEZP-2015549-Glycyrrhiza_glabra:0.320665963,Fragaria_ananassa_EGS2_:0.199656645):0.026072934):0.023203042,Theca_v1_1-Thecc1EG006861t1-Theobroma_cacao:0.068341335):0.010355397,((VNMY-2003437-Bischofia_javanica:0.108040144,(RVGH-2017013-Drypetes_deplanchei:0.063833679,GLVK-2013941-Salix_eriocephala:0.110687022):0.008428814):0.009216916,(TIUZ-2005463-Cunonia_capensis:0.048092865,VFFP-2004565-Acer_negundo:0.231940325):0.007932557):0.008189831):0.026359389):0.021360244):0.011344425):0.023877728,((Piper_regnellii_APS_:0.210145886,(NXTS-2022085-NXTS-Mollugo_verticillata-2_samples_combined:0.074633188,GJNX-2008283-Cypselea_humifusum:0.098929661):0.086591874):0.028874991,(((((((EFCZ-2036898-EFCZ-Eleusine_coracana-4_samples_combined:0.652143856,(((Gymnadenia_densiflora_EGS_:0.308592870,MWYQ-2010723-Smilax_bona_nox:0.105239398):0.065474218,(Elagu_v2_0-p5_sc00089_V1_gene225-Elaeis_guineensis:0.262300870,Elagu_v2_0-p5_sc00089_V1_gene226-Elaeis_guineensis:0.088735911):0.171230192):0.083160704,VTUS-2009665-Goodyera_pubescens:0.410644344):0.058714514):0.106275920,(DZTK-2036715-Batis_maritima:0.141321088,LVUS-2009236-LVUS-Cleome_violaceae-2_samples_combined:0.272576393):0.097689526):0.056964462,((((Eucgr_v1_1-Eucgr_I02421_1-Eucalyptus_grandis:0.108431177,AYMT-2006415-Eucalyptus_leucoxylon-March:0.086713984):0.102595599,(RBYC-2075468-Elaeagnus_pungens:0.177266158,UWFU-2036417-Itea_virginica:0.218313810):0.070319058):0.021956658,(TJLC-2012256-Nothofagus_obliqua:0.126016523,Manes_v4_1-cassava4_1_028385m-Manihot_esculenta:0.282509034):0.027847963):0.027627004,(BEFC-2001207-Manilkara_zapota:0.193910182,EMAL-2002856-Ehretia_acuminata:0.378621144):0.062524131):0.025144466):0.033681273,(KFZY-2024659-Tragopogon_castellanus:0.000000005,FUPX-2006739-Tragopogon_pratensis:0.016615815):0.301760772):0.026221182,((PEZP-2001925-Glycyrrhiza_glabra:0.000000005,(Cicer_arietinum_IFR_:0.092821613,(Pisum_sativum_IFR_:0.032666097,Medicago_sativa_IFR_:0.044875472):0.039064236):0.062424751):0.334293090,EYRD-2015259-EYRD-Alternanthera_tenella-2_samples_combined:0.287432447):0.067884206):0.032465583,((TOXE-2005667-Welwitschia_mirabilis:0.344368806,((OWFC-2004422-Halocarpus_bidwillii:0.068691069,(MHGD-2071842-Microcachrys_tetragona:0.046463702,HILW-2005133-Acmopyle_pancheri:0.107598815):0.012735410):0.394090687,((((MFTM-2001687-Pinus_jeffreyi:0.095222810,Pinta_v2_0-PITA_000050506_RA-Pinus_taeda:0.314539682):0.055957510,((AIGO-2000161-Chamaecyparis_lawsoniana:0.036580626,ETCJ-2004328-Pilgerodendron_uviferum:0.042229210):0.039246980,(KLGF-2003266-Sundacarpus_amarus:0.029398125,(IZGN-2005659-Dacrydium_balansae:0.027134131,HILW-2017904-Acmopyle_pancheri:0.028783012):0.025320558):0.041113082):0.021757043):0.017806690,((Pinus_taeda_PCBER_:0.073526903,Tsuga_heterophylla_PCBER_:0.067238893):0.062513240,(WQML-2058582-Cryptogramma_acrostichoides:0.131532931,(RSCE-2005313-Wollemia_nobilis:0.176855659,(((QFAE-2005256-Sequoiadendron_giganteum-Glaucum:0.026892743,ZQVF-2016229-ZQVF-Cunninghamia_lanceolata-2_samples_combined:0.032913089):0.121295218,(ROWR-2001152-Falcatifolium_taxoides:0.161210637,(NGRR-2076095-Ternstroemia_gymnanthera:0.845748205,IZGN-2003468-Dacrydium_balansae:0.000000005):0.130942206):0.051170966):0.008357788,(IAJW-2007887-Amentotaxus_argotaenia:0.071004219,(IFLI-2000331-Callitris_gracilis-March:0.068552181,AIGO-2001003-Chamaecyparis_lawsoniana:0.050208194):0.082044450):0.072328767):0.015556807):0.087297787):0.018257346):0.017214237):0.090262180,(((((UGNK-2017109-Marattia_attenuata:0.226206233,UGNK-2021182-Marattia_attenuata:0.157612075):0.090385964,((VIBO-2006264-Osmunda_javanica:0.033367678,(VIBO-2006262-Osmunda_javanica:0.056347111,VIBO-2068779-Osmunda_javanica:0.190468859):0.028127473):0.093322821,((((((NWWI-2129196-Nephrolepis_exaltata:0.161192727,RFRB-2004763-Didymochlaena_truncatula:0.122928610):0.137579747,(((((NWWI-2016034-Nephrolepis_exaltata:0.210143761,RFRB-2003549-Didymochlaena_truncatula:0.128901889):0.022268801,(PSKY-2006363-Asplenium_nidus:0.043275086,PSKY-2006364-Asplenium_nidus:0.082523779):0.070990182):0.014088019,(MTGC-2045309-Dennstaedtia:0.085832784,((RFRB-2001106-Didymochlaena_truncatula:0.044552825,((YJJY-2003866-Woodsia_scopulina:0.052071436,((UFJN-2011921-Diplazium_wichurae:0.000000005,UFJN-2011920-Diplazium_wichurae:0.000000005):0.034301108,(URCP-2006930-Athyrium_filix_femina:0.008903980,AFPO-2067950-Blechnum_spicant-gametophyte:0.026976614):0.013471615):0.010970751):0.029983717,(OCZL-2057098-Homalosorus_pycnocarpos:0.045766298,(YOWV-2065628-Cystopteris_protrusa:0.009996902,RICC-2063680-Cystopteris_reevesiana:0.013062562):0.023476832):0.020633788):0.017679140):0.009909916,(OQWW-2011605-Davallia_fejeensis:0.141842643,WQML-2067295-Cryptogramma_acrostichoides:0.123939503):0.050071224):0.011663991):0.013702966):0.011606486,(CJNT-2000385-Polypodium_glycyrrhiza:0.096213845,(OQWW-2210001-Davallia_fejeensis:0.082104734,NWWI-2017522-Nephrolepis_exaltata:0.034122109):0.012301637):0.036561003):0.023929675,((PIVW-2091514-Ceratopteris_thalictroides:0.144974879,PIVW-2013241-Ceratopteris_thalictroides:0.304092886):0.033530943,(UJTT-2021887-Pityrogramma_trifoliata:0.081868122,(FLTD-2002709-Pteris_ensigormis:0.095650153,FLTD-2000769-Pteris_ensigormis:0.036572373):0.050562017):0.034872766):0.016522015):0.044355323):0.113077271,(EWXK-2022152-Thyrsopteris_elegans:0.081044408,((UWOD-2137824-Plagiogyria_japonica:0.032006717,PNZO-2014861-Culcita_macrocarpa:0.035551870):0.085776552,PNZO-2026447-Culcita_macrocarpa:0.034219423):0.020546842):0.025406385):0.047653841,(PNZO-2145799-Culcita_macrocarpa:0.000000005,(MEKP-2001942-Dipteris_conjugata:0.000000005,MEKP-2001943-Dipteris_conjugata:0.000000005):0.000000005):0.115813523):0.010234565,QIAD-2005429-Hymenophyllum_bivalve:0.205536363):0.022175976,((QIAD-2001912-Hymenophyllum_bivalve:0.003515843,(QIAD-2001910-Hymenophyllum_bivalve:0.000000005,QIAD-2001911-Hymenophyllum_bivalve:0.010048874):0.003175702):0.107102775,(EWXK-2024179-Thyrsopteris_elegans:0.032079749,(PNZO-2149017-Culcita_macrocarpa:0.014313000,(UWOD-2007283-Plagiogyria_japonica:0.004684516,(UWOD-2007282-Plagiogyria_japonica:0.0,UWOD-2007281-Plagiogyria_japonica:0.0):0.000000005):0.027299678):0.024586496):0.069752879):0.019831043):0.103343553):0.079525667):0.033689646,(EEAQ-2015837-Sceptridium_dissectum:0.131820671,EEAQ-2086622-Sceptridium_dissectum:0.312085584):0.040717575):0.032026995,((((VIBO-2007835-Osmunda_javanica:0.169092024,((MEKP-2104845-Dipteris_conjugata:0.179382522,(((EWXK-2121424-Thyrsopteris_elegans:0.016363100,(PNZO-2150800-Culcita_macrocarpa:0.030269681,(UWOD-2130374-Plagiogyria_japonica:0.052698598,UWOD-2135206-Plagiogyria_japonica:0.061137282):0.015268856):0.031236080):0.054788598,((NOKI-2094938-Lindsaea_linearis:0.103660146,(NOKI-2009957-Lindsaea_linearis:0.000000005,NOKI-2009956-Lindsaea_linearis:0.000000005):0.214339253):0.239208932,(MTGC-2043348-Dennstaedtia:0.191884853,((RFRB-2028039-Didymochlaena_truncatula:0.146106824,NWWI-2128381-Nephrolepis_exaltata:0.170765072):0.027505050,(NWWI-2016921-Nephrolepis_exaltata:0.140297144,(OQWW-2033116-Davallia_fejeensis:0.103099265,ZRAV-2135772-ZRAV-Polypodium_hesperium-2_samples_combined:0.080479665):0.066733902):0.037509206):0.100507234):0.042170630):0.114850365):0.110835067,XDVM-2028193-Sticherus_lobatus:0.346044859):0.036195034):0.034123171,QIAD-2058794-Hymenophyllum_bivalve:0.172181592):0.131367503):0.100386635,(((CQPW-2021249-Anemia_tomentosa:0.224811956,(EWXK-2119988-Thyrsopteris_elegans:0.047246960,(PNZO-2007161-Culcita_macrocarpa:0.005577060,(UWOD-2137909-Plagiogyria_japonica:0.062842588,PNZO-2007160-Culcita_macrocarpa:0.013874878):0.008110687):0.037471124):0.186972810):0.070463786,(MEKP-2097268-Dipteris_conjugata:0.182006989,(MEKP-2006924-Dipteris_conjugata:0.000000005,MEKP-2006925-Dipteris_conjugata:0.095856034):0.171842903):0.066489353):0.146156277,(VIBO-2006261-Osmunda_javanica:0.124829025,(PNZO-2013494-Culcita_macrocarpa:0.046027419,EWXK-2121103-Thyrsopteris_elegans:0.020153463):0.305149948):0.025351189):0.029250982):0.098442891,((QIAD-2057445-Hymenophyllum_bivalve:0.241976005,(MEKP-2104929-Dipteris_conjugata:0.242014616,(PIVW-2009700-Ceratopteris_thalictroides:0.317180357,(((OQWW-2225010-Davallia_fejeensis:0.204421244,RFRB-2030922-Didymochlaena_truncatula:0.104727968):0.032948637,(HEGQ-2078665-Gymnocarpium_dryopteris:0.089467797,((RICC-2060962-Cystopteris_reevesiana:0.027451417,YOWV-2062256-Cystopteris_protrusa:0.015852123):0.132406136,(OCZL-2055378-Homalosorus_pycnocarpos:0.044680072,AFPO-2009108-Blechnum_spicant-gametophyte:0.043492495):0.025456609):0.028853003):0.045728957):0.019778540,OCZL-2002261-Homalosorus_pycnocarpos:0.072641040):0.192091680):0.281566612):0.081242925):0.330840548,((MEKP-2105811-Dipteris_conjugata:0.192353074,VIBO-2008406-Osmunda_javanica:0.109794265):0.048642322,(MEKP-2014651-Dipteris_conjugata:0.242173717,(QIAD-2005972-Hymenophyllum_bivalve:0.181508076,(((UWOD-2131603-Plagiogyria_japonica:0.000000005,UWOD-2130040-Plagiogyria_japonica:0.000000005):0.056791568,(EWXK-2012289-Thyrsopteris_elegans:0.000000005,(EWXK-2012291-Thyrsopteris_elegans:0.009752365,EWXK-2012290-Thyrsopteris_elegans:0.000000005):0.000000005):0.038579826):0.033498292,((UJTT-2089056-Pityrogramma_trifoliata:0.221522664,(WQML-2006550-Cryptogramma_acrostichoides:0.134722206,WQML-2006551-Cryptogramma_acrostichoides:0.073768844):0.044444922):0.208956872,((VITX-2091612-Blechnum_spicant:0.051658763,((AFPO-2066549-Blechnum_spicant-gametophyte:0.018376080,(YOWV-2008603-Cystopteris_protrusa:0.059024954,UFJN-2011504-Diplazium_wichurae:0.034142390):0.012117512):0.008071330,((NWWI-2016936-Nephrolepis_exaltata:0.008561389,NWWI-2016937-Nephrolepis_exaltata:0.006105105):0.104117448,(PSKY-2012413-Asplenium_nidus:0.083451061,(OQWW-2031695-Davallia_fejeensis:0.019800590,OQWW-2031694-Davallia_fejeensis:0.020185230):0.071759090):0.032900463):0.022384191):0.015830803):0.028103151,MTGC-2040667-Dennstaedtia:0.109023931):0.043213158):0.046083766):0.142234542):0.144605910):0.024118714):0.049372148):0.135671841):0.057873414,(EEAQ-2085892-Sceptridium_dissectum:0.307541300,((UGNK-2009017-Marattia_attenuata:0.022503126,UGNK-2002432-Marattia_attenuata:0.020168022):0.118647628,(MEKP-2009607-Dipteris_conjugata:0.149187040,(VIBO-2075523-Osmunda_javanica:0.047906209,(((MEKP-2006126-Dipteris_conjugata:0.067116836,QIAD-2007571-Hymenophyllum_bivalve:0.055568970):0.026058227,(((UWOD-2010389-Plagiogyria_japonica:0.006771243,PNZO-2022483-Culcita_macrocarpa:0.011537687):0.025959473,(UWOD-2022189-Plagiogyria_japonica:0.048554729,(UWOD-2022188-Plagiogyria_japonica:0.000000005,PNZO-2008392-Culcita_macrocarpa:0.024230292):0.011951537):0.027949766):0.021571652,(((PNZO-2144082-Culcita_macrocarpa:0.033104078,MTGC-2003517-Dennstaedtia:0.220681418):0.035797386,(MEKP-2104936-Dipteris_conjugata:0.000000005,PNZO-2019133-Culcita_macrocarpa:0.000000005):0.088820617):0.031970096,(((NOKI-2003825-Lindsaea_linearis:0.010244024,(NOKI-2003826-Lindsaea_linearis:0.004531707,(NOKI-2003824-Lindsaea_linearis:0.0,NOKI-2003823-Lindsaea_linearis:0.0,NOKI-2003822-Lindsaea_linearis:0.0):0.000000006):0.000000005):0.090616016,(((UJTT-2020630-Pityrogramma_trifoliata:0.034646590,(UJTT-2024292-Pityrogramma_trifoliata:0.000000005,UJTT-2024293-Pityrogramma_trifoliata:0.000000005):0.012585293):0.018424431,(WQML-2067239-Cryptogramma_acrostichoides:0.109482457,(FLTD-2003260-Pteris_ensigormis:0.127021766,((PIVW-2004244-Ceratopteris_thalictroides:0.0,PIVW-2004243-Ceratopteris_thalictroides:0.0):0.050072675,(PIVW-2004875-Ceratopteris_thalictroides:0.000000005,(PIVW-2004877-Ceratopteris_thalictroides:0.007622415,PIVW-2004876-Ceratopteris_thalictroides:0.000000005):0.000000005):0.054516387):0.057748038):0.008740425):0.022535288):0.090794949,(((WGTU-2003219-Leucostegia_immersa:0.058579992,((RFRB-2005366-Didymochlaena_truncatula:0.086900680,(((AFPO-2004049-Blechnum_spicant-gametophyte:0.009974593,(VITX-2011619-Blechnum_spicant:0.000000005,VITX-2011620-Blechnum_spicant:0.000000005):0.033197795):0.008291475,((AFPO-2004050-Blechnum_spicant-gametophyte:0.012414466,((UFJN-2008385-Diplazium_wichurae:0.040807168,(VITX-2012698-Blechnum_spicant:0.053472043,(YOWV-2007410-Cystopteris_protrusa:0.000000005,YOWV-2007411-Cystopteris_protrusa:0.000000005):0.039756194):0.023570478):0.036176688,UFJN-2008384-Diplazium_wichurae:0.011284838):0.008960792):0.025081805,(OCZL-2010016-Homalosorus_pycnocarpos:0.014577024,UFJN-2008383-Diplazium_wichurae:0.020664811):0.009030058):0.003642082):0.021794640,(RICC-2001178-Cystopteris_reevesiana:0.019739496,(YOWV-2001186-Cystopteris_protrusa:0.000000005,YOWV-2001187-Cystopteris_protrusa:0.000000005):0.009680588):0.049580564):0.008287705):0.016929425,(PSKY-2011137-Asplenium_nidus:0.030307979,PSKY-2011117-Asplenium_nidus:0.041586843):0.028512444):0.004412270):0.010357423,(WQML-2010447-Cryptogramma_acrostichoides:0.076719853,(NWWI-2005973-Nephrolepis_exaltata:0.027523167,OQWW-2226199-Davallia_fejeensis:0.026635410):0.006897096):0.017356962):0.017777819,((RICC-2009776-Cystopteris_reevesiana:0.003938186,MTGC-2006016-Dennstaedtia:0.000000005):0.095850898,(MTGC-2002179-Dennstaedtia:0.031712566,(HTFH-2008389-Onoclea_sensibilis:0.063394719,(RFRB-2004661-Didymochlaena_truncatula:0.056537170,MTGC-2002180-Dennstaedtia:0.030851436):0.007236554):0.019370426):0.015022262):0.032298620):0.009784605):0.035921257):0.037239814,(QIAD-2001310-Hymenophyllum_bivalve:0.068627063,((Azolla_filiculoides_LAR:0.0,AZOLLAFILICULOIDES:0.0):0.051201248,(((EWXK-2002787-Thyrsopteris_elegans:0.0,EWXK-2002785-Thyrsopteris_elegans:0.0):0.016385366,PNZO-2020054-Culcita_macrocarpa:0.051083175):0.000000005,(EWXK-2002786-Thyrsopteris_elegans:0.000000005,MTGC-2006744-Dennstaedtia:0.252308944):0.017173385):0.039400344):0.019364424):0.011223582):0.020462995):0.007799141):0.006264694):0.039826252,(VIBO-2074404-Osmunda_javanica:0.043885617,VIBO-2066959-Osmunda_javanica:0.008058504):0.003797568):0.068774145):0.041786582):0.023452662):0.150765841):0.024798940):0.021308432):0.038391880,((((KUXM-2008758-Selaginella_selaginoides:0.165474455,(ZFGK-2039682-Selaginella_kraussiana:0.160779514,(JKAA-2005030-Selaginella_wallacei:0.140288437,JKAA-2013986-Selaginella_wallacei:0.048682738):0.199689416):0.063268871):0.133527431,(((((QYXY-2049125-Botryococcus_terribilis:0.682751788,(Coccomyxa_subellipsoidea_PLR-like_:0.065466315,GXBM-2015075-Coccomyxa_pringsheimii:0.093647086):0.677058424):0.264866196,(((RDOO-2016327-Racomitrium_varium:0.747429424,(JKHA-2119905-Cyanoptyche_gloeocystis:0.874938055,(AKCR-2022862-Parachlorella_kessleri:0.252479228,(Chlva_v1_0-IGS_gm_1_00382-Chlorella_variabilis:0.058927904,Chlva_v1_0-IGS_gm_1_00381-Chlorella_variabilis:0.164396913):0.414179422):0.540676365):0.301742418):0.375980565,(((((((IRYH-2033960-Heterochlamydomonas_inaequalis:0.387820442,((Chlamydomonas_reinhardtii_PLR-like_:0.0,Chlre_v5_5-Cre11_g477200_t1_2-Chlamydomonas_reinhardtii:0.0):0.313281452,QRTH-2040997-Chloromonas_perforata:0.302506017):0.338899247):0.180428005,((ETGN-2001299-Botryococcus_braunii:0.097192372,ETGN-2009641-Botryococcus_braunii:0.080994636):0.446991641,(ZNUM-2002118-Leptosira_obovata:0.472847129,EATP-2034425-EATP-Microthamnion_kuetzigianum-2_samples_combined:0.164332808):0.337110637):0.201677687):0.188566427,(((BAZF-2006540-Chaetopeltis_orbicularis:0.0,BAZF-2006539-Chaetopeltis_orbicularis:0.0):0.660352940,PQED-2051469-Gloeochaete_wittrockiana:0.718743996):0.168454791,(RSOF-2008002-Glaucosphaera_vacuolata:0.469323471,DZPJ-2051863-Cylindrocapsa_geminella:0.827637718):0.136194656):0.051924626):0.120691835,(VMXJ-2121730-Leucobryum_albidum:0.279190091,HPXA-2131386-Ptilidium_pulcherrimum:0.506582453):0.947545670):0.074820406,TFYI-2003869-Marchantia_emarginata:0.704211392):0.124549557,(JKAA-2179486-Selaginella_wallacei:0.803349587,GOWD-2081347-Sphagnum_lescurii:0.523431834):0.360690963):0.141321991,(JKKI-2057061-Lobomonas_rostrata:0.788604519,BNCU-2017030-Radula_lindenbergia:1.278537676):0.084113315):0.292831670):0.339963657,((FPCO-2026667-Interfilum_paradoxum:0.224721713,((((Klebsormidium_nitens_PLR-like_:0.0,Klefl_v1_0-kfl00017_0610-Klebsormidium_flaccidum:0.0):0.058598242,FQLP-2030827-Klebsormidium_subtile:0.023963655):0.042811087,(Klefl_v1_0-kfl00402_0160-Klebsormidium_flaccidum:0.061609074,FQLP-2007761-Klebsormidium_subtile:0.056938865):0.015432918):0.018050381,Klefl_v1_0-kfl00017_0600-Klebsormidium_flaccidum:0.068667715):0.122452271):0.144829170,(Klefl_v1_0-kfl00034_0150-Klebsormidium_flaccidum:0.305710852,FPCO-2025721-Interfilum_paradoxum:0.259435203):0.120581992):0.503783224):0.096230360):0.206463519,(KUXM-2000066-Selaginella_selaginoides:0.621153695,((KUXM-2010445-Selaginella_selaginoides:0.518541513,(((MUNP-2003756-Piper_auritum:0.000000005,MUNP-2003757-Piper_auritum:0.013375274):0.431665106,((VIBO-2074059-Osmunda_javanica:0.215955112,((((EWXK-2010470-Thyrsopteris_elegans:0.078811458,((PIVW-2011047-Ceratopteris_thalictroides:0.0,PIVW-2011048-Ceratopteris_thalictroides:0.0):0.255752643,(FLTD-2008493-Pteris_ensigormis:0.096698595,(UJTT-2025826-Pityrogramma_trifoliata:0.125102565,WQML-2008990-Cryptogramma_acrostichoides:0.120555600):0.023412771):0.059788214):0.183495172):0.106889085,((EWXK-2000996-Thyrsopteris_elegans:0.087551903,UWOD-2137810-Plagiogyria_japonica:0.095728272):0.022703142,(MTGC-2009039-Dennstaedtia:0.119089897,(NWWI-2034189-Nephrolepis_exaltata:0.150500381,((((OQWW-2017833-Davallia_fejeensis:0.121977760,(NWWI-2008621-Nephrolepis_exaltata:0.006333425,(NWWI-2008623-Nephrolepis_exaltata:0.032207491,(NWWI-2008622-Nephrolepis_exaltata:0.003460827,NWWI-2008620-Nephrolepis_exaltata:0.000000005):0.000000005):0.019148962):0.068675533):0.050241259,RFRB-2034180-Didymochlaena_truncatula:0.134582381):0.007299412,((((AFPO-2008569-Blechnum_spicant-gametophyte:0.045363355,(VITX-2088941-Blechnum_spicant:0.027462030,UFJN-2085627-Diplazium_wichurae:0.040500733):0.018280966):0.029737148,MROH-2004360-Thelypteris_acuminata:0.106793839):0.021411757,(RICC-2001311-Cystopteris_reevesiana:0.000000005,RICC-2001312-Cystopteris_reevesiana:0.000000005):0.085276913):0.007458640,VITX-2012840-Blechnum_spicant:0.079305667):0.020587513):0.028654368,PSKY-2003762-Asplenium_nidus:0.250798868):0.031152411):0.088564540):0.197173692):0.057782397):0.090661190,(QIAD-2005744-Hymenophyllum_bivalve:0.147610519,QIAD-2005745-Hymenophyllum_bivalve:0.108621084):0.059730744):0.026258811,(NOKI-2017019-Lindsaea_linearis:0.094556028,(MEKP-2098010-Dipteris_conjugata:0.069714775,MEKP-2100931-Dipteris_conjugata:0.127598912):0.011572252):0.043303271):0.145771270):0.106511896,(((IFLI-2143577-Callitris_gracilis-March:0.112429476,(EFMS-2079821-Torreya_taxifolia:0.027912129,IAJW-2149040-Amentotaxus_argotaenia:0.041268076):0.032985092):0.304258442,((WLIC-2017336-Dioon_edule:0.106864262,((QHBI-2012752-Falcatifolium_taxoides-A:0.101855101,(BUWV-2011281-Platycladus_orientalis:0.047678826,VFYZ-2009030-Thuja_plicata:0.011079475):0.097044682):0.048245911,(Tsuga_heterophylla_PLR_:0.114272642,((Thuja_plicata_PLR_:0.038438924,NKIN-2006656-Thujopsis_dolabrata:0.076003848):0.098944110,(OXGJ-2004119-Glyptostrobus_pensilis:0.056257838,QNGJ-2069362-Cupressus_dupreziana:0.098842317):0.017662191):0.148864234):0.028349662):0.037819620):0.044661303,((HQOM-2009457-Torreya_nucifera:0.102672736,MHGD-2071798-Microcachrys_tetragona:0.109674129):0.109925915,((YZRI-2007595-Annona_muricata:0.142798582,((XRLM-2074327-Buddleja_lindleyana:0.103624893,(Forsythia_intermedia_PLR_:0.050823137,KTAR-2138832-Chionanthus_retusus:0.101725357):0.062110779):0.064817270,((AUIP-2030187-Phelline_lucida:0.097157732,((PAWA-2010138-Aristolochia_elegans:0.217706684,((Linum_album_PLR_:0.041527315,VXOD-2000289-Linum_tenuifolium:0.055000678):0.074835921,OODC-2080627-Linum_bienne-CN_107293:0.074893687):0.042233991):0.036374270,YSRZ-2016241-Fouqueria_macdougalli:0.087731932):0.018515163):0.004930531,((UYED-2005832-Flaveria_sonorensis:0.037871153,JYMN-2013034-JYMN-Flaveria_brownii-2_samples_combined:0.028194347):0.148861551,IZLO-2006650-Lobelia_siphilitica:0.070910313):0.030416637):0.037957483):0.126841580):0.042608149,(((((XNLP-2088727-Manihot_grahamii:0.117767764,IEPQ-2018836-Salix_dasyclados:0.120768086):0.034312167,(BNDE-2018188-Hypericum_perforatum:0.160360149,IKFD-2051629-Quassia_amara:0.139684275):0.028210747):0.013731972,((LWDA-2005167-Alnus_serrulata:0.094675149,WEQK-2063179-Centella_asiatica:0.118922953):0.035758151,(((((TVSH-2069542-Bituminaria_bituminosa:0.040545887,VLNB-2017257-Gompholobium_polymorphum:0.033376282):0.023123904,Phavu_v1_0-Phvul_002G132400_1-Phaseolus_vulgaris:0.055471344):0.006848591,(UGJI-2001747-Lycopersicon_cheesmanii:0.195867659,ZSSR-2095995-Xanthicercis_zambesiaca:0.054866351):0.039765035):0.045043057,((ZETY-2013560-Hydrangea_quercifolia:0.132206099,HANM-2010435-Pholisma_arenarium:0.093175207):0.011831139,JGYZ-2001442-Holarrhena_pubescens:0.111264912):0.019576414):0.032621993,AQGE-2004538-Humulus_lupulus:0.129360363):0.015126810):0.027693848):0.011881779,FGDU-2012898-Syzygium_paniculatum:0.094374576):0.019370419,(GVCB-2044846-Oenothera_affinis-MTJ_529:0.138377667,((GCFE-2053997-Verbena_hastata:0.115438647,(FROP-2083168-FROP-Epifagus_virginiana-2_samples_combined:0.124919811,UTQR-2017073-Tabebuia_umbellate:0.055065687):0.020824197):0.070628279,((IPWB-2086101-Brassica_nigra:0.041599766,TZWR-2044053-Arabis_alpina:0.066840768):0.227686489,(JAFJ-2143866-Bougainvillea_spectabilis:0.169814051,FZQN-2013397-Silene_latifolia:0.134831471):0.047841127):0.042098482):0.024844080):0.011943890):0.055433810):0.137556339):0.108405368):0.055229338):0.079273129,((JZVE-2037546-Parasitaxus_usta:0.110377001,NKIN-2001868-Thujopsis_dolabrata:0.126876573):0.216088726,((ZFGK-2006663-Selaginella_kraussiana:0.106743346,JKAA-2009905-Selaginella_wallacei:0.214371579):0.061865696,(Selaginella_moellendorffii_PLR-like1_:0.241159185,(KUXM-2005443-Selaginella_selaginoides:0.000000005,(KUXM-2005444-Selaginella_selaginoides:0.0,KUXM-2005442-Selaginella_selaginoides:0.0):0.000000005):0.250492459):0.044248257):0.178497741):0.047294351):0.040170314):0.044460767):0.045564006,((KUXM-2010076-Selaginella_selaginoides:0.161347069,KUXM-2041265-Selaginella_selaginoides:0.235244311):0.056416073,(ZFGK-2039190-Selaginella_kraussiana:0.289366325,((Selaginella_moellendorffii_PLR-like2_:0.111935848,LGDQ-2001233-Selaginella_apoda:0.150426678):0.117327757,(ZFGK-2040270-Selaginella_kraussiana:0.187853633,JKAA-2013288-Selaginella_wallacei:0.245871053):0.064915288):0.051259252):0.061520983):0.138688715):0.043953498):0.046966013,(KUXM-2038331-Selaginella_selaginoides:0.090909838,ZFGK-2005295-Selaginella_kraussiana:0.578267049):0.248537595):0.051130348):0.083754110):0.051899076,(((ZFGK-2006315-Selaginella_kraussiana:0.191383692,JKAA-2010207-Selaginella_wallacei:0.238461928):0.485494124,(((VFYZ-2037120-Thuja_plicata:0.094282603,OXGJ-2007450-Glyptostrobus_pensilis:0.071952669):0.154043071,(GAMH-2052494-Tsuga_heterophylla:0.159743111,(IOVS-2002490-Pseudotsuga_menziesii:0.142390420,DZQM-2012683-Pinus_radiata:0.126091465):0.030646663):0.074742947):0.121313765,(Ambtr_v1_0_27-AmTr_v1_0_scaffold00070_105-Amborella_trichopoda:0.387794431,((KZED-2000826-Senna_hebecarpa:0.377586890,(((QICX-2148636-Ailanthus_altissima:0.145491734,((TLCA-2022331-TLCA-Oenothera_speciosa-5_samples_combined:0.042356467,CJGZ-2003902-Oenothera_nana-MTJ_0233:0.035756485):0.082879518,((Clarkia_breweri_IGS_:0.024076745,Clarkia_breweri_EGS1_:0.020346156):0.120253936,JKNQ-2010660-Oenothera_suffulta_suffulta-MTJ_92:0.189158656):0.032774649):0.185607105):0.034967417,((YRHD-2052503-Antirrhinum_braun-blanquetii:0.091706770,(Ocimum_tenuiflorum_EGS_:0.142640913,FDMM-2089007-Rosmarinus_officinalis:0.118944517):0.085679743):0.091264770,(ZJRC-2012653-ZJRC-Sambucus_canadensis-2_samples_combined:0.108926820,AUIP-2017220-Phelline_lucida:0.306025350):0.026619829):0.083984365):0.006072988,HTIP-2055665-Paeonia_lactiflora:0.154355769):0.031779874):0.095522764,(Pimpinella_anisum_AIS_:0.373478898,((Petunia_hybrida_IGS_:0.150638353,NHAG-2010268-Ipomoea_nil:0.224286243):0.100258905,((Nelnu_v1_0-NNU_018535_RA-Nelumbo_nucifera:0.180695857,(Piper_regnellii_PPS_:0.201120748,JAFJ-2015984-Bougainvillea_spectabilis:0.256753026):0.041781649):0.036318944,((Larrea_tridentata_PPS_:0.141451860,(EHNF-2002671-Dillenia_indica:0.189616576,HTIP-2054678-Paeonia_lactiflora:0.135952773):0.015781448):0.022865637,WAXR-2040121-Litchi_chinensis:0.317301549):0.025868635):0.020310510):0.034537883):0.047023383):0.085645716):0.064292055):0.303218322):0.037772472,((RSCE-2055540-Wollemia_nobilis:0.125479398,JRNA-2012102-Phyllocladus_hypohyllus:0.193745618):0.182768665,((AWQB-2002320-Picea_engelmanii:0.160036020,WLIC-2119938-Dioon_edule:0.160087836):0.071540915,((((NKIN-2006291-Thujopsis_dolabrata:0.077121859,XTZO-2054326-Araucaria_rulei:0.132375072):0.019489092,OXGJ-2010243-Glyptostrobus_pensilis:0.051741575):0.104601825,GGEA-2015601-Cedrus_libani:0.113123689):0.101407591,(((SART-2007383-Xeronema_callistemon:0.071207512,(CMCY-2155193-Hesperaloe_parviflora:0.121778360,(RQZP-2140753-Nolina_bigelorii:0.022466528,YBML-2028429-Yucca_brevifolia:0.047070648):0.046386001):0.062307665):0.104318479,(MWYQ-2005601-Smilax_bona_nox:0.159680429,EFCZ-2221308-EFCZ-Eleusine_coracana-4_samples_combined:0.227682766):0.028104733):0.073427678,(BHYC-2049386-Linum_lewisii:0.204948085,((((Fragaria_ananassa_LAR_:0.078832650,SQCF-2006621-Dryas_octopetala:0.046402127):0.088654908,((CKDK-2093233-Ochna_serrulata:0.185574436,(TDTF-2015303-Salix_sachalinensis:0.112389431,GLVK-2006351-Salix_eriocephala:0.071921930):0.066661921):0.036827552,Theca_v1_1-Thecc1EG011870t1-Theobroma_cacao:0.146312531):0.019526362):0.007292927,((YQIJ-2005632-Phacelia_campanularia:0.170262974,(QUTB-2075585-Aextoxicon_punctatum:0.054447418,HAEU-2053751-Berberidopsis_beckleri:0.057276543):0.027940458):0.031218398,((HAEU-2050156-Berberidopsis_beckleri:0.059255018,(((WXVX-2009315-Ledum_palustre:0.132504521,SWGX-2068710-Tetrazygia_bicolor:0.200558491):0.035686058,(TVCU-2006094-Ochna_mossambicensis:0.170063525,OSIP-2125743-Garcinia_livingstonei:0.174482343):0.038330505):0.011481122,HENI-2051959-Quercus_shumardii:0.142724171):0.047664443):0.049422554,((WFBF-2006916-Podophyllum_peltatum:0.218417827,AYMT-2110092-Eucalyptus_leucoxylon-March:0.236744052):0.000000005,DHPO-2076351-Eupomatia_bennettii:0.188669822):0.035825363):0.060388646):0.031091513):0.018360777,(RKLL-2004322-Copaifera_officianalis:0.152304119,Desmodium_uncinatum_LAR_:0.166442466):0.098326684):0.058197467):0.082696526):0.253125359):0.038418222):0.035040024):0.443457074):0.061728762):0.033055011,((NHIX-2054175-Colchicum_autumnale:0.197430565,((BCGB-2000703-Cinnamomum_camphora:0.120974754,KRJP-2001485-Peumus_boldus:0.057369516):0.043221006,(CCID-2068223-Akebia_trifoliata:0.115467102,(((WXVX-2066954-Ledum_palustre:0.148530670,(UFHF-2014594-Galax_urceolata-tetraploid:0.132846587,HANM-2009926-Pholisma_arenarium:0.164979664):0.012237283):0.002473280,(NAUM-2012034-Ipomoea_lindheimeri:0.176086290,(((CLMX-2037673-Escallonia_rubra:0.114886157,LNER-2005206-Casuarina_glauca:0.178514500):0.022999536,(FWCQ-2045440-Garcinia_oblongiflolia:0.188783010,(Betvu_v1_1-Bv9_223410_izwy_t2-Beta_vulgaris:0.130802637,(OLES-2029203-Schiedea_membranacea:0.177148833,(GJNX-2080742-Cypselea_humifusum:0.047998131,OMYK-2142503-OMYK-Trianthemum_portulacastrum-2_samples_combined:0.047299434):0.075750556):0.006708498):0.029728410):0.025770842):0.011170073,(Manes_v4_1-cassava4_1_012445m-Manihot_esculenta:0.119293851,PXYR-2008120-Euphorbia_pekinensis:0.157593348):0.100660991):0.033759932):0.012600742):0.017244931,(JOIS-2003446-Koeberlina_spinosa:0.155838835,QIEH-2067224-Cotoneaster_transcaucasicus:0.164676005):0.044595000):0.079045859):0.067098121):0.171639522):0.376343425,((ZFGK-2007804-Selaginella_kraussiana:0.222676530,(JKAA-2002842-Selaginella_wallacei:0.244549502,KUXM-2010946-Selaginella_selaginoides:0.352253172):0.110106561):0.228336255,(AKXB-2066296-Phaeomegaceros_coriaceus:0.809014895,(VIBO-2077417-Osmunda_javanica:0.135898460,((QIAD-2047672-Hymenophyllum_bivalve:0.196200160,MEKP-2015261-Dipteris_conjugata:0.094189760):0.053754373,((PSKY-2014200-Asplenium_nidus:0.123486534,YOWV-2003070-Cystopteris_protrusa:0.097885607):0.113298086,(UWOD-2006675-Plagiogyria_japonica:0.075384561,PNZO-2027638-Culcita_macrocarpa:0.107361900):0.034726070):0.071362633):0.056803608):0.277984994):0.058681002):0.026686484):0.076567591):0.031185179):0.020677164,((((WZYK-2005160-Bazzania_trilobata:0.222452075,((HPXA-2003200-Ptilidium_pulcherrimum:0.0,HPXA-2003198-Ptilidium_pulcherrimum:0.0):0.109375819,UUHD-2147649-Porella_pinnata:0.165413041):0.083439297):0.181967891,((TFYI-2070783-Marchantia_emarginata:0.060541865,HMHL-2051764-Marchantia_paleacea-non_mycorrizal:0.130880366):0.180786400,TXVB-2000437-Lunularia_cruciata:0.291471132):0.150198923):0.272837122,((((HPXA-2019945-Ptilidium_pulcherrimum:0.293373627,((HPXA-2004013-Ptilidium_pulcherrimum:0.202365492,HPXA-2004014-Ptilidium_pulcherrimum:0.107020834):0.098902234,(UUHD-2015092-Porella_pinnata:0.106555432,UUHD-2010718-Porella_pinnata:0.149527526):0.056608794):0.035379503):0.018014021,(BNCU-2085839-Radula_lindenbergia:0.174150316,BNCU-2008805-Radula_lindenbergia:0.189353317):0.114652832):0.053097186,((WZYK-2003469-Bazzania_trilobata:0.303210469,WZYK-2000342-Bazzania_trilobata:0.225245688):0.074499229,(WZYK-2014513-Bazzania_trilobata:0.372668470,(WZYK-2009633-Bazzania_trilobata:0.186436578,WZYK-2013726-Bazzania_trilobata:0.210110913):0.047779351):0.031286933):0.034257710):0.230655090,((BNCU-2016550-Radula_lindenbergia:0.000000005,BNCU-2016551-Radula_lindenbergia:0.000000005):0.568073972,((HPXA-2016794-Ptilidium_pulcherrimum:0.149950354,UUHD-2146898-Porella_pinnata:0.101921885):0.019477639,(WZYK-2016729-Bazzania_trilobata:0.108518335,(BNCU-2003090-Radula_lindenbergia:0.073543018,(BNCU-2084921-Radula_lindenbergia:0.133439953,BNCU-2018297-Radula_lindenbergia:0.163413217):0.036478870):0.131918169):0.031713089):0.117062076):0.237619037):0.082801820):0.053477387,(((((RCBT-2015455-Sphagnum_palustre:0.0,RCBT-2015454-Sphagnum_palustre:0.0):0.020539417,(UHLI-2010235-Sphagnum_recurvatum:0.035723818,GOWD-2019693-Sphagnum_lescurii:0.013030104):0.016632523):0.015606661,(GOWD-2018219-Sphagnum_lescurii:0.147778829,UHLI-2005988-Sphagnum_recurvatum:0.111433025):0.043507551):0.211524294,((((GOWD-2000241-Sphagnum_lescurii:0.000000005,(RCBT-2015254-Sphagnum_palustre:0.061064647,(UHLI-2002577-Sphagnum_recurvatum:0.013052846,UHLI-2002578-Sphagnum_recurvatum:0.031177999):0.064560191):0.035333767):0.010702412,(GOWD-2000239-Sphagnum_lescurii:0.000000005,GOWD-2000240-Sphagnum_lescurii:0.028266865):0.026602810):0.164220478,(RCBT-2025315-Sphagnum_palustre:0.182018862,(UHLI-2018683-Sphagnum_recurvatum:0.000000005,((RCBT-2010487-Sphagnum_palustre:0.0,RCBT-2010486-Sphagnum_palustre:0.0):0.043433241,(GOWD-2081731-Sphagnum_lescurii:0.025348441,UHLI-2084424-Sphagnum_recurvatum:0.015520989):0.015967072):0.033778973):0.065806026):0.183328389):0.143263290,(WOGB-2014576-Andreaea_rupestris:0.426120047,((HVBQ-2022578-Tetraphis_pellucida:0.242039970,(HVBQ-2003576-Tetraphis_pellucida:0.105393769,HVBQ-2009875-Tetraphis_pellucida:0.091999337):0.055873875):0.148399901,((HVBQ-2117680-Tetraphis_pellucida:0.165297898,HVBQ-2002082-Tetraphis_pellucida:0.138568680):0.158565473,(((CMEQ-2007026-Orthotrichum_lyellii:0.045644764,CMEQ-2007027-Orthotrichum_lyellii:0.072396702):0.181695524,((HVBQ-2014230-Tetraphis_pellucida:0.072228848,(HVBQ-2014231-Tetraphis_pellucida:0.000000005,HVBQ-2014232-Tetraphis_pellucida:0.095211813):0.076791590):0.036806786,(CMEQ-2016218-Orthotrichum_lyellii:0.230190447,(TMAJ-2181594-Neckera_douglasii:0.057726186,EEMJ-2000954-Thuidium_delicatulum:0.155422805):0.037428224):0.020954569):0.060725119):0.135424306,(BGXB-2078046-Plagiomnium_insigne:0.201098005,(VMXJ-2011019-Leucobryum_albidum:0.139661950,RGKI-2004601-Leucobryum_glaucum:0.210947150):0.071576827):0.130096694):0.125182200):0.060639501):0.072945735):0.093603283):0.039412951):0.063391756,((AKXB-2064674-Phaeomegaceros_coriaceus:0.029089168,(TCBC-2010819-Megaceros_vincentianus:0.0,TCBC-2010818-Megaceros_vincentianus:0.0):0.033628770):0.288087634,(AKXB-2067781-Phaeomegaceros_coriaceus:0.331593485,((AKXB-2005589-Phaeomegaceros_coriaceus:0.215703669,(((AKXB-2001849-Phaeomegaceros_coriaceus:0.000000005,AKXB-2001847-Phaeomegaceros_coriaceus:0.000000005):0.046899572,((AKXB-2001848-Phaeomegaceros_coriaceus:0.004141976,TCBC-2012345-Megaceros_vincentianus:0.053535683):0.034317587,TCBC-2019354-Megaceros_vincentianus:0.048408323):0.016007205):0.130456841,(AKXB-2007298-Phaeomegaceros_coriaceus:0.042542418,(TCBC-2007730-Megaceros_vincentianus:0.000000005,TCBC-2007728-Megaceros_vincentianus:0.010029845):0.083536134):0.122605526):0.036376875):0.065964942,((AKXB-2006615-Phaeomegaceros_coriaceus:0.000000005,AKXB-2006616-Phaeomegaceros_coriaceus:0.004024320):0.282445715,(AKXB-2063859-Phaeomegaceros_coriaceus:0.027423971,TCBC-2007729-Megaceros_vincentianus:0.054708316):0.401156137):0.069838874):0.006646393):0.016887693):0.222820999):0.064542165):0.036263484):0.040774926,((((EWXK-2000842-Thyrsopteris_elegans:0.077782378,(UWOD-2023992-Plagiogyria_japonica:0.085109458,(EWXK-2000843-Thyrsopteris_elegans:0.000000005,EWXK-2000844-Thyrsopteris_elegans:0.009784051):0.079081916):0.045781091):0.146731786,(UFJN-2010499-Diplazium_wichurae:0.181572920,NOKI-2007156-Lindsaea_linearis:0.181078738):0.083204448):0.318296048,(UGNK-2020446-Marattia_attenuata:0.207850038,(MEKP-2101772-Dipteris_conjugata:0.169259751,(MEKP-2006789-Dipteris_conjugata:0.0,MEKP-2006790-Dipteris_conjugata:0.0):0.283709957):0.197766690):0.078565825):0.129777881,(EEAQ-2009408-Sceptridium_dissectum:0.205319351,((UGNK-2021731-Marattia_attenuata:0.187917271,(PNZO-2016614-Culcita_macrocarpa:0.000000005,PNZO-2016613-Culcita_macrocarpa:0.004678996):0.282730048):0.136659896,(EEAQ-2016820-Sceptridium_dissectum:0.338544957,UGNK-2006528-Marattia_attenuata:0.176435176):0.059526196):0.042961986):0.052583795):0.081419290):0.018261312):0.087878906):0.004180815):0.038088406):0.092820198,((DGXS-2004806-Freycinetia_multiflora:0.187094521,(XFJG-2001226-Maianthemum_canadense:0.143778481,YBML-2018485-Yucca_brevifolia:0.222162542):0.025679211):0.098736729,((YPIC-2013776-Microstegium_vimineum:0.314179648,(HPXA-2007569-Ptilidium_pulcherrimum:0.476779214,XPAF-2000155-Mapania_palustris:0.000000005):0.105037776):0.048306437,((BYPY-2079675-Brocchinia_reducta:0.108012750,((ZMGN-2010738-Neurachne_munroi:0.075033206,(IADP-2014327-Deschampsia_cespitosa:0.063835500,ENAU-2017809-Spermatozopsis_similis:0.088962625):0.078337814):0.064425178,BSTR-2011102-Chondropetalum_tectorum:0.148885351):0.029497309):0.044290367,((HDWF-2005912-Francoa_appendiculata:0.094663219,SVTS-2001075-Drimia_altissima:0.028960355):0.055221392,UZXL-2013107-Disporopsis_pernyi:0.216135579):0.010341608):0.037694708):0.023760559):0.064261860):0.015284115):0.016570409,(VGVI-2008936-Dendropemon_caribaeus:0.278616260,(Manes_v4_1-cassava4_1_034037m-Manihot_esculenta:0.163960211,Ambtr_v1_0_27-AmTr_v1_0_scaffold00018_72-Amborella_trichopoda:0.147757703):0.030281438):0.032885227):0.027320293):0.014215328):0.021662393,(ZUHO-2011764-Anemone_hupenhensis:0.114070870,OHAE-2001817-Polygala_lutea:0.065141323):0.041365474):0.028807904,JMTE-2015639-Pseudoscourfieldia_marina:0.162582079):0.000000006,((((((VYDM-2129688-VYDM-Orobanche_fasciculata-2_samples_combined:0.067419304,(MXFG-2014601-Pinguicula_agnata:0.170559952,(JCMU-2005036-Pinguicula_caudata:0.028698123,MXFG-2000385-Pinguicula_agnata:0.058626099):0.124408762):0.024531615):0.008834873,CLRW-2030804-Bacopa_caroliniana:0.103377734):0.021763958,Forsythia_intermedia_PCBER_:0.072425112):0.039527110,((Petunia_hybrida_EGS_:0.037463274,(Nicotiana_tabacum_PCBER_:0.068030997,LWCK-2011690-Lycium_barbarum:0.163075690):0.028158041):0.059216898,(DIHD-2017857-Heliotropium_tenellum-juvenile_leaf:0.093825652,OLXF-2091268-Hibiscus_cannabinus:0.131690312):0.046293917):0.014973147):0.022774035,(BCAA-2071638-Kirkia_wilmsii:0.109014379,EDEQ-2006436-Wrightia_natalensis:0.139506734):0.035596783):0.004766285,MVSE-2009482-Griselinia_littoralis:0.151719926):0.021566610):0.015539221,(Larrea_tridentata_APS_:0.124371096,(Populus_trichorpa_PCBER_:0.134051330,(ZBVT-2001229-Chrysobalanus_icaco:0.102530475,(RPPC-2001480-Erythroxylum_coca:0.151135720,(VXOD-2045741-Linum_tenuifolium:0.048229799,HNCF-2008210-Linum_hirsutum:0.055501251):0.045644463):0.019174222):0.016192701):0.036699636):0.018712217):0.011326236):0.017934877);\n"
     ]
    }
   ],
   "source": [
    "tail analyses/\"$inseq\"_fasttrees/\"$appendix\"/\"$inseq\"_\"$appendix\"_fasttree.log"
   ]
  },
  {
   "cell_type": "code",
   "execution_count": 146,
   "metadata": {},
   "outputs": [
    {
     "name": "stdout",
     "output_type": "stream",
     "text": [
      "1kP_LAR_orthogroup_random700_guidev3_aligned-mafft-linsi_trim-gt6-seq80_fasttree.log\n",
      "1kP_LAR_orthogroup_random700_guidev3_aligned-mafft-linsi_trim-gt6-seq80_fasttree.stderr\n",
      "1kP_LAR_orthogroup_random700_guidev3_aligned-mafft-linsi_trim-gt6-seq80_fasttree.tree\n"
     ]
    }
   ],
   "source": [
    "ls analyses/\"$inseq\"_fasttrees/\"$appendix\"/"
   ]
  },
  {
   "cell_type": "markdown",
   "metadata": {},
   "source": [
    "## IQtree \n",
    "\n",
    "Now let's loop over all made aligments, making a tree. Choose your parameters wisely, this can take a long time\n",
    "\n",
    " * Are doing a first testrun? Have a look at the -fast option\n",
    " * No time to wait for propper bootstraps, use the ultrafast bootstrap option, -bb 1000 (Don't believe nodes with less than 95% bootstrap\n",
    " * Writing for your amazing manuscript? Do propper bootstraps! -b 1000\n",
    " \n",
    "Model finder, this is the best feature of iqtree. \n",
    "Evolution can happen in a lot of ways, and iqtree takes this into account. \n",
    "Use `-m TEST` to use modelfinder, or `-m MFP` for extended modelfinding (for your publication quality tree). \n",
    "Modelfinder, especially the extended version, can take a long time to calculate. \n",
    "So if you have done it once for a specific alignment, don't do it twice. ;)\n",
    "\n",
    "Now have a look at these examples and the manual:"
   ]
  },
  {
   "cell_type": "markdown",
   "metadata": {},
   "source": [
    "### iqtree ultra fast bootstrap"
   ]
  },
  {
   "cell_type": "code",
   "execution_count": 149,
   "metadata": {},
   "outputs": [
    {
     "name": "stdout",
     "output_type": "stream",
     "text": [
      "data/alignments_trimmed/1kP_LAR_orthogroup_random700_guidev3_aligned-mafft-linsi_trim-gt6-seq80.fasta\n"
     ]
    }
   ],
   "source": [
    "ls data/alignments_trimmed/\"$inseq\"_aligned*gt*.fasta"
   ]
  },
  {
   "cell_type": "code",
   "execution_count": 153,
   "metadata": {},
   "outputs": [
    {
     "name": "stdout",
     "output_type": "stream",
     "text": [
      "making a tree of file data/alignments_trimmed/1kP_LAR_orthogroup_random700_guidev3_aligned-mafft-linsi_trim-gt6-seq80.fasta\n",
      "aligned-mafft-linsi_trim-gt6-seq80\n",
      "[1] 19259\n"
     ]
    }
   ],
   "source": [
    "for a in data/alignments_trimmed/\"$inseq\"_aligned*gt*.fasta\n",
    "do echo \"making a tree of file $a\"\n",
    "   appendix=$(echo $a | cut -d '/' -f 3- | sed \"s/$inseq\\_//\" | sed \"s/.fasta//\")\n",
    "   echo $appendix\n",
    "   if   [ ! -d analyses/\"$inseq\"_trees ]\n",
    "   then mkdir  analyses/\"$inseq\"_trees\n",
    "   fi\n",
    "   if   [ ! -d analyses/\"$inseq\"_trees/\"$appendix\" ]\n",
    "   then mkdir  analyses/\"$inseq\"_trees/\"$appendix\" \n",
    "   fi\n",
    "   if   [ ! -f analyses/\"$inseq\"_trees/\"$appendix\"/\"$inseq\"_\"$appendix\"_iqtree-bb1000.tree ]\n",
    "   then     nice iqtree -s $a \\\n",
    "            -bb 2000 \\\n",
    "            -alrt 2000 \\\n",
    "            -nt AUTO \\\n",
    "            -ntmax 6  \\\n",
    "            -pre analyses/\"$inseq\"_trees/\"$appendix\"/\"$inseq\"_\"$appendix\"_iqtree-bb2000-shalrt2000 \\\n",
    "            2>  analyses/\"$inseq\"_trees/\"$appendix\"/\"$inseq\"_\"$appendix\"_iqtree-bb2000-shalrt2000 \\\n",
    "            >  analyses/\"$inseq\"_trees/\"$appendix\"/\"$inseq\"_\"$appendix\"_iqtree-bb2000-shalrt2000 \\\n",
    "            -m MFP && \\\n",
    "            cat analyses/\"$inseq\"_trees/\"$appendix\"/\"$inseq\"_\"$appendix\"_iqtree-bb2000-shalrt2000.out | mail -s LARguide3 laura &\n",
    "   fi\n",
    "done"
   ]
  },
  {
   "cell_type": "code",
   "execution_count": null,
   "metadata": {},
   "outputs": [],
   "source": [
    "ls analyses/\"$inseq\"_trees/aligned-mafft-*_trim-gt7/\"$inseq\"_*_iqtree-bb1000.*log -1"
   ]
  },
  {
   "cell_type": "code",
   "execution_count": 158,
   "metadata": {},
   "outputs": [
    {
     "name": "stdout",
     "output_type": "stream",
     "text": [
      "cat: analyses/1kP_LAR_orthogroup_random700_guidev3_trees/aligned-mafft-linsi_trim-gt6-seq80/1kP_LAR_orthogroup_random700_guidev3_aligned-mafft-linsi_trim-gt6-seq80_iqtree-bb2000-shalrt2000.out: No such file or directory\n",
      "mail: Null message body; hope that's ok\n",
      "Optimal log-likelihood: -127146.154\n",
      "Site proportion and rates:  (0.060,0.075) (0.060,0.193) (0.145,0.385) (0.143,0.632) (0.170,0.928) (0.152,1.240) (0.160,1.544) (0.089,2.064) (0.021,2.897)\n",
      "Parameters optimization took 1 rounds (2.572 sec)\n",
      "BEST SCORE FOUND : -127146.154\n",
      "\n",
      "Testing tree branches by SH-like aLRT with 2000 replicates...\n",
      "Alternative NNI shows better log-likelihood -127145.856 > -127146.154\n",
      "Alternative NNI shows better log-likelihood -127145.807 > -127146.154\n",
      "Alternative NNI shows better log-likelihood -127145.981 > -127146.154\n",
      "Alternative NNI shows better log-likelihood -127146.117 > -127146.154\n",
      "Alternative NNI shows better log-likelihood -127146.107 > -127146.154\n",
      "2.829 sec.\n",
      "Creating bootstrap support values...\n",
      "Split supports printed to NEXUS file analyses/1kP_LAR_orthogroup_random700_guidev3_trees/aligned-mafft-linsi_trim-gt6-seq80/1kP_LAR_orthogroup_random700_guidev3_aligned-mafft-linsi_trim-gt6-seq80_iqtree-bb2000-shalrt2000.splits.nex\n",
      "Total tree length: 132.281\n",
      "\n",
      "Total number of iterations: 391\n",
      "CPU time used for tree search: 29962.517 sec (8h:19m:22s)\n",
      "Wall-clock time used for tree search: 5182.733 sec (1h:26m:22s)\n",
      "Total CPU time used: 30599.623 sec (8h:29m:59s)\n",
      "Total wall-clock time used: 5309.693 sec (1h:28m:29s)\n",
      "\n",
      "Computing bootstrap consensus tree...\n",
      "Reading input file analyses/1kP_LAR_orthogroup_random700_guidev3_trees/aligned-mafft-linsi_trim-gt6-seq80/1kP_LAR_orthogroup_random700_guidev3_aligned-mafft-linsi_trim-gt6-seq80_iqtree-bb2000-shalrt2000.splits.nex...\n",
      "633 taxa and 3781 splits.\n",
      "Consensus tree written to analyses/1kP_LAR_orthogroup_random700_guidev3_trees/aligned-mafft-linsi_trim-gt6-seq80/1kP_LAR_orthogroup_random700_guidev3_aligned-mafft-linsi_trim-gt6-seq80_iqtree-bb2000-shalrt2000.contree\n",
      "Reading input trees file analyses/1kP_LAR_orthogroup_random700_guidev3_trees/aligned-mafft-linsi_trim-gt6-seq80/1kP_LAR_orthogroup_random700_guidev3_aligned-mafft-linsi_trim-gt6-seq80_iqtree-bb2000-shalrt2000.contree\n",
      "Log-likelihood of consensus tree: -127142.558\n",
      "\n",
      "Analysis results written to: \n",
      "  IQ-TREE report:                analyses/1kP_LAR_orthogroup_random700_guidev3_trees/aligned-mafft-linsi_trim-gt6-seq80/1kP_LAR_orthogroup_random700_guidev3_aligned-mafft-linsi_trim-gt6-seq80_iqtree-bb2000-shalrt2000.iqtree\n",
      "  Maximum-likelihood tree:       analyses/1kP_LAR_orthogroup_random700_guidev3_trees/aligned-mafft-linsi_trim-gt6-seq80/1kP_LAR_orthogroup_random700_guidev3_aligned-mafft-linsi_trim-gt6-seq80_iqtree-bb2000-shalrt2000.treefile\n",
      "  Likelihood distances:          analyses/1kP_LAR_orthogroup_random700_guidev3_trees/aligned-mafft-linsi_trim-gt6-seq80/1kP_LAR_orthogroup_random700_guidev3_aligned-mafft-linsi_trim-gt6-seq80_iqtree-bb2000-shalrt2000.mldist\n",
      "\n",
      "Ultrafast bootstrap approximation results written to:\n",
      "  Split support values:          analyses/1kP_LAR_orthogroup_random700_guidev3_trees/aligned-mafft-linsi_trim-gt6-seq80/1kP_LAR_orthogroup_random700_guidev3_aligned-mafft-linsi_trim-gt6-seq80_iqtree-bb2000-shalrt2000.splits.nex\n",
      "  Consensus tree:                analyses/1kP_LAR_orthogroup_random700_guidev3_trees/aligned-mafft-linsi_trim-gt6-seq80/1kP_LAR_orthogroup_random700_guidev3_aligned-mafft-linsi_trim-gt6-seq80_iqtree-bb2000-shalrt2000.contree\n",
      "  Screen log file:               analyses/1kP_LAR_orthogroup_random700_guidev3_trees/aligned-mafft-linsi_trim-gt6-seq80/1kP_LAR_orthogroup_random700_guidev3_aligned-mafft-linsi_trim-gt6-seq80_iqtree-bb2000-shalrt2000.log\n",
      "\n",
      "Date and Time: Fri May  1 21:58:45 2020\n",
      "[1]+  Done                    nice iqtree -s $a -bb 2000 -alrt 2000 -nt AUTO -ntmax 6 -pre analyses/\"$inseq\"_trees/\"$appendix\"/\"$inseq\"_\"$appendix\"_iqtree-bb2000-shalrt2000 -m MFP 2> analyses/\"$inseq\"_trees/\"$appendix\"/\"$inseq\"_\"$appendix\"_iqtree-bb2000-shalrt2000 > analyses/\"$inseq\"_trees/\"$appendix\"/\"$inseq\"_\"$appendix\"_iqtree-bb2000-shalrt2000 && cat analyses/\"$inseq\"_trees/\"$appendix\"/\"$inseq\"_\"$appendix\"_iqtree-bb2000-shalrt2000.out | mail -s LARguide3 laura\n",
      "You have new mail in /var/mail/laura\n"
     ]
    }
   ],
   "source": [
    "tail -n 40 analyses/\"$inseq\"_trees/aligned-mafft-*_trim-gt*/\"$inseq\"_*_iqtree-bb2000-shalrt2000.*log"
   ]
  },
  {
   "cell_type": "markdown",
   "metadata": {},
   "source": [
    "# tree storage\n",
    "\n",
    "find the trees in iTOL: https://itol.embl.de/shared/lauradijkhuizen"
   ]
  },
  {
   "cell_type": "markdown",
   "metadata": {},
   "source": [
    "What trees & alignments can I choose from"
   ]
  },
  {
   "cell_type": "code",
   "execution_count": null,
   "metadata": {
    "scrolled": true
   },
   "outputs": [],
   "source": [
    "ls -1 \"$inseq\"_trees/*/\"$inseq\"_*_iqtree-bb1000.log "
   ]
  },
  {
   "cell_type": "markdown",
   "metadata": {},
   "source": [
    "Manually set parameters for the script"
   ]
  },
  {
   "cell_type": "code",
   "execution_count": null,
   "metadata": {},
   "outputs": [],
   "source": [
    "inseq=LAR_orthogroup_LARselectionExtraFernsAndLycophytes\n",
    "appendix=aligned-mafft-linsi_trim-gt7"
   ]
  },
  {
   "cell_type": "code",
   "execution_count": null,
   "metadata": {},
   "outputs": [],
   "source": [
    "# can you find the alignment with these new parameters?\n",
    "ls ./alignments_trimmed/\"$inseq\"_\"$appendix\".fasta"
   ]
  },
  {
   "cell_type": "code",
   "execution_count": null,
   "metadata": {
    "scrolled": true
   },
   "outputs": [],
   "source": [
    "head \"$inseq\"_trees/\"$appendix\"/\"$inseq\"_*_iqtree-bb1000.log"
   ]
  },
  {
   "cell_type": "code",
   "execution_count": null,
   "metadata": {
    "scrolled": true
   },
   "outputs": [],
   "source": [
    "grep -i 'Best-fit model' \"$inseq\"_trees/\"$appendix\"/\"$inseq\"_*_iqtree-bb1000.log"
   ]
  },
  {
   "cell_type": "markdown",
   "metadata": {},
   "source": [
    "Copy pasting and adapting the command above to do \n",
    " * no modelfitting, I did that already\n",
    " * propper boostraps, just 200. (Minimum 100)\n",
    " * 12 threads\n",
    " * **new names**"
   ]
  },
  {
   "cell_type": "code",
   "execution_count": null,
   "metadata": {},
   "outputs": [],
   "source": [
    "iqtree -s ./alignments_trimmed/\"$inseq\"_\"$appendix\".fasta \\\n",
    "       -b 200 \\\n",
    "       -nt AUTO \\\n",
    "       -ntmax 12 \\\n",
    "       -pre \"$inseq\"_trees/\"$appendix\"/\"$inseq\"_\"$appendix\"_iqtree-b200 \\\n",
    "       -m LG+R9 \\\n",
    "       >      \"$inseq\"_trees/\"$appendix\"/\"$inseq\"_\"$appendix\"_iqtree-b200.stdout \\\n",
    "       && cat \"$inseq\"_trees/\"$appendix\"/\"$inseq\"_\"$appendix\"_iqtree-b200.stdout \\\n",
    "       | mail -s 'LAR tree lauraZolla Desktop' laura &\n",
    "       "
   ]
  },
  {
   "cell_type": "code",
   "execution_count": null,
   "metadata": {
    "scrolled": false
   },
   "outputs": [],
   "source": [
    "cat -n 80  \"$inseq\"_trees/\"$appendix\"/\"$inseq\"_\"$appendix\"_iqtree-b200.stdout"
   ]
  },
  {
   "cell_type": "markdown",
   "metadata": {},
   "source": [
    "### likelihood bootstrap thingy\n",
    "\n",
    "http://www.iqtree.org/doc/Tutorial\n",
    "\n",
    "https://www.ncbi.nlm.nih.gov/pubmed/16785212\n",
    "\n"
   ]
  },
  {
   "cell_type": "code",
   "execution_count": null,
   "metadata": {},
   "outputs": [],
   "source": [
    "nice iqtree -s ./alignments_trimmed/\"$inseq\"_\"$appendix\".fasta \\\n",
    "       -bb   1000 \\\n",
    "       -alrt 1000 \\\n",
    "       -nt AUTO \\\n",
    "       -ntmax $(nproc) \\\n",
    "       -pre \"$inseq\"_trees/\"$appendix\"/\"$inseq\"_\"$appendix\"_iqtree-bb1000-alrt1000 \\\n",
    "       -m LG+R9 \\\n",
    "       >      \"$inseq\"_trees/\"$appendix\"/\"$inseq\"_\"$appendix\"_iqtree-bb1000-alrt1000.stdout \\\n",
    "       && cat \"$inseq\"_trees/\"$appendix\"/\"$inseq\"_\"$appendix\"_iqtree-bb1000-alrt1000.stdout \\\n",
    "       | mail -s 'LAR tree alrt1000 lauraZolla Desktop' laura &\n",
    "       "
   ]
  },
  {
   "cell_type": "code",
   "execution_count": null,
   "metadata": {},
   "outputs": [],
   "source": [
    "tail -n 40 \"$inseq\"_trees/\"$appendix\"/\"$inseq\"_\"$appendix\"_iqtree-bb1000-alrt1000.stdout"
   ]
  }
 ],
 "metadata": {
  "kernelspec": {
   "display_name": "Bash",
   "language": "bash",
   "name": "bash"
  },
  "language_info": {
   "codemirror_mode": "shell",
   "file_extension": ".sh",
   "mimetype": "text/x-sh",
   "name": "bash"
  }
 },
 "nbformat": 4,
 "nbformat_minor": 2
}
